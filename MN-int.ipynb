{
 "cells": [
  {
   "cell_type": "markdown",
   "metadata": {
    "slideshow": {
     "slide_type": "slide"
    }
   },
   "source": [
    "## <center><strong>Metode Numerik</strong><br />\n",
    "<img alt=\"\" src=\"images/MetNum.png\" style=\"height: 200px;\" /></center>\n",
    "\n",
    "# <center><font color=\"blue\">Integral Numerik</font></center>\n",
    "\n",
    "<h2 id=\"(C)-Taufik-Sutanto---2019\" style=\"text-align: center;\">(C) Taufik Sutanto - 2019</h2>\n",
    "<h2 id=\"tau-data-Indonesia-~-https://tau-data.id\" style=\"text-align: center;\">tau-data Indonesia ~ <a href=\"https://tau-data.id\" target=\"_blank\"><span style=\"color: #0009ff;\">https://tau-data.id</span></a></h2>"
   ]
  },
  {
   "cell_type": "markdown",
   "metadata": {},
   "source": [
    "# Notes and Disclaimer\n",
    "\n",
    "* This notebook is part of the free (open knowledge) eLearning course at: https://tau-data.id/courses/\n",
    "* Some images are taken from several resources, we respect those images ownerships and put a reference/citation from where it is originated. Nevertheless, sometimes we are having trouble to find the origin of the image(s). If you are the owner of the image and would like the image taken-out (or want the citation to be revised) from this open knowledge course resources please contact us here with the details: https://tau-data.id/contact/  \n",
    "* Unless stated otherwise, in general tau-data permit its resources to be copied and-or modified for non-commercial purposes. With condition proper acknowledgement/citation is given."
   ]
  },
  {
   "cell_type": "markdown",
   "metadata": {
    "slideshow": {
     "slide_type": "slide"
    }
   },
   "source": [
    "IX. Integral Numerik:\n",
    "\n",
    "* Pendahuluan\n",
    "* Quadrature\n",
    "* Trapezoidal \n",
    "* Simpson"
   ]
  },
  {
   "cell_type": "markdown",
   "metadata": {
    "slideshow": {
     "slide_type": "slide"
    }
   },
   "source": [
    "<h1 id=\"Integral-Numerik---Quadrature-(Kalkulus)\">Integral Numerik - Quadrature (Kalkulus)</h1>\n",
    "\n",
    "<p><img alt=\"\" src=\"images/Integral_Quadrature_Pic.png\" style=\"width: 527px; height: 256px;\" /></p>\n",
    "\n",
    "* Definite Integral (berbatas) $ \\int_a^b f(x) dx $\n",
    "* Apa maknanya?\n",
    "* Apa syaratnya?\n",
    "* Apa contoh aplikasinya?\n",
    "* Segi empat sebanyak-banyaknya atau sekecil-kecilnya?\n",
    "* Dengan kata lain, sebaiknya parameternya lebar segi empat atau banyak segi empat?\n",
    "* Bagaimana jika kurva dibawah sumbu x ?\n",
    "* Solusi Eksak $ \\int_a^b f(x) dx = F(b) - F(a)$ dimana F adalah integral dari f"
   ]
  },
  {
   "cell_type": "markdown",
   "metadata": {
    "slideshow": {
     "slide_type": "slide"
    }
   },
   "source": [
    "# Definisi menurut Kalkulus\n",
    "\n",
    "<p><img alt=\"\" src=\"images/Integral_Quadrature_Formula.png\" style=\"width: 586px; height: 200px;\" /></p>"
   ]
  },
  {
   "cell_type": "markdown",
   "metadata": {
    "slideshow": {
     "slide_type": "slide"
    }
   },
   "source": [
    "<h1 id=\"Are-segi-empat-(persegi-panjang/Quadrelateral)\">Luas segi empat (persegi panjang/Quadrilateral-Rectangle)</h1>\n",
    "\n",
    "<p><img alt=\"\" src=\"images/Integral_Quadrature_Pic.png\" /></p>\n"
   ]
  },
  {
   "cell_type": "markdown",
   "metadata": {
    "slideshow": {
     "slide_type": "slide"
    }
   },
   "source": [
    "<h1 id=\"Error-Menurut-Teori-(Analitik)\">Error Menurut Teori (Analitik)</h1>\n",
    "\n",
    "<img alt=\"\" src=\"images/Quadrature_Analytic_Error.png\" style=\"width: 800px ; height: 140px\" />\n",
    "\n",
    "* Bagaimana memahami teorema ini?\n",
    "\n",
    "<h3 id=\"Secara-visual\"><font color=\"blue\">Secara visual</font></h3>\n",
    "\n",
    "<p><img alt=\"\" src=\"images/Quadrature_Graphics_Error.png\" style=\"width: 800px; height: 456px;\" /></p>\n",
    "\n",
    "<h3 id=\"Eksperimen-Numerik-(empiris)?\"><font color=\"blue\">Eksperimen Numerik (empiris)?</font></h3>\n"
   ]
  },
  {
   "cell_type": "markdown",
   "metadata": {
    "slideshow": {
     "slide_type": "slide"
    }
   },
   "source": [
    "## Iterasi Quadrature\n",
    "\n",
    "<p><img alt=\"\" src=\"images/Integral_Quadrature_Pic.png\" style=\"width: 527px; height: 256px;\" /></p>\n",
    "\n",
    "* Misal lebar segi empat sama = $h$\n",
    "* Jika $a=x_0 < x_1 < x_2 < ... < x_n = b$\n",
    "* Maka total luas segi empat = $$ h \\sum_{i=1}^n f(x_i) $$ \n",
    "\n",
    "#### Studi Kasus\n",
    "\n",
    "* f(x) = sin(x) pada interval $[0, \\pi]$\n",
    "* h = 0.01  ==> $n = round(\\frac{\\pi}{h})$\n",
    "* Solusi Eksak = $- cos(\\pi) + cos(0) = 2$"
   ]
  },
  {
   "cell_type": "code",
   "execution_count": null,
   "metadata": {
    "slideshow": {
     "slide_type": "slide"
    }
   },
   "outputs": [],
   "source": [
    "# Definisi Fungsi dan parameter-parameter permasalahan\n",
    "import numpy as np\n",
    "\n",
    "def f(x):\n",
    "    #return np.sin(x) # change this to any function\n",
    "    return x**2+x-7#x**2 + 7\n",
    "n = 4\n",
    "a = 0\n",
    "b = 1 #np.pi #1 #314.1592653589793\n",
    "Xi = np.linspace(a,b,n)\n",
    "h = (b-a)/n\n",
    "eksak = 2"
   ]
  },
  {
   "cell_type": "code",
   "execution_count": null,
   "metadata": {},
   "outputs": [],
   "source": [
    "def F(x):\n",
    "    return (1/3)*x**3 + 0.5*x**2-7*x\n",
    "\n",
    "eksak = abs(F(1)-F(0))\n",
    "eksak"
   ]
  },
  {
   "cell_type": "code",
   "execution_count": null,
   "metadata": {
    "slideshow": {
     "slide_type": "slide"
    }
   },
   "outputs": [],
   "source": [
    "Hasil_Integral = 0\n",
    "\n",
    "for x in Xi:\n",
    "    Hasil_Integral = Hasil_Integral + abs(f(x)) # Mengapa absolut?\n",
    "\n",
    "Hasil_Integral = Hasil_Integral * h\n",
    "print('Hasil integral = ', Hasil_Integral)\n",
    "print('Error mutlak = ', abs(Hasil_Integral-eksak))\n",
    "print('Error Relatif = ', abs(Hasil_Integral-eksak)/eksak)"
   ]
  },
  {
   "cell_type": "markdown",
   "metadata": {
    "slideshow": {
     "slide_type": "slide"
    }
   },
   "source": [
    "# Eksperimen jika \"h\" semakin mengecil (n membesar)?"
   ]
  },
  {
   "cell_type": "code",
   "execution_count": null,
   "metadata": {
    "slideshow": {
     "slide_type": "slide"
    }
   },
   "outputs": [],
   "source": [
    "N = [n for n in range(2,100)]\n",
    "e1 = [] # Error\n",
    "for n in N:\n",
    "    Xi = np.linspace(a,b,n)\n",
    "    h = (b-a)/n\n",
    "    integral = 0\n",
    "    for x in Xi:\n",
    "        integral = integral + abs(f(x))\n",
    "    e1.append(abs(h*integral-eksak))"
   ]
  },
  {
   "cell_type": "code",
   "execution_count": null,
   "metadata": {
    "slideshow": {
     "slide_type": "slide"
    }
   },
   "outputs": [],
   "source": [
    "# Let's plot the error\n",
    "import matplotlib.pyplot as plt\n",
    "\n",
    "plt.plot(N, e1, 'r')\n",
    "plt.xlabel('# of partisi');plt.ylabel('error');plt.show()\n",
    "# Secara numerik permasalahan integral jauh lebih mudah ketimbang turunan .... kenapa?"
   ]
  },
  {
   "cell_type": "markdown",
   "metadata": {
    "slideshow": {
     "slide_type": "slide"
    }
   },
   "source": [
    "# Let's stop and think of how this works\n",
    "\n",
    "* Secara logika berarti seharusnya kalau pakai trapesium dan bukan segi empat, maka errornya lebih kecil."
   ]
  },
  {
   "cell_type": "markdown",
   "metadata": {
    "slideshow": {
     "slide_type": "slide"
    }
   },
   "source": [
    "<h1 id=\"Integral-Numerik---Trapezoid-(trapesium)\">Integral Numerik - Trapezoid (trapesium)</h1>\n",
    "\n",
    "<p><img alt=\"\" src=\"images/Trapezoid_Graphics.png\" style=\"width: 695px; height: 328px;\" /></p>\n",
    "\n",
    "<h3 id=\"Luas-Trapesium:\">Luas Trapesium:</h3>\n",
    "\n",
    "<p><img alt=\"\" src=\"images/Trapezoid_Area.png\" /></p>\n"
   ]
  },
  {
   "cell_type": "markdown",
   "metadata": {
    "slideshow": {
     "slide_type": "slide"
    }
   },
   "source": [
    "<h1 id=\"Error-secara-teori\">Error secara teori</h1>\n",
    "\n",
    "<p><img alt=\"\" src=\"images/Trapezoid_Error.png\" style=\"width: 800px; height: 139px;\" /></p>\n"
   ]
  },
  {
   "cell_type": "code",
   "execution_count": null,
   "metadata": {
    "slideshow": {
     "slide_type": "slide"
    }
   },
   "outputs": [],
   "source": [
    "# https://github.com/markjay4k/fourier-transform/blob/master/numerical%20integration.ipynb\n",
    "\n",
    "%config InlineBackend.figure_format = 'svg'\n",
    "plt.rcParams['figure.figsize'] = (13, 8)\n",
    "plt.rcParams.update({'font.size': 19})\n",
    "\n",
    "def f(x):\n",
    "    return np.sin(x) # change this to any function\n",
    "\n",
    "def trap_plot(n_points, namaFungsi = ''):\n",
    "    x = np.linspace(0, np.pi, 1000)          # continuous\n",
    "    x_i = np.linspace(0, np.pi, n_points)    # discrete\n",
    "\n",
    "    plt.plot(x, f(x), label=namaFungsi)\n",
    "    plt.plot(x_i, f(x_i), '-o', label=r'$Trap$({})'.format(n_points))\n",
    "    plt.fill(x_i, f(x_i), color='C1', alpha=0.15)\n",
    "    plt.vlines(x_i, 0, f(x_i), color='C1', linestyle=':')\n",
    "    plt.xticks(x_i, [r'$x_{}$'.format(n) for n in range(n_points)])\n",
    "    plt.yticks([0, 1], ['$0$', '$1$'])\n",
    "    plt.legend(loc='best');    plt.ylim(0, 1.05);    plt.show()\n",
    "\n",
    "trap_plot(9,'sin(x)')"
   ]
  },
  {
   "cell_type": "markdown",
   "metadata": {
    "slideshow": {
     "slide_type": "slide"
    }
   },
   "source": [
    "<h2 id=\"trapezoid-rule-equation\">trapezoid rule equation</h2>\n",
    "\n",
    "<p><img alt=\"\" src=\"images/Trapezoid_eq.png\" style=\"width: 800px; height: 259px;\" /></p>\n"
   ]
  },
  {
   "cell_type": "code",
   "execution_count": null,
   "metadata": {
    "slideshow": {
     "slide_type": "slide"
    }
   },
   "outputs": [],
   "source": [
    "def trap(x):\n",
    "    # computes the integral of f using trapezoid rule\n",
    "    area = 0\n",
    "    N = len(x)\n",
    "    h = x[1] - x[0]\n",
    "    for k in range(1, N):\n",
    "        area += (abs(f(x[k - 1])) + abs(f(x[k]))) \n",
    "    return area * h / 2"
   ]
  },
  {
   "cell_type": "markdown",
   "metadata": {
    "slideshow": {
     "slide_type": "slide"
    }
   },
   "source": [
    "# Numerical Experiment\n",
    "\n"
   ]
  },
  {
   "cell_type": "code",
   "execution_count": null,
   "metadata": {
    "slideshow": {
     "slide_type": "fragment"
    }
   },
   "outputs": [],
   "source": [
    "n = 4\n",
    "a = 0\n",
    "b = np.pi #314.1592653589793\n",
    "Xi = np.linspace(a,b,n)\n",
    "eksak = 2\n",
    "\n",
    "Hasil_Integral_Trapezoid = trap(Xi)\n",
    "print('Hasil integral = ', Hasil_Integral_Trapezoid)\n",
    "print('Error mutlak = ', abs(Hasil_Integral_Trapezoid-eksak))\n",
    "print('Error Relatif = ', abs(Hasil_Integral_Trapezoid-eksak)/eksak)"
   ]
  },
  {
   "cell_type": "code",
   "execution_count": null,
   "metadata": {
    "slideshow": {
     "slide_type": "slide"
    }
   },
   "outputs": [],
   "source": [
    "# Plot Error\n",
    "N = [n for n in range(2,100)]\n",
    "e2 = [] # Error\n",
    "for n in N:\n",
    "    Xi = np.linspace(a,b,n)\n",
    "    #h = (b-a)/n\n",
    "    integral = trap(Xi)\n",
    "    e2.append(abs(integral-eksak))\n",
    "plt.plot(N, e2, 'g')\n",
    "plt.xlabel('# of partisi');plt.ylabel('error');plt.show()"
   ]
  },
  {
   "cell_type": "markdown",
   "metadata": {
    "slideshow": {
     "slide_type": "slide"
    }
   },
   "source": [
    "# Hhhhhmmm... kalau trapesium berhasil lebih baik, berarti kalau kurva akan lebih baik lagi?"
   ]
  },
  {
   "cell_type": "markdown",
   "metadata": {
    "slideshow": {
     "slide_type": "fragment"
    }
   },
   "source": [
    "<h1 id=\"Simpson's-Rule\">Simpson&#39;s Rule</h1>\n",
    "\n",
    "<p><img alt=\"\" src=\"images/Simpsons_Graphics.png\" style=\"width: 800px; height: 252px;\" /></p>\n"
   ]
  },
  {
   "cell_type": "markdown",
   "metadata": {
    "slideshow": {
     "slide_type": "slide"
    }
   },
   "source": [
    "<h1 id=\"Error-Metode-Simpson-Secara-Analytic\">Error Metode Simpson Secara Analytic</h1>\n",
    "\n",
    "<p><img alt=\"\" src=\"images/Simpsons_Analytics_Error.png\" style=\"width: 800px; height: 146px;\" /></p>\n"
   ]
  },
  {
   "cell_type": "code",
   "execution_count": null,
   "metadata": {
    "slideshow": {
     "slide_type": "slide"
    }
   },
   "outputs": [],
   "source": [
    "# Warning, this code is \"dumb\"\n",
    "def simpson(x):\n",
    "    # computes the integral of f using Simpson's rule\n",
    "    N = len(x)\n",
    "    area = 0\n",
    "    h = x[1] - x[0]\n",
    "    area += abs(f(x[0]))+abs(f(x[-1]))\n",
    "    p = True\n",
    "    for k in range(1, N):\n",
    "        if p:\n",
    "            area += abs(4*f(x[k]))\n",
    "            p = False\n",
    "        else:\n",
    "            area += abs(2*f(x[k]))\n",
    "            p = True\n",
    "    return area*(h/3)"
   ]
  },
  {
   "cell_type": "code",
   "execution_count": null,
   "metadata": {
    "slideshow": {
     "slide_type": "slide"
    }
   },
   "outputs": [],
   "source": [
    "eksak = -eksak\n",
    "a = 0\n",
    "b = np.pi #314.1592653589793\n",
    "n = 4\n",
    "Xi = np.linspace(a,b,2*n)\n",
    "\n",
    "Hasil_Integral_Simpson = simpson(Xi)\n",
    "print('Hasil integral = ', Hasil_Integral_Simpson)\n",
    "print('Error mutlak = ', abs(Hasil_Integral_Simpson-eksak))\n",
    "print('Error Relatif = ', abs(Hasil_Integral_Simpson-eksak)/eksak)"
   ]
  },
  {
   "cell_type": "code",
   "execution_count": null,
   "metadata": {
    "slideshow": {
     "slide_type": "slide"
    }
   },
   "outputs": [],
   "source": [
    "# Plot Error\n",
    "N = [n for n in range(2,100)]\n",
    "e3 = [] # Error\n",
    "for n in N:\n",
    "    Xi = np.linspace(a,b,2*n)\n",
    "    h = (b-a)/n\n",
    "    integral = simpson(Xi)\n",
    "    e3.append(abs(integral-eksak))\n",
    "plt.plot(N, e3, 'b')\n",
    "plt.xlabel('# of partisi');plt.ylabel('error');plt.show()"
   ]
  },
  {
   "cell_type": "code",
   "execution_count": null,
   "metadata": {
    "slideshow": {
     "slide_type": "slide"
    }
   },
   "outputs": [],
   "source": [
    "plt.plot(N, e1, 'r')\n",
    "plt.plot(N, e2, 'g')\n",
    "plt.plot(N, e3, 'b')\n",
    "plt.xlabel('# of partisi');plt.ylabel('error');plt.show()"
   ]
  },
  {
   "cell_type": "markdown",
   "metadata": {},
   "source": [
    "## Latihan Soal\n",
    "\n",
    "* $\\int_1^3 3x^2 - 2$\n",
    "* n = 2\n",
    "\n",
    "Hitung Error Relatif dari pendekatan berikut:\n",
    "\n",
    "1. Quadrature (segi empat) - UAS +20\n",
    "2. Trapezoid - UAS +20\n",
    "3. Simpson - UAS +20"
   ]
  },
  {
   "cell_type": "code",
   "execution_count": null,
   "metadata": {},
   "outputs": [],
   "source": [
    "def f(x):\n",
    "    return 3*x**2 - 2\n",
    "def FF(x):\n",
    "    return x**3 - 2*x\n",
    "eksak = FF(3)-FF(1)\n",
    "h = (3-1)/2\n",
    "Q = h * (f(1) + f(2)) #h * (f(1) + f(1+h))\n",
    "T =  (h/2) * ( f(1)+ 2* f(2) +f(3)) #(h/2) * ( f(1)+ 2* f(1+h) +f(1+2*h))\n",
    "S = (h/3)*(f(1)+4*f(1.5)+f(2))+(h/3)*(f(2)+4*f(2.5)+f(3)) #(h/3) * ( f(1) + 4*f(1+h/2) + f(1+h) )  +  (h/3) * (f(1+h) + 4*f(1+3*h/2) + f(3)) \n",
    "print('h = ', h)\n",
    "print('Integral Eksak = ', eksak)\n",
    "print('Error Relatif Quadrature = ',abs(eksak-Q)/abs(eksak))\n",
    "print('Error Relatif Trapezoid = ',abs(eksak-T)/abs(eksak))\n",
    "print('Error Relatif Simpson = ',abs(eksak-S)/abs(eksak))"
   ]
  },
  {
   "cell_type": "markdown",
   "metadata": {
    "slideshow": {
     "slide_type": "slide"
    }
   },
   "source": [
    "# End of Module"
   ]
  }
 ],
 "metadata": {
  "celltoolbar": "Slideshow",
  "kernelspec": {
   "display_name": "Python 3",
   "language": "python",
   "name": "python3"
  },
  "language_info": {
   "codemirror_mode": {
    "name": "ipython",
    "version": 3
   },
   "file_extension": ".py",
   "mimetype": "text/x-python",
   "name": "python",
   "nbconvert_exporter": "python",
   "pygments_lexer": "ipython3",
   "version": "3.6.8"
  }
 },
 "nbformat": 4,
 "nbformat_minor": 2
}
