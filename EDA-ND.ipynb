{
 "cells": [
  {
   "cell_type": "markdown",
   "metadata": {
    "slideshow": {
     "slide_type": "slide"
    }
   },
   "source": [
    "<center><img alt=\"\" src=\"images/0_Cover.jpg\"/></center> \n",
    "\n",
    "## <center><font color=\"blue\">Exploring Numerical Data</font></center>\n",
    "\n",
    "<h2 id=\"(C)-Taufik-Sutanto---2019\" style=\"text-align: center;\">(C) Taufik Sutanto - 2019</h2>\n",
    "<h2 id=\"tau-data-Indonesia-~-https://tau-data.id\" style=\"text-align: center;\">tau-data Indonesia ~ <a href=\"https://tau-data.id\" target=\"_blank\"><span style=\"color: #0009ff;\">https://tau-data.id</span></a></h2>"
   ]
  },
  {
   "cell_type": "markdown",
   "metadata": {},
   "source": [
    "# Notes and Disclaimer\n",
    "\n",
    "* This notebook is part of the free (open knowledge) eLearning course at: https://tau-data.id/courses/\n",
    "* Some images are taken from several resources, we respect those images ownerships and put a reference/citation from where it is originated. Nevertheless, sometimes we are having trouble to find the origin of the image(s). If you are the owner of the image and would like the image taken-out (or want the citation to be revised) from this open knowledge course resources please contact us here with the details: https://tau-data.id/contact/  \n",
    "* Unless stated otherwise, in general tau-data permit its resources to be copied and-or modified for non-commercial purposes. With condition proper acknowledgement/citation is given."
   ]
  },
  {
   "cell_type": "markdown",
   "metadata": {},
   "source": [
    "## Outline:\n",
    "\n",
    "Bahasan kali ini akan lebih banyak eksplorasi data melalui visualisasi. Deskriptif statistik akan dibahas pada module berikutnya.\n",
    "    \n",
    "    * Importing Data and numerical data types\n",
    "    * Recall Visualization guide\n",
    "    * Scatter Plot\n",
    "    * Pairwise Plot\n",
    "    * 3D plot\n",
    "    * "
   ]
  },
  {
   "cell_type": "code",
   "execution_count": null,
   "metadata": {},
   "outputs": [],
   "source": [
    "# Importing Some Python Modules\n",
    "import scipy, itertools, pandas as pd, matplotlib.pyplot as plt, seaborn as sns, numpy as np\n",
    "import warnings; warnings.simplefilter('ignore')\n",
    "from statsmodels.graphics.mosaicplot import mosaic\n",
    "from scipy import stats\n",
    "from sklearn.preprocessing import StandardScaler, MinMaxScaler\n",
    "from mpl_toolkits.mplot3d import Axes3D\n",
    "import matplotlib.cm as cm\n",
    "\n",
    "%matplotlib inline\n",
    "plt.style.use('bmh'); sns.set()"
   ]
  },
  {
   "cell_type": "code",
   "execution_count": null,
   "metadata": {},
   "outputs": [],
   "source": [
    "# Importing our data example\n",
    "\n",
    "tips=sns.load_dataset('tips')\n",
    "print(tips.info())\n",
    "tips.head()"
   ]
  },
  {
   "cell_type": "markdown",
   "metadata": {},
   "source": [
    "# Last lecture question: Several categorical variables Visualization.\n",
    "\n",
    "## Alternative method:"
   ]
  },
  {
   "cell_type": "code",
   "execution_count": null,
   "metadata": {},
   "outputs": [],
   "source": [
    "categorical = tips.select_dtypes(include = ['category']).columns\n",
    "fig, ax = plt.subplots(2, 2, figsize=(20, 10))\n",
    "for variable, subplot in zip(categorical, ax.flatten()):\n",
    "    sns.countplot(tips[variable], ax=subplot)\n",
    "    for label in subplot.get_xticklabels():\n",
    "        label.set_rotation(90)"
   ]
  },
  {
   "cell_type": "markdown",
   "metadata": {},
   "source": [
    "## Numerical Data\n",
    "\n",
    "- Integer\n",
    "- Float\n",
    "\n",
    "<img alt=\"\" src=\"images/Pandas_DataTypes.png\"/>\n",
    "[image source: https://pbpython.com/pandas_dtypes_cat.html]"
   ]
  },
  {
   "cell_type": "markdown",
   "metadata": {},
   "source": [
    "# Recall  Data Visualizations\n",
    "<p><img alt=\"\" src=\"images/Purpose_Visualize_Data.jpg\" /></p>"
   ]
  },
  {
   "cell_type": "markdown",
   "metadata": {},
   "source": [
    "# 1. histogram\n",
    "\n",
    "https://en.wikipedia.org/wiki/Histogram"
   ]
  },
  {
   "cell_type": "code",
   "execution_count": null,
   "metadata": {},
   "outputs": [],
   "source": [
    "numerical = tips.select_dtypes(include = ['int64','float64']).columns\n",
    "print(numerical)\n",
    "col = 'total_bill'\n",
    "\n",
    "sns.set(style='whitegrid', palette=\"deep\", font_scale=1.1, rc={\"figure.figsize\": [8, 5]})\n",
    "sns.distplot(tips[col], norm_hist=False, kde=False, bins=20, hist_kws={\"alpha\": 1}).set(xlabel=variable, ylabel='Count');"
   ]
  },
  {
   "cell_type": "code",
   "execution_count": null,
   "metadata": {},
   "outputs": [],
   "source": [
    "tips[numerical].hist(bins=15, figsize=(15, 6), layout=(2, 4));"
   ]
  },
  {
   "cell_type": "markdown",
   "metadata": {},
   "source": [
    "# Distribution Plot"
   ]
  },
  {
   "cell_type": "code",
   "execution_count": null,
   "metadata": {},
   "outputs": [],
   "source": [
    "plt.subplots(figsize=(10,8))\n",
    "sns.distplot(tips.total_bill[tips.total_bill > 5], label='Total Bill').legend()\n",
    "\n",
    "plt.xlabel('Total Bill')\n",
    "plt.ylabel('Normalized Distribution')\n",
    "plt.title('Total Bill Distribution')\n",
    "plt.show()"
   ]
  },
  {
   "cell_type": "markdown",
   "metadata": {},
   "source": [
    "# Scatter Plot\n",
    "\n",
    "https://en.wikipedia.org/wiki/Scatter_plot"
   ]
  },
  {
   "cell_type": "code",
   "execution_count": null,
   "metadata": {},
   "outputs": [],
   "source": [
    "p = sns.scatterplot(x=tips['total_bill'], y=tips['tip'])"
   ]
  },
  {
   "cell_type": "markdown",
   "metadata": {},
   "source": [
    "# Joined"
   ]
  },
  {
   "cell_type": "code",
   "execution_count": null,
   "metadata": {},
   "outputs": [],
   "source": [
    "p = sns.jointplot(x=tips['total_bill'], y=tips['tip'])"
   ]
  },
  {
   "cell_type": "markdown",
   "metadata": {},
   "source": [
    "# Conditional Plot"
   ]
  },
  {
   "cell_type": "code",
   "execution_count": null,
   "metadata": {},
   "outputs": [],
   "source": [
    "cond_plot = sns.FacetGrid(data=tips, col='sex', hue='smoker', col_wrap=4)\n",
    "p = cond_plot.map(sns.scatterplot, 'total_bill', 'tip')"
   ]
  },
  {
   "cell_type": "markdown",
   "metadata": {},
   "source": [
    "# Pairwise Plot\n",
    "\n",
    "https://towardsdatascience.com/visualizing-data-with-pair-plots-in-python-f228cf529166"
   ]
  },
  {
   "cell_type": "code",
   "execution_count": null,
   "metadata": {},
   "outputs": [],
   "source": [
    "p = sns.pairplot(tips, hue=\"day\")"
   ]
  },
  {
   "cell_type": "markdown",
   "metadata": {},
   "source": [
    "# 3D Plot\n",
    "\n",
    "https://pythonprogramming.net/matplotlib-3d-scatterplot-tutorial/"
   ]
  },
  {
   "cell_type": "code",
   "execution_count": null,
   "metadata": {},
   "outputs": [],
   "source": [
    "fig = plt.figure(figsize=(12, 10))\n",
    "ax = fig.add_subplot(111, projection='3d')\n",
    "x = tips['total_bill']\n",
    "y = tips['tip']\n",
    "z = tips['size']\n",
    "warna = cm.rainbow(np.linspace(0, 1, len(y)))\n",
    "\n",
    "ax.scatter(x, y, z, s=50, c=warna, marker='o')\n",
    "ax.set_xlabel('Tagihan')\n",
    "ax.set_ylabel('Tips')\n",
    "ax.set_zlabel('Banyak Customer')\n",
    "plt.show()"
   ]
  },
  {
   "cell_type": "markdown",
   "metadata": {},
   "source": [
    "# 3D Bar Plots\n",
    "\n",
    "Bar plots are used quite frequently in data visualisation projects since they’re able to convey information, usually some type of comparison, in a simple and intuitive way. The beauty of 3D bar plots is that they maintain the simplicity of 2D bar plots while extending their capacity to represent comparative information.\n",
    "\n",
    "https://towardsdatascience.com/an-easy-introduction-to-3d-plotting-with-matplotlib-801561999725"
   ]
  },
  {
   "cell_type": "code",
   "execution_count": null,
   "metadata": {},
   "outputs": [],
   "source": [
    "import random\n",
    "\n",
    "fig = plt.figure(figsize=(12, 10))\n",
    "ax = plt.axes(projection=\"3d\")\n",
    "\n",
    "num_bars = 15\n",
    "x_pos = random.sample(range(20), num_bars)\n",
    "y_pos = random.sample(range(20), num_bars)\n",
    "z_pos = [0] * num_bars\n",
    "\n",
    "x_size = np.ones(num_bars)\n",
    "y_size = np.ones(num_bars)\n",
    "z_size = random.sample(range(20), num_bars)\n",
    "\n",
    "ax.bar3d(x_pos, y_pos, z_pos, x_size, y_size, z_size, color='aqua')\n",
    "plt.show()"
   ]
  },
  {
   "cell_type": "markdown",
   "metadata": {},
   "source": [
    "# Further reads:\n",
    "\n",
    "* https://github.com/joelvarma/Exploratory-Data-Analysis/blob/master/EDA.ipynb\n",
    "* https://github.com/admond1994/E-Commerce-Data-EDA/blob/master/E-Commerce%20Data%20(EDA).ipynb"
   ]
  },
  {
   "cell_type": "markdown",
   "metadata": {},
   "source": [
    "<h1>End of \"Exploring Numerical Data\" Module</h1>\n",
    "\n",
    "<hr />"
   ]
  }
 ],
 "metadata": {
  "celltoolbar": "Slideshow",
  "kernelspec": {
   "display_name": "Python 3",
   "language": "python",
   "name": "python3"
  },
  "language_info": {
   "codemirror_mode": {
    "name": "ipython",
    "version": 3
   },
   "file_extension": ".py",
   "mimetype": "text/x-python",
   "name": "python",
   "nbconvert_exporter": "python",
   "pygments_lexer": "ipython3",
   "version": "3.6.8"
  },
  "latex_envs": {
   "LaTeX_envs_menu_present": true,
   "autoclose": false,
   "autocomplete": true,
   "bibliofile": "biblio.bib",
   "cite_by": "apalike",
   "current_citInitial": 1,
   "eqLabelWithNumbers": true,
   "eqNumInitial": 1,
   "hotkeys": {
    "equation": "Ctrl-E",
    "itemize": "Ctrl-I"
   },
   "labels_anchors": false,
   "latex_user_defs": false,
   "report_style_numbering": false,
   "user_envs_cfg": false
  }
 },
 "nbformat": 4,
 "nbformat_minor": 2
}
