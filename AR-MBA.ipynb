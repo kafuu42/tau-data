{
 "cells": [
  {
   "cell_type": "markdown",
   "metadata": {
    "slideshow": {
     "slide_type": "slide"
    }
   },
   "source": [
    "<center><img alt=\"\" src=\"images/Cover.jpg\"/></center> \n",
    "\n",
    "## <center><font color=\"blue\">Model Rekomendasi: Market Basket Analysis/Association Rule</font></center>\n",
    "\n",
    "<h2 id=\"(C)-Taufik-Sutanto---2019\" style=\"text-align: center;\">(C) Taufik Sutanto - 2019</h2>\n",
    "<h2 id=\"tau-data-Indonesia-~-https://tau-data.id\" style=\"text-align: center;\">tau-data Indonesia ~ <a href=\"https://tau-data.id\" target=\"_blank\"><span style=\"color: #0009ff;\">https://tau-data.id</span></a></h2>"
   ]
  },
  {
   "cell_type": "markdown",
   "metadata": {},
   "source": [
    "# Notes and Disclaimer\n",
    "\n",
    "* This notebook is part of the free (open knowledge) eLearning course at: https://tau-data.id/courses/data-mining/\n",
    "* Some images are taken from several resources, we respect those images ownerships and put a reference/citation from where it is originated. Nevertheless, sometimes we are having trouble to find the origin of the image(s). If you are the owner of the image and would like the image taken-out (or want the citation to be revised) from this open knowledge course resources please contact us here with the details: https://tau-data.id/contact/  \n",
    "* Unless stated otherwise, in general tau-data permit its resources to be copied and-or modified for non-commercial purposes. With condition proper acknowledgement/citation is given."
   ]
  },
  {
   "cell_type": "markdown",
   "metadata": {
    "slideshow": {
     "slide_type": "subslide"
    }
   },
   "source": [
    "## Outline:\n",
    "\n",
    "* Review Kuliah Sebelumnya\n",
    "* Pendahuluan AR/MBA secara singkat\n",
    "* Items dan Item Set (Contoh)\n",
    "* Definisi formal AR metrics\n",
    "* Aplikasi di Orange\n",
    "* Tantangan di AR\n",
    "* All Item Set (AIS) Algorithm\n",
    "* Apriori Algorithm"
   ]
  },
  {
   "cell_type": "markdown",
   "metadata": {
    "slideshow": {
     "slide_type": "subslide"
    }
   },
   "source": [
    "## Review:\n",
    "* Pengertian Data Mining: _Hubungan/perbedaan dengan Statistik? Apa ciri utamanya?_\n",
    "* Proses Data Mining: _(KDD, SEMMA, CRISP, CCC) Apa benang merahnya?_\n",
    "\n",
    "<p><img alt=\"\" src=\"images/data-mining-process.png\" /></p>\n",
    "\n",
    "image source: \n",
    "1. https://barnraisersllc.com/2018/10/data-mining-process-essential-steps/\n",
    "2. https://www.dragon1.com/terms/data-mining-definition"
   ]
  },
  {
   "cell_type": "markdown",
   "metadata": {
    "slideshow": {
     "slide_type": "subslide"
    }
   },
   "source": [
    "<h1 id=\"Tipe-tipe-Data\">Tipe-tipe Data</h1>\n",
    "\n",
    "<p><img alt=\"\" src=\"images/data_types.gif\" /></p>"
   ]
  },
  {
   "cell_type": "markdown",
   "metadata": {
    "slideshow": {
     "slide_type": "subslide"
    }
   },
   "source": [
    "<h2 id=\"Secara-Umum\">Secara Umum</h2>\n",
    "\n",
    "<p><img alt=\"\" src=\"images/dataScience_models.gif\"/></p>\n",
    "\n",
    "<p>Yang tidak dibahas di MK Data Mining:&nbsp;data tersensor (Survival Analysis),&nbsp;Bayesian approaches,&nbsp;Semi-Supervised, Fuzzy, etc.</p>\n"
   ]
  },
  {
   "cell_type": "markdown",
   "metadata": {},
   "source": [
    "## Association Rules ~ Market Basket Analysis\n",
    "<img alt=\"\" src=\"images/10_Rec_0.JPG\" style=\"width: 600px; height: 500px;\" />\n",
    "\n",
    "image Source: \n",
    "https://www.kdnuggets.com/2018/07/minimum-viable-data-product.html"
   ]
  },
  {
   "cell_type": "markdown",
   "metadata": {},
   "source": [
    "<p><img alt=\"\" src=\"images/mba.jpg\" style=\"width: 480px; height: 360px;\" /></p>\n",
    "\n",
    "image source: https://www.youtube.com/watch?v=VZL6uhA8XKg"
   ]
  },
  {
   "cell_type": "markdown",
   "metadata": {},
   "source": [
    "<p><img alt=\"\" src=\"images/10_Rec.png\" style=\"height:400px; width:351px\" /></p>\n",
    "\n",
    "Image Source: Noor Ifada, Trunojoyo University"
   ]
  },
  {
   "cell_type": "markdown",
   "metadata": {},
   "source": [
    "<p><img alt=\"\" src=\"images/10_Rec_3.png\" style=\"height:300px; width:490px\" /></p>\n",
    "\n",
    "Image Source: \n",
    "https://www.themarketingtechnologist.co/building-a-recommendation-engine-for-geek-setting-up-the-prerequisites-13/"
   ]
  },
  {
   "cell_type": "markdown",
   "metadata": {},
   "source": [
    "<p><img alt=\"\" src=\"images/10_Rec_1.JPG\" style=\"width: 600px; height: 444px;\" /></p>\n",
    "\n",
    "Image Source: https://www.semanticscholar.org/paper/Collaborative-Filtering-and-Artificial-Neural-Based-Mylavarapu/a2a9f263172691fc66a4c8bc1d44dd4df77c347c"
   ]
  },
  {
   "cell_type": "markdown",
   "metadata": {},
   "source": [
    "<h2 id=\"Association-Analysis-(AA)\">Association Analysis (AA)</h2>\n",
    "\n",
    "<ul>\n",
    "\t<li>Mencari hubungan (links) antar variabel menurut himpunan records di data</li>\n",
    "\t<li>Links ini disebut sebagai asosiasi (<strong>ASSOCIATION</strong>).</li>\n",
    "\t<li>\n",
    "\t<p>Tiga tipe permasalahan asosiasi:</p>\n",
    "\t</li>\n",
    "</ul>\n",
    "\n",
    "<ol>\n",
    "\t<li>\n",
    "\t<p>Association discovery (tidak terurut - yang akan dibahas di kuliah ini)</p>\n",
    "\t</li>\n",
    "\t<li>Sequential pattern discovery (terurut - tidak dibahas)</li>\n",
    "\t<li>Similar time discovery (ada informasi waktu - misal log analysis)</li>\n",
    "</ol>\n"
   ]
  },
  {
   "cell_type": "markdown",
   "metadata": {},
   "source": [
    "<h2 id=\"Kenapa-AA-penting-di-Data-Mining?\">Kenapa AA penting di Data Mining?</h2>\n",
    "<ol>\n",
    "<li>\n",
    "<p>Market Basket data analysis, cross-marketing, catalog design, sale campaign analysis</p>\n",
    "</li>\n",
    "<li>Web log (click stream) analysis, DNA sequence analysis, etc.</li>\n",
    "</ol>\n",
    "\n",
    "<p><img alt=\"\" src=\"images/ecommerce.jpg\" /></p>\n",
    "\n",
    "Image Source: \n",
    "1. https://www.liputan6.com/tekno/read/2586238/pasar-online-indonesia-kian-tumbuh-ecommerce-berjaya\n",
    "2. https://ginbusiness.wordpress.com/2016/02/27/jenis-e-commerce-di-indonesia/"
   ]
  },
  {
   "cell_type": "markdown",
   "metadata": {},
   "source": [
    "<h2 id=\"Association-Rules-(AR)-dalam-satu-paragraph\">Association Rules (AR) dalam satu paragraph</h2>\n",
    "\n",
    "<p>AR berusaha menemukan semua himpunan <strong>ITEM </strong>(<strong>ITEMSETS</strong>) yang memiliki <strong>SUPPORT </strong>lebih besar dari <strong>MINIMUM SUPPORT</strong>, kemudian menggunakan itemsets yang signifikan untuk menghasilkan <strong>RULES </strong>yang memiliki <strong>CONFIDENCE </strong>lebih besar dari suatu <strong>MINIMUM CONFIDENCE</strong>. Rules ini akan dinilai berharga (signifikan) berdasarkan nilai <strong>LIFT</strong>-nya. Aplikasi paling populer AR adalah <strong>Market Basket Analysis</strong> (MBA).</p>\n"
   ]
  },
  {
   "cell_type": "markdown",
   "metadata": {},
   "source": [
    "<h2 id=\"Items-dan-Itemsets\">Items dan Itemsets</h2>\n",
    "\n",
    "<ul>\n",
    "\t<li>Data AR berbentuk &quot;transaksi&quot;: himpunan itemsets yang masing-masing elemen himpunannya adalah items</li>\n",
    "\t<li>Items: Bread, Milk, Coke, dll</li>\n",
    "\t<li>Itemset: {Bread, Milk}</li>\n",
    "\t<li>Contoh transaksi pada suatu hari di sebuah toko:</li>\n",
    "</ul>\n",
    "\n",
    "<table>\n",
    "\t<thead>\n",
    "\t\t<tr>\n",
    "\t\t\t<th>TID</th>\n",
    "\t\t\t<th>Items</th>\n",
    "\t\t</tr>\n",
    "\t</thead>\n",
    "\t<tbody>\n",
    "\t\t<tr>\n",
    "\t\t\t<td>1</td>\n",
    "\t\t\t<td>Bread, Milk</td>\n",
    "\t\t</tr>\n",
    "\t\t<tr>\n",
    "\t\t\t<td>2</td>\n",
    "\t\t\t<td>Bread, Diaper, Beer, Eggs</td>\n",
    "\t\t</tr>\n",
    "\t\t<tr>\n",
    "\t\t\t<td>3</td>\n",
    "\t\t\t<td>Milk, Diaper, Beer, Coke</td>\n",
    "\t\t</tr>\n",
    "\t\t<tr>\n",
    "\t\t\t<td>4</td>\n",
    "\t\t\t<td>Bread, Milk, Diaper, Beer</td>\n",
    "\t\t</tr>\n",
    "\t\t<tr>\n",
    "\t\t\t<td>4</td>\n",
    "\t\t\t<td>Bread, Milk, Diaper, Coke</td>\n",
    "\t\t</tr>\n",
    "\t</tbody>\n",
    "</table>\n"
   ]
  },
  {
   "cell_type": "markdown",
   "metadata": {},
   "source": [
    "## Example Rule: Barbie® ==> Candy\n",
    "Rules are used in many marketing decisions such as:\n",
    "* Put them closer together in the store.\n",
    "* Put them far apart in the store.\n",
    "* Package candy bars with the dolls.\n",
    "* Package Barbie + candy + poorly selling item.\n",
    "* Raise the price on one, lower it on the other.\n",
    "* Barbie accessories for proofs of purchase.\n",
    "* Do not advertise candy and Barbie together.\n",
    "* Offer candies in the shape of a Barbie Doll."
   ]
  },
  {
   "cell_type": "markdown",
   "metadata": {},
   "source": [
    "<p><img alt=\"\" src=\"images/mba_knowledge_decisions.png\" style=\"width: 600px; height: 307px;\" /></p>\n"
   ]
  },
  {
   "cell_type": "markdown",
   "metadata": {},
   "source": [
    "<h2 id=\"Secara-Formal-(Teori-AR-dalam-satu-slide)\">Secara Formal (Ringkasan Teori AR)</h2>\n",
    "<ul>\n",
    "<li><strong>Item </strong>adalah elemen himpunan dari data, contoh:&nbsp;<span class=\"MathJax_Preview\" style=\"color: inherit;\"><span id=\"MJXp-Span-991\" class=\"MJXp-math\"><span id=\"MJXp-Span-993\" class=\"MJXp-mtext\">Milk</span><span id=\"MJXp-Span-994\" class=\"MJXp-mo\" style=\"margin-left: 0em; margin-right: 0.222em;\">,</span><span id=\"MJXp-Span-995\" class=\"MJXp-mtext\">Bread</span><span id=\"MJXp-Span-996\" class=\"MJXp-mo\" style=\"margin-left: 0em; margin-right: 0.222em;\">,</span><span id=\"MJXp-Span-997\" class=\"MJXp-mtext\">Eggs</span></span></span></li>\n",
    "<li><strong>Itemset </strong>adalah kemungkinan subset yang dibentuk dari item, contoh:&nbsp; <span class=\"MathJax_Preview\" style=\"color: inherit;\"><span id=\"MJXp-Span-991\" class=\"MJXp-math\"><span id=\"MJXp-Span-992\" class=\"MJXp-mo\" style=\"margin-left: 0em; margin-right: 0em;\">{</span><span id=\"MJXp-Span-993\" class=\"MJXp-mtext\">Milk</span><span id=\"MJXp-Span-994\" class=\"MJXp-mo\" style=\"margin-left: 0em; margin-right: 0.222em;\">,</span><span id=\"MJXp-Span-995\" class=\"MJXp-mtext\">Bread</span><span id=\"MJXp-Span-996\" class=\"MJXp-mo\" style=\"margin-left: 0em; margin-right: 0.222em;\">,</span><span id=\"MJXp-Span-997\" class=\"MJXp-mtext\">Eggs</span><span id=\"MJXp-Span-998\" class=\"MJXp-mo\" style=\"margin-left: 0em; margin-right: 0em;\">} atau {Milk, Eggs}</span></span></span>.</li>\n",
    "<li>Frekuensi kemunculan item atau itemset dalam data disebut <strong>Support</strong>:</li>\n",
    "<li>Jika support &gt; dari suatu nilai ambang (threshold) maka itemset tersebut disebut&nbsp;<strong><em>frequent itemset</em></strong>.</li>\n",
    "<li>Sebuah <strong>Rule </strong>berbentuk&nbsp;<span class=\"MathJax_Preview\" style=\"color: inherit;\"><span id=\"MJXp-Span-1033\" class=\"MJXp-math\"><span id=\"MJXp-Span-1034\" class=\"MJXp-mi MJXp-italic\">X</span><span id=\"MJXp-Span-1035\" class=\"MJXp-mo\" style=\"margin-left: 0.333em; margin-right: 0.333em;\">&rArr;</span><span id=\"MJXp-Span-1036\" class=\"MJXp-mi MJXp-italic\">Y</span></span></span> dimana&nbsp;<span class=\"MathJax_Preview\" style=\"color: inherit;\"><span id=\"MJXp-Span-1037\" class=\"MJXp-math\"><span id=\"MJXp-Span-1038\" class=\"MJXp-mi MJXp-italic\">X</span></span></span>&nbsp;(Antecedent) dan&nbsp;<span class=\"MathJax_Preview\" style=\"color: inherit;\"><span id=\"MJXp-Span-1039\" class=\"MJXp-math\"><span id=\"MJXp-Span-1040\" class=\"MJXp-mi MJXp-italic\">Y</span></span></span>&nbsp;(Consequent) adalah&nbsp;itemsets. Contoh:</li>\n",
    "<li><span class=\"MathJax_Preview\" style=\"color: inherit;\"><span id=\"MJXp-Span-1041\" class=\"MJXp-math MJXp-display\"><span id=\"MJXp-Span-1042\" class=\"MJXp-mo\" style=\"margin-left: 0em; margin-right: 0em;\">{</span><span id=\"MJXp-Span-1043\" class=\"MJXp-mtext\">Milk</span><span id=\"MJXp-Span-1044\" class=\"MJXp-mo\" style=\"margin-left: 0em; margin-right: 0.222em;\">,</span><span id=\"MJXp-Span-1045\" class=\"MJXp-mtext\">Diaper</span><span id=\"MJXp-Span-1046\" class=\"MJXp-mo\" style=\"margin-left: 0em; margin-right: 0em;\">}</span><span id=\"MJXp-Span-1047\" class=\"MJXp-mo\" style=\"margin-left: 0.333em; margin-right: 0.333em;\">&rArr;</span><span id=\"MJXp-Span-1048\" class=\"MJXp-mo\" style=\"margin-left: 0em; margin-right: 0em;\">{</span><span id=\"MJXp-Span-1049\" class=\"MJXp-mtext\">Beer</span><span id=\"MJXp-Span-1050\" class=\"MJXp-mo\" style=\"margin-left: 0em; margin-right: 0em;\">}</span></span></span></li>\n",
    "<li>S<em>upport</em> dari sebuah rule adalah banyaknya transaksi yang memuat X dan Y.</li>\n",
    "<li><span class=\"MathJax_Preview\" style=\"color: inherit;\"><span id=\"MJXp-Span-1055\" class=\"MJXp-math MJXp-display\"><span id=\"MJXp-Span-1056\" class=\"MJXp-mi MJXp-italic\">s</span><span id=\"MJXp-Span-1057\" class=\"MJXp-mo\" style=\"margin-left: 0em; margin-right: 0em;\">(</span><span id=\"MJXp-Span-1058\" class=\"MJXp-mi MJXp-italic\">X</span><span id=\"MJXp-Span-1059\" class=\"MJXp-mo\" style=\"margin-left: 0.333em; margin-right: 0.333em;\">&rArr;</span><span id=\"MJXp-Span-1060\" class=\"MJXp-mi MJXp-italic\">Y</span><span id=\"MJXp-Span-1061\" class=\"MJXp-mo\" style=\"margin-left: 0em; margin-right: 0em;\">)</span><span id=\"MJXp-Span-1062\" class=\"MJXp-mo\" style=\"margin-left: 0.333em; margin-right: 0.333em;\">=</span><span id=\"MJXp-Span-1063\" class=\"MJXp-mi MJXp-italic\">s</span><span id=\"MJXp-Span-1064\" class=\"MJXp-mo\" style=\"margin-left: 0em; margin-right: 0em;\">(</span><span id=\"MJXp-Span-1065\" class=\"MJXp-mi MJXp-italic\">X</span><span id=\"MJXp-Span-1066\" class=\"MJXp-mo\" style=\"margin-left: 0.267em; margin-right: 0.267em;\">&cup;</span><span id=\"MJXp-Span-1067\" class=\"MJXp-mi MJXp-italic\">Y</span><span id=\"MJXp-Span-1068\" class=\"MJXp-mo\" style=\"margin-left: 0em; margin-right: 0em;\">)</span></span></span></li>\n",
    "<li>Dalam association rule mining, kita ingin mencari Rules yang memiliki&nbsp;&nbsp;<em>support</em> and <em>confidence </em>yang signifikan.&nbsp;</li>\n",
    "<li>Nilai <em>expected confidence tak bersyarat&nbsp;</em>di AR disebut juga sebagai \"lift:\"</li>\n",
    "<li>Lift&lt;1 dianggap \"negatif\" (less than expected)<br />Lift = 1 : netral</li>\n",
    "<li>[\"lift\"] S. Brin, R. Motwani, J. D. Ullman, and S. Tsur. Dynamic itemset counting and implication rules for market basket data</li>\n",
    "</ul>"
   ]
  },
  {
   "cell_type": "markdown",
   "metadata": {},
   "source": [
    "<h2 id=\"Rule,-Support,-Confidence,-Lift-by-Example\">Rule, Support, Confidence, Lift by Example</h2>\n",
    "\n",
    "<p><img alt=\"\" src=\"images/Rule_Lift_Support_Confidence.png\" style=\"width: 300px ; height: 181px\" /></p>\n",
    "\n",
    "<p><img alt=\"\" src=\"images/Rule_Lift_Support_Confidence_example.png\" style=\"width: 300px; height: 222px;\" /></p>\n",
    "\n",
    "Image Source: http://www.saedsayad.com/association_rules.htm"
   ]
  },
  {
   "cell_type": "markdown",
   "metadata": {},
   "source": [
    "<p><img alt=\"\" src=\"images/support.png\" style=\"width: 600px; height: 253px;\" /></p>\n"
   ]
  },
  {
   "cell_type": "markdown",
   "metadata": {},
   "source": [
    "<p><img alt=\"\" src=\"images/confidence.png\" style=\"width: 600px; height: 332px;\" /></p>\n"
   ]
  },
  {
   "cell_type": "markdown",
   "metadata": {},
   "source": [
    "# Lifts\n",
    "\n",
    "The lift metric is commonly used to measure how much more often the antecedent and consequent of a rule A->C occur together than we would expect if they were statistically independent. If A and C are independent, the Lift score will be exactly 1."
   ]
  },
  {
   "cell_type": "markdown",
   "metadata": {},
   "source": [
    "<h2 id=\"Leverage\">Leverage</h2>\n",
    "\n",
    "<p>Leverage computes the difference between the observed frequency of A and C appearing together and the frequency that would be expected if A and C were independent. An leverage value of 0 indicates independence.</p>\n",
    "\n",
    "<p><img alt=\"\" src=\"images/levarage.png\" style=\"width: 600px ; height: 28px\" /></p>\n",
    "\n",
    "<p>[5] Piatetsky-Shapiro, G., Discovery, analysis, and presentation of strong rules. Knowledge Discovery in Databases, 1991: p. 229-248.</p>\n"
   ]
  },
  {
   "cell_type": "markdown",
   "metadata": {},
   "source": [
    "<p><img src=\"images/Association_Rules_Metrics.png\" alt=\"\" /></p>\n",
    "<p class=\"MsoNormal\"><span style=\"mso-ansi-language: EN-US;\">Nicely summarized in </span><span lang=\"IN\"><a href=\"http://rasbt.github.io/mlxtend/user_guide/frequent_patterns/association_rules/\">http://rasbt.github.io/mlxtend/user_guide/frequent_patterns/association_rules/</a></span></p>"
   ]
  },
  {
   "cell_type": "markdown",
   "metadata": {},
   "source": [
    "<p><img alt=\"\" src=\"images/interesting_rules.png\" style=\"width: 600px; height: 280px;\" /></p>\n"
   ]
  },
  {
   "cell_type": "markdown",
   "metadata": {},
   "source": [
    "Apriori Principle\n",
    "-----------------\n",
    "\n",
    "You know, given that $A \\subseteq B$, then $C \\subseteq B$ as well if $C \\subseteq B$.\n",
    "It is also obvious that if $A \\subseteq B$, $s(A) \\geq s(B)$, since every item in $A$ also appear in $B$.\n",
    "\n",
    "Apriori priciple says:\n",
    "_\"If an itemset is frequent, then all of its subsets must also be frequent.\"_\n",
    "\n",
    "From that, we know that if an itemset is _infrequent_, all its supersets are also infrequent."
   ]
  },
  {
   "cell_type": "markdown",
   "metadata": {},
   "source": [
    "<h2 id=\"AIS-Algorithm\">AIS Algorithm</h2>\n",
    "\n",
    "<ul>\n",
    "\t<li>Candidate itemsets are generated and counted on-the-fly as the database is scanned.</li>\n",
    "\t<li>For each transaction, it is determined which of the large itemsets of the previous pass are contained in this transaction.</li>\n",
    "\t<li>New candidate itemsets are generated by extending these large itemsets with other items in this transaction.</li>\n",
    "</ul>\n",
    "\n",
    "<p><img alt=\"\" src=\"images/AIS.png\" style=\"width: 600px; height: 347px;\" /></p>\n",
    "* The disadvantage of the AIS algorithm is that it results in unnecessarily generating and counting too many candidate itemsets that turn out to be small."
   ]
  },
  {
   "cell_type": "markdown",
   "metadata": {},
   "source": [
    "<p><img alt=\"\" src=\"images/min_support.png\" style=\"width: 600px; height: 434px;\" /></p>\n"
   ]
  },
  {
   "cell_type": "markdown",
   "metadata": {},
   "source": [
    "<h2 id=\"Algoritma-Apriori\">Algoritma Apriori</h2>\n",
    "\n",
    "<ol>\n",
    "\t<li><font face=\"Calibri\">Candidate itemsets are generated using only the large itemsets of the previous pass without considering the transactions in the database.</font></li>\n",
    "\t<li><font face=\"Calibri\">The large itemset of the previous pass is joined with itself to generate all itemsets whose size is higher by 1.</font></li>\n",
    "\t<li><font face=\"Calibri\">Each generated itemset that has a subset which is not large is deleted. The remaining itemsets are the candidate ones.</font></li>\n",
    "</ol>\n",
    "\n",
    "<p><font face=\"Calibri\"><img alt=\"\" src=\"images/Apriori_Alg.png\" style=\"width: 600px; height: 379px;\" /></font></p>\n",
    "\n",
    "Image Source: http://www.saedsayad.com/association_rules.htm"
   ]
  },
  {
   "cell_type": "markdown",
   "metadata": {},
   "source": [
    "## Algoritma Lain:\n",
    "* SETM Algorithm\n",
    "* AprioriTid Algorithm\n",
    "* AprioriHybrid Algorithm\n",
    "* dsb"
   ]
  },
  {
   "cell_type": "markdown",
   "metadata": {},
   "source": [
    "## Diskusi:\n",
    "* Barang di toko terlalu banyak macamnya ==> how to deal with it?\n",
    "* AR inferential? Seberapa sering rule di generate?"
   ]
  },
  {
   "cell_type": "markdown",
   "metadata": {},
   "source": [
    "<h2 id=\"Referensi:\">Referensi:</h2>\n",
    "\n",
    "<dl>\n",
    "\t<dt>[1]: J. Han, J. Pei, Y. Yin, R. Mao.</dt>\n",
    "\t<dd>Mining Frequent Patterns without Candidate Generation: A Frequent-Pattern Tree Approach. 2004.<a href=\"https://www.cs.sfu.ca/~jpei/publications/dami03_fpgrowth.pdf\">https://www.cs.sfu.ca/~jpei/publications/dami03_fpgrowth.pdf</a></dd>\n",
    "\t<dt>[2]: R. Agrawal, C. Aggarwal, V. Prasad.</dt>\n",
    "\t<dd>Depth first generation of long patterns. 2000.&nbsp;<a href=\"http://www.cs.tau.ac.il/~fiat/dmsem03/Depth%20First%20Generation%20of%20Long%20Patterns%20-%202000.pdf\">http://www.cs.tau.ac.il/~fiat/dmsem03/Depth%20First%20Generation%20of%20Long%20Patterns%20-%202000.pdf</a></dd>\n",
    "\t<dt>[3]: R. Agrawal, et al.</dt>\n",
    "\t<dd>Fast Discovery of Association Rules. 1996.&nbsp;<a href=\"http://cs-people.bu.edu/evimaria/cs565/advances.pdf\">http://cs-people.bu.edu/evimaria/cs565/advances.pdf</a></dd>\n",
    "</dl>\n"
   ]
  },
  {
   "cell_type": "markdown",
   "metadata": {},
   "source": [
    "<p>Beberapa Modul rekomendasi Python:&nbsp;</p>\n",
    "<ul>\n",
    "<li><strong><a href=\"http://muricoca.github.io/crab/\" target=\"_blank\" rel=\"noopener\">Crab (discontinued)</a></strong>.&nbsp;</li>\n",
    "<li><a href=\"https://github.com/NicolasHug/Surprise\" target=\"_blank\" rel=\"noopener\">Surprise</a></li>\n",
    "<li><a href=\"https://github.com/ocelma/python-recsys\" target=\"_blank\" rel=\"noopener\">Python Recsys (discontinued/very Old)</a></li>\n",
    "<li><a href=\"https://github.com/Mendeley/mrec\" target=\"_blank\" rel=\"noopener\">MRec (discontinued)</a></li>\n",
    "<li><a href=\"http://rasbt.github.io/mlxtend/\" target=\"_blank\" rel=\"noopener\">mlxtend (very limited documentationdocumentation)</a></li>\n",
    "</ul>\n",
    "<p>Kita akan mencoba juga <a href=\"http://orange.biolab.si/\" target=\"_blank\" rel=\"noopener\"><b>Orange</b></a>: Python GUI untuk  Data Mining.</p>\n",
    "\n",
    "<p><img alt=\"\" src=\"images/orange_screenShot.png\" /></p>\n",
    "\n",
    "Image Source: http://gp.mx.tl/oranged-net-software"
   ]
  },
  {
   "cell_type": "markdown",
   "metadata": {
    "slideshow": {
     "slide_type": "subslide"
    }
   },
   "source": [
    "## Add-ons di Orange\n",
    "* Installing Add-Ons \"Associate\" di Orange\n",
    "* **pip install orange3**\n",
    "* **python -m Orange.canvas** (Create shortcut with this command)\n",
    "* Install the add-on\n",
    "* http://orange3-associate.readthedocs.org/"
   ]
  },
  {
   "cell_type": "markdown",
   "metadata": {
    "slideshow": {
     "slide_type": "subslide"
    }
   },
   "source": [
    "<h3 id=\"File-data-CSV/XLS(X)-di-Orange-(3-Headers-Format)\">File data CSV/XLS(X) di Orange (3 Headers Format)</h3>\n",
    "\n",
    "<p><big><strong>[1]. Feature Names</strong></big> (Nama variabel).</p>\n",
    "\n",
    "<p><big><strong>[2]. Feature types</strong></big>&nbsp;on the second line. The type is determined automatically, or, if set, can be any of the following:</p>\n",
    "\n",
    "<ul>\n",
    "\t<li><code>discrete</code>&nbsp;(or&nbsp;<code>d</code>) &mdash; imported as&nbsp;<a href=\"https://docs.orange.biolab.si/3/data-mining-library/reference/data.variable.html#Orange.data.DiscreteVariable\" target=\"_blank\" title=\"Orange.data.DiscreteVariable\"><code>Orange.data.DiscreteVariable</code></a>,</li>\n",
    "\t<li>a space-separated&nbsp;<strong>list of discrete values</strong>, like &ldquo;<code>male&nbsp;female</code>&rdquo;, which will result in&nbsp;<a href=\"https://docs.orange.biolab.si/3/data-mining-library/reference/data.variable.html#Orange.data.DiscreteVariable\" target=\"_blank\" title=\"Orange.data.DiscreteVariable\"><code>Orange.data.DiscreteVariable</code></a>&nbsp;with those values and in that order. If the individual values contain a space character, it needs to be escaped (prefixed) with, as common, a backslash (&lsquo;&#39;) character.</li>\n",
    "\t<li><code>continuous</code>&nbsp;(or&nbsp;<code>c</code>) &mdash; imported as&nbsp;<a href=\"https://docs.orange.biolab.si/3/data-mining-library/reference/data.variable.html#Orange.data.ContinuousVariable\" target=\"_blank\" title=\"Orange.data.ContinuousVariable\"><code>Orange.data.ContinuousVariable</code></a>,</li>\n",
    "\t<li><code>string</code>&nbsp;(or&nbsp;<code>s</code>, or&nbsp;<code>text</code>) &mdash; imported as&nbsp;<a href=\"https://docs.orange.biolab.si/3/data-mining-library/reference/data.variable.html#Orange.data.StringVariable\" target=\"_blank\" title=\"Orange.data.StringVariable\"><code>Orange.data.StringVariable</code></a>,</li>\n",
    "\t<li><code>time</code>&nbsp;(or&nbsp;<code>t</code>) &mdash; imported as&nbsp;<a href=\"https://docs.orange.biolab.si/3/data-mining-library/reference/data.variable.html#Orange.data.TimeVariable\" target=\"_blank\" title=\"Orange.data.TimeVariable\"><code>Orange.data.TimeVariable</code></a>, if the values parse as&nbsp;<a href=\"https://en.wikipedia.org/wiki/ISO_8601\" target=\"_blank\">ISO 8601</a>&nbsp;date/time formats,</li>\n",
    "\t<li><code>basket</code>&nbsp;&mdash; used for storing sparse data. More on basket formats in a dedicated section.</li>\n",
    "</ul>\n",
    "\n",
    "<p><big><strong>[3]. Flags</strong></big>&nbsp;(optional) on the third header line. Feature&rsquo;s flag can be empty, or it can contain, space-separated, a consistent combination of:</p>\n",
    "\n",
    "<ul>\n",
    "\t<li><code>class</code>&nbsp;(or&nbsp;<code>c</code>) &mdash; feature will be imported as a class variable. Most algorithms expect a single class variable.</li>\n",
    "\t<li><code>meta</code>&nbsp;(or&nbsp;<code>m</code>) &mdash; feature will be imported as a meta-attribute, just describing the data instance but not actually used for learning,</li>\n",
    "\t<li><code>weight</code>&nbsp;(or&nbsp;<code>w</code>) &mdash; the feature marks the weight of examples (in algorithms that support weighted examples),</li>\n",
    "\t<li><code>ignore</code>&nbsp;(or&nbsp;<code>i</code>) &mdash; feature will not be imported,</li>\n",
    "\t<li><code>&lt;key&gt;=&lt;value&gt;</code>&nbsp;custom attributes.</li>\n",
    "</ul>\n",
    "\n",
    "<p><img alt=\"\" src=\"images/Orange_Xls.png\" style=\"width: 550px ; height: 344px\" /></p>\n"
   ]
  },
  {
   "cell_type": "code",
   "execution_count": 10,
   "metadata": {
    "ExecuteTime": {
     "end_time": "2019-09-29T19:53:32.622090Z",
     "start_time": "2019-09-29T19:53:31.513051Z"
    }
   },
   "outputs": [],
   "source": [
    "import pandas as pd, matplotlib.pyplot as plt, seaborn as sns\n",
    "from itertools import combinations\n",
    "from collections import Counter\n",
    "# Warning install \"mlxtend\" module first. in Google Colaboratory:\n",
    "# !pip install mlxtend\n",
    "from mlxtend.frequent_patterns import apriori\n",
    "from mlxtend.frequent_patterns import association_rules\n",
    "import warnings; warnings.simplefilter('ignore')\n",
    "\n",
    "\n",
    "%matplotlib inline\n",
    "plt.style.use('bmh'); sns.set()"
   ]
  },
  {
   "cell_type": "code",
   "execution_count": 5,
   "metadata": {
    "ExecuteTime": {
     "end_time": "2019-09-29T19:27:37.050030Z",
     "start_time": "2019-09-29T19:27:37.044045Z"
    }
   },
   "outputs": [
    {
     "data": {
      "text/plain": [
       "[('Bread', 'Milk'),\n",
       " ('Beer', 'Bread', 'Diaper', 'Eggs', 'Milk', 'Bread', 'Milk', 'Milk'),\n",
       " ('Beer', 'Coke', 'Diaper', 'Milk'),\n",
       " ('Beer', 'Bread', 'Diaper', 'Milk'),\n",
       " ('Bread', 'Coke', 'Diaper', 'Milk', 'Diaper')]"
      ]
     },
     "execution_count": 5,
     "metadata": {},
     "output_type": "execute_result"
    }
   ],
   "source": [
    "# In Python\n",
    "T = [\n",
    " ('Bread', 'Milk'),\n",
    " ('Beer', 'Bread', 'Diaper', 'Eggs', 'Milk', 'Bread', 'Milk', 'Milk'),\n",
    " ('Beer', 'Coke', 'Diaper', 'Milk'),\n",
    " ('Beer', 'Bread', 'Diaper', 'Milk'),\n",
    " ('Bread', 'Coke', 'Diaper', 'Milk', 'Diaper'),\n",
    "]\n",
    "T"
   ]
  },
  {
   "cell_type": "code",
   "execution_count": 2,
   "metadata": {
    "ExecuteTime": {
     "end_time": "2019-09-29T19:20:50.593201Z",
     "start_time": "2019-09-29T19:20:50.587217Z"
    }
   },
   "outputs": [
    {
     "data": {
      "text/plain": [
       "[{1, 2}, {1, 3}, {2, 3}]"
      ]
     },
     "execution_count": 2,
     "metadata": {},
     "output_type": "execute_result"
    }
   ],
   "source": [
    "# Calculating item sets\n",
    "# Nostalgia Matematika Diskrit :)\n",
    "def subsets(S, k):\n",
    "  return [set(s) for s in combinations(S, k)]\n",
    "\n",
    "subsets({1, 2, 3}, 2)"
   ]
  },
  {
   "cell_type": "code",
   "execution_count": 6,
   "metadata": {
    "ExecuteTime": {
     "end_time": "2019-09-29T19:27:40.145357Z",
     "start_time": "2019-09-29T19:27:40.139372Z"
    }
   },
   "outputs": [
    {
     "data": {
      "text/plain": [
       "Counter({'Beer': 1, 'Bread': 2, 'Diaper': 1, 'Eggs': 1, 'Milk': 3})"
      ]
     },
     "execution_count": 6,
     "metadata": {},
     "output_type": "execute_result"
    }
   ],
   "source": [
    "# Calculating support\n",
    "Counter(T[1])"
   ]
  },
  {
   "cell_type": "code",
   "execution_count": 18,
   "metadata": {
    "ExecuteTime": {
     "end_time": "2019-09-29T20:30:05.394727Z",
     "start_time": "2019-09-29T20:28:46.429987Z"
    }
   },
   "outputs": [
    {
     "data": {
      "text/html": [
       "<div>\n",
       "<style scoped>\n",
       "    .dataframe tbody tr th:only-of-type {\n",
       "        vertical-align: middle;\n",
       "    }\n",
       "\n",
       "    .dataframe tbody tr th {\n",
       "        vertical-align: top;\n",
       "    }\n",
       "\n",
       "    .dataframe thead th {\n",
       "        text-align: right;\n",
       "    }\n",
       "</style>\n",
       "<table border=\"1\" class=\"dataframe\">\n",
       "  <thead>\n",
       "    <tr style=\"text-align: right;\">\n",
       "      <th></th>\n",
       "      <th>InvoiceNo</th>\n",
       "      <th>StockCode</th>\n",
       "      <th>Description</th>\n",
       "      <th>Quantity</th>\n",
       "      <th>InvoiceDate</th>\n",
       "      <th>UnitPrice</th>\n",
       "      <th>CustomerID</th>\n",
       "      <th>Country</th>\n",
       "    </tr>\n",
       "  </thead>\n",
       "  <tbody>\n",
       "    <tr>\n",
       "      <td>0</td>\n",
       "      <td>536365</td>\n",
       "      <td>85123A</td>\n",
       "      <td>WHITE HANGING HEART T-LIGHT HOLDER</td>\n",
       "      <td>6</td>\n",
       "      <td>2010-12-01 08:26:00</td>\n",
       "      <td>2.55</td>\n",
       "      <td>17850.0</td>\n",
       "      <td>United Kingdom</td>\n",
       "    </tr>\n",
       "    <tr>\n",
       "      <td>1</td>\n",
       "      <td>536365</td>\n",
       "      <td>71053</td>\n",
       "      <td>WHITE METAL LANTERN</td>\n",
       "      <td>6</td>\n",
       "      <td>2010-12-01 08:26:00</td>\n",
       "      <td>3.39</td>\n",
       "      <td>17850.0</td>\n",
       "      <td>United Kingdom</td>\n",
       "    </tr>\n",
       "    <tr>\n",
       "      <td>2</td>\n",
       "      <td>536365</td>\n",
       "      <td>84406B</td>\n",
       "      <td>CREAM CUPID HEARTS COAT HANGER</td>\n",
       "      <td>8</td>\n",
       "      <td>2010-12-01 08:26:00</td>\n",
       "      <td>2.75</td>\n",
       "      <td>17850.0</td>\n",
       "      <td>United Kingdom</td>\n",
       "    </tr>\n",
       "    <tr>\n",
       "      <td>3</td>\n",
       "      <td>536365</td>\n",
       "      <td>84029G</td>\n",
       "      <td>KNITTED UNION FLAG HOT WATER BOTTLE</td>\n",
       "      <td>6</td>\n",
       "      <td>2010-12-01 08:26:00</td>\n",
       "      <td>3.39</td>\n",
       "      <td>17850.0</td>\n",
       "      <td>United Kingdom</td>\n",
       "    </tr>\n",
       "    <tr>\n",
       "      <td>4</td>\n",
       "      <td>536365</td>\n",
       "      <td>84029E</td>\n",
       "      <td>RED WOOLLY HOTTIE WHITE HEART.</td>\n",
       "      <td>6</td>\n",
       "      <td>2010-12-01 08:26:00</td>\n",
       "      <td>3.39</td>\n",
       "      <td>17850.0</td>\n",
       "      <td>United Kingdom</td>\n",
       "    </tr>\n",
       "  </tbody>\n",
       "</table>\n",
       "</div>"
      ],
      "text/plain": [
       "  InvoiceNo StockCode                          Description  Quantity  \\\n",
       "0    536365    85123A   WHITE HANGING HEART T-LIGHT HOLDER         6   \n",
       "1    536365     71053                  WHITE METAL LANTERN         6   \n",
       "2    536365    84406B       CREAM CUPID HEARTS COAT HANGER         8   \n",
       "3    536365    84029G  KNITTED UNION FLAG HOT WATER BOTTLE         6   \n",
       "4    536365    84029E       RED WOOLLY HOTTIE WHITE HEART.         6   \n",
       "\n",
       "          InvoiceDate  UnitPrice  CustomerID         Country  \n",
       "0 2010-12-01 08:26:00       2.55     17850.0  United Kingdom  \n",
       "1 2010-12-01 08:26:00       3.39     17850.0  United Kingdom  \n",
       "2 2010-12-01 08:26:00       2.75     17850.0  United Kingdom  \n",
       "3 2010-12-01 08:26:00       3.39     17850.0  United Kingdom  \n",
       "4 2010-12-01 08:26:00       3.39     17850.0  United Kingdom  "
      ]
     },
     "execution_count": 18,
     "metadata": {},
     "output_type": "execute_result"
    }
   ],
   "source": [
    "# Using Module\n",
    "# Taken from https://pbpython.com/market-basket-analysis.html\n",
    "# Pertama-tama load Data\n",
    "try:\n",
    "    df = pd.read_excel('data/Online_Retail.xlsx')\n",
    "except:\n",
    "    df = pd.read_excel('http://archive.ics.uci.edu/ml/machine-learning-databases/00352/Online%20Retail.xlsx')\n",
    "df.head()"
   ]
  },
  {
   "cell_type": "code",
   "execution_count": 19,
   "metadata": {
    "ExecuteTime": {
     "end_time": "2019-09-29T20:30:07.100130Z",
     "start_time": "2019-09-29T20:30:05.397686Z"
    }
   },
   "outputs": [
    {
     "data": {
      "text/html": [
       "<div>\n",
       "<style scoped>\n",
       "    .dataframe tbody tr th:only-of-type {\n",
       "        vertical-align: middle;\n",
       "    }\n",
       "\n",
       "    .dataframe tbody tr th {\n",
       "        vertical-align: top;\n",
       "    }\n",
       "\n",
       "    .dataframe thead th {\n",
       "        text-align: right;\n",
       "    }\n",
       "</style>\n",
       "<table border=\"1\" class=\"dataframe\">\n",
       "  <thead>\n",
       "    <tr style=\"text-align: right;\">\n",
       "      <th></th>\n",
       "      <th>InvoiceNo</th>\n",
       "      <th>StockCode</th>\n",
       "      <th>Description</th>\n",
       "      <th>Quantity</th>\n",
       "      <th>InvoiceDate</th>\n",
       "      <th>UnitPrice</th>\n",
       "      <th>CustomerID</th>\n",
       "      <th>Country</th>\n",
       "    </tr>\n",
       "  </thead>\n",
       "  <tbody>\n",
       "    <tr>\n",
       "      <td>0</td>\n",
       "      <td>536365</td>\n",
       "      <td>85123A</td>\n",
       "      <td>white hanging heart t-light holder</td>\n",
       "      <td>6</td>\n",
       "      <td>2010-12-01 08:26:00</td>\n",
       "      <td>2.55</td>\n",
       "      <td>17850.0</td>\n",
       "      <td>United Kingdom</td>\n",
       "    </tr>\n",
       "    <tr>\n",
       "      <td>1</td>\n",
       "      <td>536365</td>\n",
       "      <td>71053</td>\n",
       "      <td>white metal lantern</td>\n",
       "      <td>6</td>\n",
       "      <td>2010-12-01 08:26:00</td>\n",
       "      <td>3.39</td>\n",
       "      <td>17850.0</td>\n",
       "      <td>United Kingdom</td>\n",
       "    </tr>\n",
       "    <tr>\n",
       "      <td>2</td>\n",
       "      <td>536365</td>\n",
       "      <td>84406B</td>\n",
       "      <td>cream cupid hearts coat hanger</td>\n",
       "      <td>8</td>\n",
       "      <td>2010-12-01 08:26:00</td>\n",
       "      <td>2.75</td>\n",
       "      <td>17850.0</td>\n",
       "      <td>United Kingdom</td>\n",
       "    </tr>\n",
       "    <tr>\n",
       "      <td>3</td>\n",
       "      <td>536365</td>\n",
       "      <td>84029G</td>\n",
       "      <td>knitted union flag hot water bottle</td>\n",
       "      <td>6</td>\n",
       "      <td>2010-12-01 08:26:00</td>\n",
       "      <td>3.39</td>\n",
       "      <td>17850.0</td>\n",
       "      <td>United Kingdom</td>\n",
       "    </tr>\n",
       "    <tr>\n",
       "      <td>4</td>\n",
       "      <td>536365</td>\n",
       "      <td>84029E</td>\n",
       "      <td>red woolly hottie white heart.</td>\n",
       "      <td>6</td>\n",
       "      <td>2010-12-01 08:26:00</td>\n",
       "      <td>3.39</td>\n",
       "      <td>17850.0</td>\n",
       "      <td>United Kingdom</td>\n",
       "    </tr>\n",
       "  </tbody>\n",
       "</table>\n",
       "</div>"
      ],
      "text/plain": [
       "  InvoiceNo StockCode                          Description  Quantity  \\\n",
       "0    536365    85123A   white hanging heart t-light holder         6   \n",
       "1    536365     71053                  white metal lantern         6   \n",
       "2    536365    84406B       cream cupid hearts coat hanger         8   \n",
       "3    536365    84029G  knitted union flag hot water bottle         6   \n",
       "4    536365    84029E       red woolly hottie white heart.         6   \n",
       "\n",
       "          InvoiceDate  UnitPrice  CustomerID         Country  \n",
       "0 2010-12-01 08:26:00       2.55     17850.0  United Kingdom  \n",
       "1 2010-12-01 08:26:00       3.39     17850.0  United Kingdom  \n",
       "2 2010-12-01 08:26:00       2.75     17850.0  United Kingdom  \n",
       "3 2010-12-01 08:26:00       3.39     17850.0  United Kingdom  \n",
       "4 2010-12-01 08:26:00       3.39     17850.0  United Kingdom  "
      ]
     },
     "execution_count": 19,
     "metadata": {},
     "output_type": "execute_result"
    }
   ],
   "source": [
    "# Preprocessing\n",
    "df['Description'] = df['Description'].str.strip() # remove unnecessary spaces\n",
    "df['Description'] = df['Description'].str.lower() # lower case normalization\n",
    "df.dropna(axis=0, subset=['InvoiceNo'], inplace=True) # delete rows with no invoice no\n",
    "df['InvoiceNo'] = df['InvoiceNo'].astype('str') # Change data type\n",
    "df = df[~df['InvoiceNo'].str.contains('c')] # remove invoice with C in it\n",
    "df.head()"
   ]
  },
  {
   "cell_type": "code",
   "execution_count": 29,
   "metadata": {
    "ExecuteTime": {
     "end_time": "2019-09-29T20:32:11.042876Z",
     "start_time": "2019-09-29T20:32:10.996004Z"
    }
   },
   "outputs": [
    {
     "data": {
      "text/html": [
       "<div>\n",
       "<style scoped>\n",
       "    .dataframe tbody tr th:only-of-type {\n",
       "        vertical-align: middle;\n",
       "    }\n",
       "\n",
       "    .dataframe tbody tr th {\n",
       "        vertical-align: top;\n",
       "    }\n",
       "\n",
       "    .dataframe thead th {\n",
       "        text-align: right;\n",
       "    }\n",
       "</style>\n",
       "<table border=\"1\" class=\"dataframe\">\n",
       "  <thead>\n",
       "    <tr style=\"text-align: right;\">\n",
       "      <th></th>\n",
       "      <th>InvoiceNo</th>\n",
       "      <th>StockCode</th>\n",
       "      <th>Description</th>\n",
       "      <th>Quantity</th>\n",
       "      <th>InvoiceDate</th>\n",
       "      <th>UnitPrice</th>\n",
       "      <th>CustomerID</th>\n",
       "      <th>Country</th>\n",
       "    </tr>\n",
       "  </thead>\n",
       "  <tbody>\n",
       "    <tr>\n",
       "      <td>26</td>\n",
       "      <td>536370</td>\n",
       "      <td>22728</td>\n",
       "      <td>alarm clock bakelike pink</td>\n",
       "      <td>24</td>\n",
       "      <td>2010-12-01 08:45:00</td>\n",
       "      <td>3.75</td>\n",
       "      <td>12583.0</td>\n",
       "      <td>France</td>\n",
       "    </tr>\n",
       "    <tr>\n",
       "      <td>27</td>\n",
       "      <td>536370</td>\n",
       "      <td>22727</td>\n",
       "      <td>alarm clock bakelike red</td>\n",
       "      <td>24</td>\n",
       "      <td>2010-12-01 08:45:00</td>\n",
       "      <td>3.75</td>\n",
       "      <td>12583.0</td>\n",
       "      <td>France</td>\n",
       "    </tr>\n",
       "    <tr>\n",
       "      <td>28</td>\n",
       "      <td>536370</td>\n",
       "      <td>22726</td>\n",
       "      <td>alarm clock bakelike green</td>\n",
       "      <td>12</td>\n",
       "      <td>2010-12-01 08:45:00</td>\n",
       "      <td>3.75</td>\n",
       "      <td>12583.0</td>\n",
       "      <td>France</td>\n",
       "    </tr>\n",
       "    <tr>\n",
       "      <td>29</td>\n",
       "      <td>536370</td>\n",
       "      <td>21724</td>\n",
       "      <td>panda and bunnies sticker sheet</td>\n",
       "      <td>12</td>\n",
       "      <td>2010-12-01 08:45:00</td>\n",
       "      <td>0.85</td>\n",
       "      <td>12583.0</td>\n",
       "      <td>France</td>\n",
       "    </tr>\n",
       "    <tr>\n",
       "      <td>30</td>\n",
       "      <td>536370</td>\n",
       "      <td>21883</td>\n",
       "      <td>stars gift tape</td>\n",
       "      <td>24</td>\n",
       "      <td>2010-12-01 08:45:00</td>\n",
       "      <td>0.65</td>\n",
       "      <td>12583.0</td>\n",
       "      <td>France</td>\n",
       "    </tr>\n",
       "  </tbody>\n",
       "</table>\n",
       "</div>"
      ],
      "text/plain": [
       "   InvoiceNo StockCode                      Description  Quantity  \\\n",
       "26    536370     22728        alarm clock bakelike pink        24   \n",
       "27    536370     22727         alarm clock bakelike red        24   \n",
       "28    536370     22726       alarm clock bakelike green        12   \n",
       "29    536370     21724  panda and bunnies sticker sheet        12   \n",
       "30    536370     21883                  stars gift tape        24   \n",
       "\n",
       "           InvoiceDate  UnitPrice  CustomerID Country  \n",
       "26 2010-12-01 08:45:00       3.75     12583.0  France  \n",
       "27 2010-12-01 08:45:00       3.75     12583.0  France  \n",
       "28 2010-12-01 08:45:00       3.75     12583.0  France  \n",
       "29 2010-12-01 08:45:00       0.85     12583.0  France  \n",
       "30 2010-12-01 08:45:00       0.65     12583.0  France  "
      ]
     },
     "execution_count": 29,
     "metadata": {},
     "output_type": "execute_result"
    }
   ],
   "source": [
    "# Let's sample the data\n",
    "basket = (df[df['Country'] ==\"France\"])\n",
    "basket.head()"
   ]
  },
  {
   "cell_type": "code",
   "execution_count": 30,
   "metadata": {
    "ExecuteTime": {
     "end_time": "2019-09-29T20:32:13.261501Z",
     "start_time": "2019-09-29T20:32:13.248537Z"
    }
   },
   "outputs": [
    {
     "data": {
      "text/plain": [
       "26        24\n",
       "27        24\n",
       "28        12\n",
       "29        12\n",
       "30        24\n",
       "          ..\n",
       "541904    12\n",
       "541905     6\n",
       "541906     4\n",
       "541907     4\n",
       "541908     3\n",
       "Name: Quantity, Length: 8557, dtype: int64"
      ]
     },
     "execution_count": 30,
     "metadata": {},
     "output_type": "execute_result"
    }
   ],
   "source": [
    "# Group the transaction\n",
    "basket = basket.groupby(['InvoiceNo', 'Description'])['Quantity']\n",
    "basket.head()"
   ]
  },
  {
   "cell_type": "code",
   "execution_count": 31,
   "metadata": {
    "ExecuteTime": {
     "end_time": "2019-09-29T20:32:15.608019Z",
     "start_time": "2019-09-29T20:32:15.558154Z"
    }
   },
   "outputs": [
    {
     "data": {
      "text/html": [
       "<div>\n",
       "<style scoped>\n",
       "    .dataframe tbody tr th:only-of-type {\n",
       "        vertical-align: middle;\n",
       "    }\n",
       "\n",
       "    .dataframe tbody tr th {\n",
       "        vertical-align: top;\n",
       "    }\n",
       "\n",
       "    .dataframe thead th {\n",
       "        text-align: right;\n",
       "    }\n",
       "</style>\n",
       "<table border=\"1\" class=\"dataframe\">\n",
       "  <thead>\n",
       "    <tr style=\"text-align: right;\">\n",
       "      <th>Description</th>\n",
       "      <th>10 colour spaceboy pen</th>\n",
       "      <th>12 coloured party balloons</th>\n",
       "      <th>12 egg house painted wood</th>\n",
       "      <th>12 message cards with envelopes</th>\n",
       "      <th>12 pencil small tube woodland</th>\n",
       "      <th>12 pencils small tube red retrospot</th>\n",
       "      <th>12 pencils small tube skull</th>\n",
       "      <th>12 pencils tall tube posy</th>\n",
       "      <th>12 pencils tall tube red retrospot</th>\n",
       "      <th>12 pencils tall tube woodland</th>\n",
       "      <th>...</th>\n",
       "      <th>wrap vintage petals  design</th>\n",
       "      <th>yellow coat rack paris fashion</th>\n",
       "      <th>yellow giant garden thermometer</th>\n",
       "      <th>yellow shark helicopter</th>\n",
       "      <th>zinc  star t-light holder</th>\n",
       "      <th>zinc folkart sleigh bells</th>\n",
       "      <th>zinc herb garden container</th>\n",
       "      <th>zinc metal heart decoration</th>\n",
       "      <th>zinc t-light holder star large</th>\n",
       "      <th>zinc t-light holder stars small</th>\n",
       "    </tr>\n",
       "    <tr>\n",
       "      <th>InvoiceNo</th>\n",
       "      <th></th>\n",
       "      <th></th>\n",
       "      <th></th>\n",
       "      <th></th>\n",
       "      <th></th>\n",
       "      <th></th>\n",
       "      <th></th>\n",
       "      <th></th>\n",
       "      <th></th>\n",
       "      <th></th>\n",
       "      <th></th>\n",
       "      <th></th>\n",
       "      <th></th>\n",
       "      <th></th>\n",
       "      <th></th>\n",
       "      <th></th>\n",
       "      <th></th>\n",
       "      <th></th>\n",
       "      <th></th>\n",
       "      <th></th>\n",
       "      <th></th>\n",
       "    </tr>\n",
       "  </thead>\n",
       "  <tbody>\n",
       "    <tr>\n",
       "      <td>536370</td>\n",
       "      <td>0.0</td>\n",
       "      <td>0.0</td>\n",
       "      <td>0.0</td>\n",
       "      <td>0.0</td>\n",
       "      <td>0.0</td>\n",
       "      <td>0.0</td>\n",
       "      <td>0.0</td>\n",
       "      <td>0.0</td>\n",
       "      <td>0.0</td>\n",
       "      <td>0.0</td>\n",
       "      <td>...</td>\n",
       "      <td>0.0</td>\n",
       "      <td>0.0</td>\n",
       "      <td>0.0</td>\n",
       "      <td>0.0</td>\n",
       "      <td>0.0</td>\n",
       "      <td>0.0</td>\n",
       "      <td>0.0</td>\n",
       "      <td>0.0</td>\n",
       "      <td>0.0</td>\n",
       "      <td>0.0</td>\n",
       "    </tr>\n",
       "    <tr>\n",
       "      <td>536852</td>\n",
       "      <td>0.0</td>\n",
       "      <td>0.0</td>\n",
       "      <td>0.0</td>\n",
       "      <td>0.0</td>\n",
       "      <td>0.0</td>\n",
       "      <td>0.0</td>\n",
       "      <td>0.0</td>\n",
       "      <td>0.0</td>\n",
       "      <td>0.0</td>\n",
       "      <td>0.0</td>\n",
       "      <td>...</td>\n",
       "      <td>0.0</td>\n",
       "      <td>0.0</td>\n",
       "      <td>0.0</td>\n",
       "      <td>0.0</td>\n",
       "      <td>0.0</td>\n",
       "      <td>0.0</td>\n",
       "      <td>0.0</td>\n",
       "      <td>0.0</td>\n",
       "      <td>0.0</td>\n",
       "      <td>0.0</td>\n",
       "    </tr>\n",
       "    <tr>\n",
       "      <td>536974</td>\n",
       "      <td>0.0</td>\n",
       "      <td>0.0</td>\n",
       "      <td>0.0</td>\n",
       "      <td>0.0</td>\n",
       "      <td>0.0</td>\n",
       "      <td>0.0</td>\n",
       "      <td>0.0</td>\n",
       "      <td>0.0</td>\n",
       "      <td>0.0</td>\n",
       "      <td>0.0</td>\n",
       "      <td>...</td>\n",
       "      <td>0.0</td>\n",
       "      <td>0.0</td>\n",
       "      <td>0.0</td>\n",
       "      <td>0.0</td>\n",
       "      <td>0.0</td>\n",
       "      <td>0.0</td>\n",
       "      <td>0.0</td>\n",
       "      <td>0.0</td>\n",
       "      <td>0.0</td>\n",
       "      <td>0.0</td>\n",
       "    </tr>\n",
       "    <tr>\n",
       "      <td>537065</td>\n",
       "      <td>0.0</td>\n",
       "      <td>0.0</td>\n",
       "      <td>0.0</td>\n",
       "      <td>0.0</td>\n",
       "      <td>0.0</td>\n",
       "      <td>0.0</td>\n",
       "      <td>0.0</td>\n",
       "      <td>0.0</td>\n",
       "      <td>0.0</td>\n",
       "      <td>0.0</td>\n",
       "      <td>...</td>\n",
       "      <td>0.0</td>\n",
       "      <td>0.0</td>\n",
       "      <td>0.0</td>\n",
       "      <td>0.0</td>\n",
       "      <td>0.0</td>\n",
       "      <td>0.0</td>\n",
       "      <td>0.0</td>\n",
       "      <td>0.0</td>\n",
       "      <td>0.0</td>\n",
       "      <td>0.0</td>\n",
       "    </tr>\n",
       "    <tr>\n",
       "      <td>537463</td>\n",
       "      <td>0.0</td>\n",
       "      <td>0.0</td>\n",
       "      <td>0.0</td>\n",
       "      <td>0.0</td>\n",
       "      <td>0.0</td>\n",
       "      <td>0.0</td>\n",
       "      <td>0.0</td>\n",
       "      <td>0.0</td>\n",
       "      <td>0.0</td>\n",
       "      <td>0.0</td>\n",
       "      <td>...</td>\n",
       "      <td>0.0</td>\n",
       "      <td>0.0</td>\n",
       "      <td>0.0</td>\n",
       "      <td>0.0</td>\n",
       "      <td>0.0</td>\n",
       "      <td>0.0</td>\n",
       "      <td>0.0</td>\n",
       "      <td>0.0</td>\n",
       "      <td>0.0</td>\n",
       "      <td>0.0</td>\n",
       "    </tr>\n",
       "  </tbody>\n",
       "</table>\n",
       "<p>5 rows × 1564 columns</p>\n",
       "</div>"
      ],
      "text/plain": [
       "Description  10 colour spaceboy pen  12 coloured party balloons  \\\n",
       "InvoiceNo                                                         \n",
       "536370                          0.0                         0.0   \n",
       "536852                          0.0                         0.0   \n",
       "536974                          0.0                         0.0   \n",
       "537065                          0.0                         0.0   \n",
       "537463                          0.0                         0.0   \n",
       "\n",
       "Description  12 egg house painted wood  12 message cards with envelopes  \\\n",
       "InvoiceNo                                                                 \n",
       "536370                             0.0                              0.0   \n",
       "536852                             0.0                              0.0   \n",
       "536974                             0.0                              0.0   \n",
       "537065                             0.0                              0.0   \n",
       "537463                             0.0                              0.0   \n",
       "\n",
       "Description  12 pencil small tube woodland  \\\n",
       "InvoiceNo                                    \n",
       "536370                                 0.0   \n",
       "536852                                 0.0   \n",
       "536974                                 0.0   \n",
       "537065                                 0.0   \n",
       "537463                                 0.0   \n",
       "\n",
       "Description  12 pencils small tube red retrospot  12 pencils small tube skull  \\\n",
       "InvoiceNo                                                                       \n",
       "536370                                       0.0                          0.0   \n",
       "536852                                       0.0                          0.0   \n",
       "536974                                       0.0                          0.0   \n",
       "537065                                       0.0                          0.0   \n",
       "537463                                       0.0                          0.0   \n",
       "\n",
       "Description  12 pencils tall tube posy  12 pencils tall tube red retrospot  \\\n",
       "InvoiceNo                                                                    \n",
       "536370                             0.0                                 0.0   \n",
       "536852                             0.0                                 0.0   \n",
       "536974                             0.0                                 0.0   \n",
       "537065                             0.0                                 0.0   \n",
       "537463                             0.0                                 0.0   \n",
       "\n",
       "Description  12 pencils tall tube woodland  ...  wrap vintage petals  design  \\\n",
       "InvoiceNo                                   ...                                \n",
       "536370                                 0.0  ...                          0.0   \n",
       "536852                                 0.0  ...                          0.0   \n",
       "536974                                 0.0  ...                          0.0   \n",
       "537065                                 0.0  ...                          0.0   \n",
       "537463                                 0.0  ...                          0.0   \n",
       "\n",
       "Description  yellow coat rack paris fashion  yellow giant garden thermometer  \\\n",
       "InvoiceNo                                                                      \n",
       "536370                                  0.0                              0.0   \n",
       "536852                                  0.0                              0.0   \n",
       "536974                                  0.0                              0.0   \n",
       "537065                                  0.0                              0.0   \n",
       "537463                                  0.0                              0.0   \n",
       "\n",
       "Description  yellow shark helicopter  zinc  star t-light holder  \\\n",
       "InvoiceNo                                                         \n",
       "536370                           0.0                        0.0   \n",
       "536852                           0.0                        0.0   \n",
       "536974                           0.0                        0.0   \n",
       "537065                           0.0                        0.0   \n",
       "537463                           0.0                        0.0   \n",
       "\n",
       "Description  zinc folkart sleigh bells  zinc herb garden container  \\\n",
       "InvoiceNo                                                            \n",
       "536370                             0.0                         0.0   \n",
       "536852                             0.0                         0.0   \n",
       "536974                             0.0                         0.0   \n",
       "537065                             0.0                         0.0   \n",
       "537463                             0.0                         0.0   \n",
       "\n",
       "Description  zinc metal heart decoration  zinc t-light holder star large  \\\n",
       "InvoiceNo                                                                  \n",
       "536370                               0.0                             0.0   \n",
       "536852                               0.0                             0.0   \n",
       "536974                               0.0                             0.0   \n",
       "537065                               0.0                             0.0   \n",
       "537463                               0.0                             0.0   \n",
       "\n",
       "Description  zinc t-light holder stars small  \n",
       "InvoiceNo                                     \n",
       "536370                                   0.0  \n",
       "536852                                   0.0  \n",
       "536974                                   0.0  \n",
       "537065                                   0.0  \n",
       "537463                                   0.0  \n",
       "\n",
       "[5 rows x 1564 columns]"
      ]
     },
     "execution_count": 31,
     "metadata": {},
     "output_type": "execute_result"
    }
   ],
   "source": [
    "# Jumlahkan, unstack, Null=0, index baris menggunakan Nomer Invoice\n",
    "basket = basket.sum().unstack().reset_index().fillna(0).set_index('InvoiceNo')\n",
    "basket.head()"
   ]
  },
  {
   "cell_type": "code",
   "execution_count": 47,
   "metadata": {
    "ExecuteTime": {
     "end_time": "2019-09-29T20:37:57.674508Z",
     "start_time": "2019-09-29T20:37:57.127951Z"
    }
   },
   "outputs": [
    {
     "data": {
      "text/html": [
       "<div>\n",
       "<style scoped>\n",
       "    .dataframe tbody tr th:only-of-type {\n",
       "        vertical-align: middle;\n",
       "    }\n",
       "\n",
       "    .dataframe tbody tr th {\n",
       "        vertical-align: top;\n",
       "    }\n",
       "\n",
       "    .dataframe thead th {\n",
       "        text-align: right;\n",
       "    }\n",
       "</style>\n",
       "<table border=\"1\" class=\"dataframe\">\n",
       "  <thead>\n",
       "    <tr style=\"text-align: right;\">\n",
       "      <th>Description</th>\n",
       "      <th>10 colour spaceboy pen</th>\n",
       "      <th>12 coloured party balloons</th>\n",
       "      <th>12 egg house painted wood</th>\n",
       "      <th>12 message cards with envelopes</th>\n",
       "      <th>12 pencil small tube woodland</th>\n",
       "      <th>12 pencils small tube red retrospot</th>\n",
       "      <th>12 pencils small tube skull</th>\n",
       "      <th>12 pencils tall tube posy</th>\n",
       "      <th>12 pencils tall tube red retrospot</th>\n",
       "      <th>12 pencils tall tube woodland</th>\n",
       "      <th>...</th>\n",
       "      <th>wrap vintage petals  design</th>\n",
       "      <th>yellow coat rack paris fashion</th>\n",
       "      <th>yellow giant garden thermometer</th>\n",
       "      <th>yellow shark helicopter</th>\n",
       "      <th>zinc  star t-light holder</th>\n",
       "      <th>zinc folkart sleigh bells</th>\n",
       "      <th>zinc herb garden container</th>\n",
       "      <th>zinc metal heart decoration</th>\n",
       "      <th>zinc t-light holder star large</th>\n",
       "      <th>zinc t-light holder stars small</th>\n",
       "    </tr>\n",
       "    <tr>\n",
       "      <th>InvoiceNo</th>\n",
       "      <th></th>\n",
       "      <th></th>\n",
       "      <th></th>\n",
       "      <th></th>\n",
       "      <th></th>\n",
       "      <th></th>\n",
       "      <th></th>\n",
       "      <th></th>\n",
       "      <th></th>\n",
       "      <th></th>\n",
       "      <th></th>\n",
       "      <th></th>\n",
       "      <th></th>\n",
       "      <th></th>\n",
       "      <th></th>\n",
       "      <th></th>\n",
       "      <th></th>\n",
       "      <th></th>\n",
       "      <th></th>\n",
       "      <th></th>\n",
       "      <th></th>\n",
       "    </tr>\n",
       "  </thead>\n",
       "  <tbody>\n",
       "    <tr>\n",
       "      <td>536370</td>\n",
       "      <td>0</td>\n",
       "      <td>0</td>\n",
       "      <td>0</td>\n",
       "      <td>0</td>\n",
       "      <td>0</td>\n",
       "      <td>0</td>\n",
       "      <td>0</td>\n",
       "      <td>0</td>\n",
       "      <td>0</td>\n",
       "      <td>0</td>\n",
       "      <td>...</td>\n",
       "      <td>0</td>\n",
       "      <td>0</td>\n",
       "      <td>0</td>\n",
       "      <td>0</td>\n",
       "      <td>0</td>\n",
       "      <td>0</td>\n",
       "      <td>0</td>\n",
       "      <td>0</td>\n",
       "      <td>0</td>\n",
       "      <td>0</td>\n",
       "    </tr>\n",
       "    <tr>\n",
       "      <td>536852</td>\n",
       "      <td>0</td>\n",
       "      <td>0</td>\n",
       "      <td>0</td>\n",
       "      <td>0</td>\n",
       "      <td>0</td>\n",
       "      <td>0</td>\n",
       "      <td>0</td>\n",
       "      <td>0</td>\n",
       "      <td>0</td>\n",
       "      <td>0</td>\n",
       "      <td>...</td>\n",
       "      <td>0</td>\n",
       "      <td>0</td>\n",
       "      <td>0</td>\n",
       "      <td>0</td>\n",
       "      <td>0</td>\n",
       "      <td>0</td>\n",
       "      <td>0</td>\n",
       "      <td>0</td>\n",
       "      <td>0</td>\n",
       "      <td>0</td>\n",
       "    </tr>\n",
       "    <tr>\n",
       "      <td>536974</td>\n",
       "      <td>0</td>\n",
       "      <td>0</td>\n",
       "      <td>0</td>\n",
       "      <td>0</td>\n",
       "      <td>0</td>\n",
       "      <td>0</td>\n",
       "      <td>0</td>\n",
       "      <td>0</td>\n",
       "      <td>0</td>\n",
       "      <td>0</td>\n",
       "      <td>...</td>\n",
       "      <td>0</td>\n",
       "      <td>0</td>\n",
       "      <td>0</td>\n",
       "      <td>0</td>\n",
       "      <td>0</td>\n",
       "      <td>0</td>\n",
       "      <td>0</td>\n",
       "      <td>0</td>\n",
       "      <td>0</td>\n",
       "      <td>0</td>\n",
       "    </tr>\n",
       "    <tr>\n",
       "      <td>537065</td>\n",
       "      <td>0</td>\n",
       "      <td>0</td>\n",
       "      <td>0</td>\n",
       "      <td>0</td>\n",
       "      <td>0</td>\n",
       "      <td>0</td>\n",
       "      <td>0</td>\n",
       "      <td>0</td>\n",
       "      <td>0</td>\n",
       "      <td>0</td>\n",
       "      <td>...</td>\n",
       "      <td>0</td>\n",
       "      <td>0</td>\n",
       "      <td>0</td>\n",
       "      <td>0</td>\n",
       "      <td>0</td>\n",
       "      <td>0</td>\n",
       "      <td>0</td>\n",
       "      <td>0</td>\n",
       "      <td>0</td>\n",
       "      <td>0</td>\n",
       "    </tr>\n",
       "    <tr>\n",
       "      <td>537463</td>\n",
       "      <td>0</td>\n",
       "      <td>0</td>\n",
       "      <td>0</td>\n",
       "      <td>0</td>\n",
       "      <td>0</td>\n",
       "      <td>0</td>\n",
       "      <td>0</td>\n",
       "      <td>0</td>\n",
       "      <td>0</td>\n",
       "      <td>0</td>\n",
       "      <td>...</td>\n",
       "      <td>0</td>\n",
       "      <td>0</td>\n",
       "      <td>0</td>\n",
       "      <td>0</td>\n",
       "      <td>0</td>\n",
       "      <td>0</td>\n",
       "      <td>0</td>\n",
       "      <td>0</td>\n",
       "      <td>0</td>\n",
       "      <td>0</td>\n",
       "    </tr>\n",
       "  </tbody>\n",
       "</table>\n",
       "<p>5 rows × 1564 columns</p>\n",
       "</div>"
      ],
      "text/plain": [
       "Description  10 colour spaceboy pen  12 coloured party balloons  \\\n",
       "InvoiceNo                                                         \n",
       "536370                            0                           0   \n",
       "536852                            0                           0   \n",
       "536974                            0                           0   \n",
       "537065                            0                           0   \n",
       "537463                            0                           0   \n",
       "\n",
       "Description  12 egg house painted wood  12 message cards with envelopes  \\\n",
       "InvoiceNo                                                                 \n",
       "536370                               0                                0   \n",
       "536852                               0                                0   \n",
       "536974                               0                                0   \n",
       "537065                               0                                0   \n",
       "537463                               0                                0   \n",
       "\n",
       "Description  12 pencil small tube woodland  \\\n",
       "InvoiceNo                                    \n",
       "536370                                   0   \n",
       "536852                                   0   \n",
       "536974                                   0   \n",
       "537065                                   0   \n",
       "537463                                   0   \n",
       "\n",
       "Description  12 pencils small tube red retrospot  12 pencils small tube skull  \\\n",
       "InvoiceNo                                                                       \n",
       "536370                                         0                            0   \n",
       "536852                                         0                            0   \n",
       "536974                                         0                            0   \n",
       "537065                                         0                            0   \n",
       "537463                                         0                            0   \n",
       "\n",
       "Description  12 pencils tall tube posy  12 pencils tall tube red retrospot  \\\n",
       "InvoiceNo                                                                    \n",
       "536370                               0                                   0   \n",
       "536852                               0                                   0   \n",
       "536974                               0                                   0   \n",
       "537065                               0                                   0   \n",
       "537463                               0                                   0   \n",
       "\n",
       "Description  12 pencils tall tube woodland  ...  wrap vintage petals  design  \\\n",
       "InvoiceNo                                   ...                                \n",
       "536370                                   0  ...                            0   \n",
       "536852                                   0  ...                            0   \n",
       "536974                                   0  ...                            0   \n",
       "537065                                   0  ...                            0   \n",
       "537463                                   0  ...                            0   \n",
       "\n",
       "Description  yellow coat rack paris fashion  yellow giant garden thermometer  \\\n",
       "InvoiceNo                                                                      \n",
       "536370                                    0                                0   \n",
       "536852                                    0                                0   \n",
       "536974                                    0                                0   \n",
       "537065                                    0                                0   \n",
       "537463                                    0                                0   \n",
       "\n",
       "Description  yellow shark helicopter  zinc  star t-light holder  \\\n",
       "InvoiceNo                                                         \n",
       "536370                             0                          0   \n",
       "536852                             0                          0   \n",
       "536974                             0                          0   \n",
       "537065                             0                          0   \n",
       "537463                             0                          0   \n",
       "\n",
       "Description  zinc folkart sleigh bells  zinc herb garden container  \\\n",
       "InvoiceNo                                                            \n",
       "536370                               0                           0   \n",
       "536852                               0                           0   \n",
       "536974                               0                           0   \n",
       "537065                               0                           0   \n",
       "537463                               0                           0   \n",
       "\n",
       "Description  zinc metal heart decoration  zinc t-light holder star large  \\\n",
       "InvoiceNo                                                                  \n",
       "536370                                 0                               0   \n",
       "536852                                 0                               0   \n",
       "536974                                 0                               0   \n",
       "537065                                 0                               0   \n",
       "537463                                 0                               0   \n",
       "\n",
       "Description  zinc t-light holder stars small  \n",
       "InvoiceNo                                     \n",
       "536370                                     0  \n",
       "536852                                     0  \n",
       "536974                                     0  \n",
       "537065                                     0  \n",
       "537463                                     0  \n",
       "\n",
       "[5 rows x 1564 columns]"
      ]
     },
     "execution_count": 47,
     "metadata": {},
     "output_type": "execute_result"
    }
   ],
   "source": [
    "def encode_units(x):\n",
    "    if x <= 0:\n",
    "        return 0\n",
    "    if x >= 1:\n",
    "        return 1\n",
    "\n",
    "basket_sets = basket.applymap(encode_units) # one-hot encoding\n",
    "basket_sets.head()"
   ]
  },
  {
   "cell_type": "markdown",
   "metadata": {},
   "source": [
    "# Understanding the Data Structure"
   ]
  },
  {
   "cell_type": "code",
   "execution_count": 40,
   "metadata": {
    "ExecuteTime": {
     "end_time": "2019-09-29T20:36:15.110561Z",
     "start_time": "2019-09-29T20:36:15.105574Z"
    }
   },
   "outputs": [
    {
     "data": {
      "text/plain": [
       "Index(['10 colour spaceboy pen', '12 coloured party balloons',\n",
       "       '12 egg house painted wood', '12 message cards with envelopes',\n",
       "       '12 pencil small tube woodland', '12 pencils small tube red retrospot',\n",
       "       '12 pencils small tube skull', '12 pencils tall tube posy',\n",
       "       '12 pencils tall tube red retrospot', '12 pencils tall tube woodland',\n",
       "       ...\n",
       "       'wrap vintage petals  design', 'yellow coat rack paris fashion',\n",
       "       'yellow giant garden thermometer', 'yellow shark helicopter',\n",
       "       'zinc  star t-light holder', 'zinc folkart sleigh bells',\n",
       "       'zinc herb garden container', 'zinc metal heart decoration',\n",
       "       'zinc t-light holder star large', 'zinc t-light holder stars small'],\n",
       "      dtype='object', name='Description', length=1564)"
      ]
     },
     "execution_count": 40,
     "metadata": {},
     "output_type": "execute_result"
    }
   ],
   "source": [
    "basket_sets.columns"
   ]
  },
  {
   "cell_type": "code",
   "execution_count": 41,
   "metadata": {
    "ExecuteTime": {
     "end_time": "2019-09-29T20:36:23.442100Z",
     "start_time": "2019-09-29T20:36:23.436117Z"
    }
   },
   "outputs": [
    {
     "data": {
      "text/plain": [
       "Index(['536370', '536852', '536974', '537065', '537463', '537468', '537693',\n",
       "       '537897', '537967', '538008',\n",
       "       ...\n",
       "       'C576908', 'C578377', 'C578743', 'C579127', 'C579192', 'C579532',\n",
       "       'C579562', 'C580161', 'C580263', 'C581316'],\n",
       "      dtype='object', name='InvoiceNo', length=461)"
      ]
     },
     "execution_count": 41,
     "metadata": {},
     "output_type": "execute_result"
    }
   ],
   "source": [
    "basket_sets.index"
   ]
  },
  {
   "cell_type": "code",
   "execution_count": 45,
   "metadata": {
    "ExecuteTime": {
     "end_time": "2019-09-29T20:37:27.789473Z",
     "start_time": "2019-09-29T20:37:27.782456Z"
    }
   },
   "outputs": [
    {
     "data": {
      "text/plain": [
       "Description\n",
       "10 colour spaceboy pen             0\n",
       "12 coloured party balloons         0\n",
       "12 egg house painted wood          0\n",
       "12 message cards with envelopes    0\n",
       "12 pencil small tube woodland      0\n",
       "                                  ..\n",
       "zinc folkart sleigh bells          0\n",
       "zinc herb garden container         0\n",
       "zinc metal heart decoration        0\n",
       "zinc t-light holder star large     0\n",
       "zinc t-light holder stars small    0\n",
       "Name: 536370, Length: 1564, dtype: int64"
      ]
     },
     "execution_count": 45,
     "metadata": {},
     "output_type": "execute_result"
    }
   ],
   "source": [
    "basket_sets.iloc[0]"
   ]
  },
  {
   "cell_type": "code",
   "execution_count": 46,
   "metadata": {
    "ExecuteTime": {
     "end_time": "2019-09-29T20:37:32.721244Z",
     "start_time": "2019-09-29T20:37:32.715259Z"
    }
   },
   "outputs": [
    {
     "data": {
      "text/plain": [
       "20"
      ]
     },
     "execution_count": 46,
     "metadata": {},
     "output_type": "execute_result"
    }
   ],
   "source": [
    "basket_sets.iloc[0].sum()"
   ]
  },
  {
   "cell_type": "code",
   "execution_count": 53,
   "metadata": {
    "ExecuteTime": {
     "end_time": "2019-09-29T20:43:00.777539Z",
     "start_time": "2019-09-29T20:43:00.747619Z"
    }
   },
   "outputs": [
    {
     "data": {
      "text/html": [
       "<div>\n",
       "<style scoped>\n",
       "    .dataframe tbody tr th:only-of-type {\n",
       "        vertical-align: middle;\n",
       "    }\n",
       "\n",
       "    .dataframe tbody tr th {\n",
       "        vertical-align: top;\n",
       "    }\n",
       "\n",
       "    .dataframe thead th {\n",
       "        text-align: right;\n",
       "    }\n",
       "</style>\n",
       "<table border=\"1\" class=\"dataframe\">\n",
       "  <thead>\n",
       "    <tr style=\"text-align: right;\">\n",
       "      <th></th>\n",
       "      <th>support</th>\n",
       "      <th>itemsets</th>\n",
       "    </tr>\n",
       "  </thead>\n",
       "  <tbody>\n",
       "    <tr>\n",
       "      <td>16</td>\n",
       "      <td>0.650759</td>\n",
       "      <td>(postage)</td>\n",
       "    </tr>\n",
       "    <tr>\n",
       "      <td>17</td>\n",
       "      <td>0.160521</td>\n",
       "      <td>(rabbit night light)</td>\n",
       "    </tr>\n",
       "    <tr>\n",
       "      <td>20</td>\n",
       "      <td>0.154013</td>\n",
       "      <td>(red toadstool led night light)</td>\n",
       "    </tr>\n",
       "    <tr>\n",
       "      <td>15</td>\n",
       "      <td>0.145336</td>\n",
       "      <td>(plasters in tin woodland animals)</td>\n",
       "    </tr>\n",
       "    <tr>\n",
       "      <td>13</td>\n",
       "      <td>0.143167</td>\n",
       "      <td>(plasters in tin circus parade)</td>\n",
       "    </tr>\n",
       "    <tr>\n",
       "      <td>...</td>\n",
       "      <td>...</td>\n",
       "      <td>...</td>\n",
       "    </tr>\n",
       "    <tr>\n",
       "      <td>61</td>\n",
       "      <td>0.071584</td>\n",
       "      <td>(plasters in tin circus parade, postage, plast...</td>\n",
       "    </tr>\n",
       "    <tr>\n",
       "      <td>62</td>\n",
       "      <td>0.071584</td>\n",
       "      <td>(plasters in tin spaceboy, postage, plasters i...</td>\n",
       "    </tr>\n",
       "    <tr>\n",
       "      <td>63</td>\n",
       "      <td>0.071584</td>\n",
       "      <td>(set/6 red spotty paper cups, postage, set/20 ...</td>\n",
       "    </tr>\n",
       "    <tr>\n",
       "      <td>64</td>\n",
       "      <td>0.071584</td>\n",
       "      <td>(postage, set/6 red spotty paper plates, set/2...</td>\n",
       "    </tr>\n",
       "    <tr>\n",
       "      <td>39</td>\n",
       "      <td>0.071584</td>\n",
       "      <td>(pack of 72 retrospot cake cases, postage)</td>\n",
       "    </tr>\n",
       "  </tbody>\n",
       "</table>\n",
       "<p>67 rows × 2 columns</p>\n",
       "</div>"
      ],
      "text/plain": [
       "     support                                           itemsets\n",
       "16  0.650759                                          (postage)\n",
       "17  0.160521                               (rabbit night light)\n",
       "20  0.154013                    (red toadstool led night light)\n",
       "15  0.145336                 (plasters in tin woodland animals)\n",
       "13  0.143167                    (plasters in tin circus parade)\n",
       "..       ...                                                ...\n",
       "61  0.071584  (plasters in tin circus parade, postage, plast...\n",
       "62  0.071584  (plasters in tin spaceboy, postage, plasters i...\n",
       "63  0.071584  (set/6 red spotty paper cups, postage, set/20 ...\n",
       "64  0.071584  (postage, set/6 red spotty paper plates, set/2...\n",
       "39  0.071584         (pack of 72 retrospot cake cases, postage)\n",
       "\n",
       "[67 rows x 2 columns]"
      ]
     },
     "execution_count": 53,
     "metadata": {},
     "output_type": "execute_result"
    }
   ],
   "source": [
    "frequent_itemsets = apriori(basket_sets, min_support=0.07, use_colnames=True)\n",
    "frequent_itemsets.sort_values(by='support', ascending=False, na_position='last', inplace = True)\n",
    "frequent_itemsets"
   ]
  },
  {
   "cell_type": "code",
   "execution_count": 56,
   "metadata": {
    "ExecuteTime": {
     "end_time": "2019-09-29T20:44:22.014292Z",
     "start_time": "2019-09-29T20:44:21.991377Z"
    }
   },
   "outputs": [
    {
     "data": {
      "text/html": [
       "<div>\n",
       "<style scoped>\n",
       "    .dataframe tbody tr th:only-of-type {\n",
       "        vertical-align: middle;\n",
       "    }\n",
       "\n",
       "    .dataframe tbody tr th {\n",
       "        vertical-align: top;\n",
       "    }\n",
       "\n",
       "    .dataframe thead th {\n",
       "        text-align: right;\n",
       "    }\n",
       "</style>\n",
       "<table border=\"1\" class=\"dataframe\">\n",
       "  <thead>\n",
       "    <tr style=\"text-align: right;\">\n",
       "      <th></th>\n",
       "      <th>antecedents</th>\n",
       "      <th>consequents</th>\n",
       "      <th>antecedent support</th>\n",
       "      <th>consequent support</th>\n",
       "      <th>support</th>\n",
       "      <th>confidence</th>\n",
       "      <th>lift</th>\n",
       "      <th>leverage</th>\n",
       "      <th>conviction</th>\n",
       "    </tr>\n",
       "  </thead>\n",
       "  <tbody>\n",
       "    <tr>\n",
       "      <td>49</td>\n",
       "      <td>(set/6 red spotty paper cups, set/20 red retro...</td>\n",
       "      <td>(set/6 red spotty paper plates)</td>\n",
       "      <td>0.086768</td>\n",
       "      <td>0.108460</td>\n",
       "      <td>0.084599</td>\n",
       "      <td>0.975000</td>\n",
       "      <td>8.989500</td>\n",
       "      <td>0.075188</td>\n",
       "      <td>35.661605</td>\n",
       "    </tr>\n",
       "    <tr>\n",
       "      <td>52</td>\n",
       "      <td>(set/6 red spotty paper plates)</td>\n",
       "      <td>(set/6 red spotty paper cups, set/20 red retro...</td>\n",
       "      <td>0.108460</td>\n",
       "      <td>0.086768</td>\n",
       "      <td>0.084599</td>\n",
       "      <td>0.780000</td>\n",
       "      <td>8.989500</td>\n",
       "      <td>0.075188</td>\n",
       "      <td>4.151055</td>\n",
       "    </tr>\n",
       "    <tr>\n",
       "      <td>50</td>\n",
       "      <td>(set/6 red spotty paper plates, set/20 red ret...</td>\n",
       "      <td>(set/6 red spotty paper cups)</td>\n",
       "      <td>0.086768</td>\n",
       "      <td>0.117137</td>\n",
       "      <td>0.084599</td>\n",
       "      <td>0.975000</td>\n",
       "      <td>8.323611</td>\n",
       "      <td>0.074435</td>\n",
       "      <td>35.314534</td>\n",
       "    </tr>\n",
       "    <tr>\n",
       "      <td>51</td>\n",
       "      <td>(set/6 red spotty paper cups)</td>\n",
       "      <td>(set/6 red spotty paper plates, set/20 red ret...</td>\n",
       "      <td>0.117137</td>\n",
       "      <td>0.086768</td>\n",
       "      <td>0.084599</td>\n",
       "      <td>0.722222</td>\n",
       "      <td>8.323611</td>\n",
       "      <td>0.074435</td>\n",
       "      <td>3.287636</td>\n",
       "    </tr>\n",
       "    <tr>\n",
       "      <td>13</td>\n",
       "      <td>(set/6 red spotty paper plates)</td>\n",
       "      <td>(set/6 red spotty paper cups)</td>\n",
       "      <td>0.108460</td>\n",
       "      <td>0.117137</td>\n",
       "      <td>0.104121</td>\n",
       "      <td>0.960000</td>\n",
       "      <td>8.195556</td>\n",
       "      <td>0.091417</td>\n",
       "      <td>22.071584</td>\n",
       "    </tr>\n",
       "    <tr>\n",
       "      <td>12</td>\n",
       "      <td>(set/6 red spotty paper cups)</td>\n",
       "      <td>(set/6 red spotty paper plates)</td>\n",
       "      <td>0.117137</td>\n",
       "      <td>0.108460</td>\n",
       "      <td>0.104121</td>\n",
       "      <td>0.888889</td>\n",
       "      <td>8.195556</td>\n",
       "      <td>0.091417</td>\n",
       "      <td>8.023861</td>\n",
       "    </tr>\n",
       "    <tr>\n",
       "      <td>36</td>\n",
       "      <td>(set/6 red spotty paper plates, postage)</td>\n",
       "      <td>(set/6 red spotty paper cups)</td>\n",
       "      <td>0.091106</td>\n",
       "      <td>0.117137</td>\n",
       "      <td>0.086768</td>\n",
       "      <td>0.952381</td>\n",
       "      <td>8.130511</td>\n",
       "      <td>0.076096</td>\n",
       "      <td>18.540130</td>\n",
       "    </tr>\n",
       "    <tr>\n",
       "      <td>37</td>\n",
       "      <td>(set/6 red spotty paper cups)</td>\n",
       "      <td>(set/6 red spotty paper plates, postage)</td>\n",
       "      <td>0.117137</td>\n",
       "      <td>0.091106</td>\n",
       "      <td>0.086768</td>\n",
       "      <td>0.740741</td>\n",
       "      <td>8.130511</td>\n",
       "      <td>0.076096</td>\n",
       "      <td>3.505733</td>\n",
       "    </tr>\n",
       "    <tr>\n",
       "      <td>38</td>\n",
       "      <td>(set/6 red spotty paper plates)</td>\n",
       "      <td>(set/6 red spotty paper cups, postage)</td>\n",
       "      <td>0.108460</td>\n",
       "      <td>0.099783</td>\n",
       "      <td>0.086768</td>\n",
       "      <td>0.800000</td>\n",
       "      <td>8.017391</td>\n",
       "      <td>0.075945</td>\n",
       "      <td>4.501085</td>\n",
       "    </tr>\n",
       "    <tr>\n",
       "      <td>35</td>\n",
       "      <td>(set/6 red spotty paper cups, postage)</td>\n",
       "      <td>(set/6 red spotty paper plates)</td>\n",
       "      <td>0.099783</td>\n",
       "      <td>0.108460</td>\n",
       "      <td>0.086768</td>\n",
       "      <td>0.869565</td>\n",
       "      <td>8.017391</td>\n",
       "      <td>0.075945</td>\n",
       "      <td>6.835141</td>\n",
       "    </tr>\n",
       "  </tbody>\n",
       "</table>\n",
       "</div>"
      ],
      "text/plain": [
       "                                          antecedents  \\\n",
       "49  (set/6 red spotty paper cups, set/20 red retro...   \n",
       "52                    (set/6 red spotty paper plates)   \n",
       "50  (set/6 red spotty paper plates, set/20 red ret...   \n",
       "51                      (set/6 red spotty paper cups)   \n",
       "13                    (set/6 red spotty paper plates)   \n",
       "12                      (set/6 red spotty paper cups)   \n",
       "36           (set/6 red spotty paper plates, postage)   \n",
       "37                      (set/6 red spotty paper cups)   \n",
       "38                    (set/6 red spotty paper plates)   \n",
       "35             (set/6 red spotty paper cups, postage)   \n",
       "\n",
       "                                          consequents  antecedent support  \\\n",
       "49                    (set/6 red spotty paper plates)            0.086768   \n",
       "52  (set/6 red spotty paper cups, set/20 red retro...            0.108460   \n",
       "50                      (set/6 red spotty paper cups)            0.086768   \n",
       "51  (set/6 red spotty paper plates, set/20 red ret...            0.117137   \n",
       "13                      (set/6 red spotty paper cups)            0.108460   \n",
       "12                    (set/6 red spotty paper plates)            0.117137   \n",
       "36                      (set/6 red spotty paper cups)            0.091106   \n",
       "37           (set/6 red spotty paper plates, postage)            0.117137   \n",
       "38             (set/6 red spotty paper cups, postage)            0.108460   \n",
       "35                    (set/6 red spotty paper plates)            0.099783   \n",
       "\n",
       "    consequent support   support  confidence      lift  leverage  conviction  \n",
       "49            0.108460  0.084599    0.975000  8.989500  0.075188   35.661605  \n",
       "52            0.086768  0.084599    0.780000  8.989500  0.075188    4.151055  \n",
       "50            0.117137  0.084599    0.975000  8.323611  0.074435   35.314534  \n",
       "51            0.086768  0.084599    0.722222  8.323611  0.074435    3.287636  \n",
       "13            0.117137  0.104121    0.960000  8.195556  0.091417   22.071584  \n",
       "12            0.108460  0.104121    0.888889  8.195556  0.091417    8.023861  \n",
       "36            0.117137  0.086768    0.952381  8.130511  0.076096   18.540130  \n",
       "37            0.091106  0.086768    0.740741  8.130511  0.076096    3.505733  \n",
       "38            0.099783  0.086768    0.800000  8.017391  0.075945    4.501085  \n",
       "35            0.108460  0.086768    0.869565  8.017391  0.075945    6.835141  "
      ]
     },
     "execution_count": 56,
     "metadata": {},
     "output_type": "execute_result"
    }
   ],
   "source": [
    "rules = association_rules(frequent_itemsets, metric=\"lift\", min_threshold=1)\n",
    "rules.sort_values(by='lift', ascending=False, na_position='last', inplace = True)\n",
    "rules.head(10)"
   ]
  },
  {
   "cell_type": "code",
   "execution_count": 59,
   "metadata": {
    "ExecuteTime": {
     "end_time": "2019-09-29T20:45:34.744186Z",
     "start_time": "2019-09-29T20:45:34.726234Z"
    }
   },
   "outputs": [
    {
     "data": {
      "text/html": [
       "<div>\n",
       "<style scoped>\n",
       "    .dataframe tbody tr th:only-of-type {\n",
       "        vertical-align: middle;\n",
       "    }\n",
       "\n",
       "    .dataframe tbody tr th {\n",
       "        vertical-align: top;\n",
       "    }\n",
       "\n",
       "    .dataframe thead th {\n",
       "        text-align: right;\n",
       "    }\n",
       "</style>\n",
       "<table border=\"1\" class=\"dataframe\">\n",
       "  <thead>\n",
       "    <tr style=\"text-align: right;\">\n",
       "      <th></th>\n",
       "      <th>antecedents</th>\n",
       "      <th>consequents</th>\n",
       "      <th>antecedent support</th>\n",
       "      <th>consequent support</th>\n",
       "      <th>support</th>\n",
       "      <th>confidence</th>\n",
       "      <th>lift</th>\n",
       "      <th>leverage</th>\n",
       "      <th>conviction</th>\n",
       "    </tr>\n",
       "  </thead>\n",
       "  <tbody>\n",
       "    <tr>\n",
       "      <td>49</td>\n",
       "      <td>(set/6 red spotty paper cups, set/20 red retro...</td>\n",
       "      <td>(set/6 red spotty paper plates)</td>\n",
       "      <td>0.086768</td>\n",
       "      <td>0.108460</td>\n",
       "      <td>0.084599</td>\n",
       "      <td>0.975000</td>\n",
       "      <td>8.989500</td>\n",
       "      <td>0.075188</td>\n",
       "      <td>35.661605</td>\n",
       "    </tr>\n",
       "    <tr>\n",
       "      <td>50</td>\n",
       "      <td>(set/6 red spotty paper plates, set/20 red ret...</td>\n",
       "      <td>(set/6 red spotty paper cups)</td>\n",
       "      <td>0.086768</td>\n",
       "      <td>0.117137</td>\n",
       "      <td>0.084599</td>\n",
       "      <td>0.975000</td>\n",
       "      <td>8.323611</td>\n",
       "      <td>0.074435</td>\n",
       "      <td>35.314534</td>\n",
       "    </tr>\n",
       "    <tr>\n",
       "      <td>13</td>\n",
       "      <td>(set/6 red spotty paper plates)</td>\n",
       "      <td>(set/6 red spotty paper cups)</td>\n",
       "      <td>0.108460</td>\n",
       "      <td>0.117137</td>\n",
       "      <td>0.104121</td>\n",
       "      <td>0.960000</td>\n",
       "      <td>8.195556</td>\n",
       "      <td>0.091417</td>\n",
       "      <td>22.071584</td>\n",
       "    </tr>\n",
       "    <tr>\n",
       "      <td>12</td>\n",
       "      <td>(set/6 red spotty paper cups)</td>\n",
       "      <td>(set/6 red spotty paper plates)</td>\n",
       "      <td>0.117137</td>\n",
       "      <td>0.108460</td>\n",
       "      <td>0.104121</td>\n",
       "      <td>0.888889</td>\n",
       "      <td>8.195556</td>\n",
       "      <td>0.091417</td>\n",
       "      <td>8.023861</td>\n",
       "    </tr>\n",
       "    <tr>\n",
       "      <td>36</td>\n",
       "      <td>(set/6 red spotty paper plates, postage)</td>\n",
       "      <td>(set/6 red spotty paper cups)</td>\n",
       "      <td>0.091106</td>\n",
       "      <td>0.117137</td>\n",
       "      <td>0.086768</td>\n",
       "      <td>0.952381</td>\n",
       "      <td>8.130511</td>\n",
       "      <td>0.076096</td>\n",
       "      <td>18.540130</td>\n",
       "    </tr>\n",
       "    <tr>\n",
       "      <td>35</td>\n",
       "      <td>(set/6 red spotty paper cups, postage)</td>\n",
       "      <td>(set/6 red spotty paper plates)</td>\n",
       "      <td>0.099783</td>\n",
       "      <td>0.108460</td>\n",
       "      <td>0.086768</td>\n",
       "      <td>0.869565</td>\n",
       "      <td>8.017391</td>\n",
       "      <td>0.075945</td>\n",
       "      <td>6.835141</td>\n",
       "    </tr>\n",
       "    <tr>\n",
       "      <td>48</td>\n",
       "      <td>(set/6 red spotty paper cups, set/6 red spotty...</td>\n",
       "      <td>(set/20 red retrospot paper napkins)</td>\n",
       "      <td>0.104121</td>\n",
       "      <td>0.112798</td>\n",
       "      <td>0.084599</td>\n",
       "      <td>0.812500</td>\n",
       "      <td>7.203125</td>\n",
       "      <td>0.072854</td>\n",
       "      <td>4.731743</td>\n",
       "    </tr>\n",
       "  </tbody>\n",
       "</table>\n",
       "</div>"
      ],
      "text/plain": [
       "                                          antecedents  \\\n",
       "49  (set/6 red spotty paper cups, set/20 red retro...   \n",
       "50  (set/6 red spotty paper plates, set/20 red ret...   \n",
       "13                    (set/6 red spotty paper plates)   \n",
       "12                      (set/6 red spotty paper cups)   \n",
       "36           (set/6 red spotty paper plates, postage)   \n",
       "35             (set/6 red spotty paper cups, postage)   \n",
       "48  (set/6 red spotty paper cups, set/6 red spotty...   \n",
       "\n",
       "                             consequents  antecedent support  \\\n",
       "49       (set/6 red spotty paper plates)            0.086768   \n",
       "50         (set/6 red spotty paper cups)            0.086768   \n",
       "13         (set/6 red spotty paper cups)            0.108460   \n",
       "12       (set/6 red spotty paper plates)            0.117137   \n",
       "36         (set/6 red spotty paper cups)            0.091106   \n",
       "35       (set/6 red spotty paper plates)            0.099783   \n",
       "48  (set/20 red retrospot paper napkins)            0.104121   \n",
       "\n",
       "    consequent support   support  confidence      lift  leverage  conviction  \n",
       "49            0.108460  0.084599    0.975000  8.989500  0.075188   35.661605  \n",
       "50            0.117137  0.084599    0.975000  8.323611  0.074435   35.314534  \n",
       "13            0.117137  0.104121    0.960000  8.195556  0.091417   22.071584  \n",
       "12            0.108460  0.104121    0.888889  8.195556  0.091417    8.023861  \n",
       "36            0.117137  0.086768    0.952381  8.130511  0.076096   18.540130  \n",
       "35            0.108460  0.086768    0.869565  8.017391  0.075945    6.835141  \n",
       "48            0.112798  0.084599    0.812500  7.203125  0.072854    4.731743  "
      ]
     },
     "execution_count": 59,
     "metadata": {},
     "output_type": "execute_result"
    }
   ],
   "source": [
    "# Filtering\n",
    "rules[ (rules['lift'] >= 6) & (rules['confidence'] >= 0.8) ]"
   ]
  },
  {
   "cell_type": "code",
   "execution_count": 61,
   "metadata": {
    "ExecuteTime": {
     "end_time": "2019-09-29T20:46:24.518626Z",
     "start_time": "2019-09-29T20:46:24.513637Z"
    }
   },
   "outputs": [
    {
     "data": {
      "text/plain": [
       "803.0"
      ]
     },
     "execution_count": 61,
     "metadata": {},
     "output_type": "execute_result"
    }
   ],
   "source": [
    "basket['postage'].sum()"
   ]
  },
  {
   "cell_type": "markdown",
   "metadata": {},
   "source": [
    "<h2 id=\"Contoh-di-Orange\">Contoh di Orange</h2>\n",
    "<ul>\n",
    "<li>Contoh diambil dari <a href=\"https://blog.biolab.si/2016/04/25/association-rules-in-orange/\" target=\"_blank\" rel=\"noopener\">https://blog.biolab.si/2016/04/25/association-rules-in-orange/</a></li>\n",
    "<li>Input Data : \"FoodMart 2000 Dataset\"</li>\n",
    "<li>Drag Node \"DataSet\"&nbsp; (Open) ==&gt; \"Send Data\"</li>\n",
    "<li>Drag Node \"Data\" ==&gt; Open/Send Automatically</li>\n",
    "<li>Drag Nodes Frequent ItemSets</li>\n",
    "<li>Drag Nodes Association Rules</li>\n",
    "</ul>\n",
    "\n",
    "<p><img alt=\"\" src=\"images/orange_mba.png\" /></p>"
   ]
  },
  {
   "cell_type": "markdown",
   "metadata": {},
   "source": [
    "# End of Module Association Rule\n",
    "<hr>\n",
    "\n",
    "## Next: Supervised Learning 1: Korelasi, Regresi, & Regresi Logistik\n",
    "\n",
    "<p><img alt=\"\" src=\"images/10_recommendation_joke.jpg\" style=\"height:445px; width:455px\" /></p>\n"
   ]
  }
 ],
 "metadata": {
  "celltoolbar": "Slideshow",
  "kernelspec": {
   "display_name": "Python 3",
   "language": "python",
   "name": "python3"
  },
  "language_info": {
   "codemirror_mode": {
    "name": "ipython",
    "version": 3
   },
   "file_extension": ".py",
   "mimetype": "text/x-python",
   "name": "python",
   "nbconvert_exporter": "python",
   "pygments_lexer": "ipython3",
   "version": "3.6.8"
  },
  "latex_envs": {
   "LaTeX_envs_menu_present": true,
   "autoclose": false,
   "autocomplete": true,
   "bibliofile": "biblio.bib",
   "cite_by": "apalike",
   "current_citInitial": 1,
   "eqLabelWithNumbers": true,
   "eqNumInitial": 1,
   "hotkeys": {
    "equation": "Ctrl-E",
    "itemize": "Ctrl-I"
   },
   "labels_anchors": false,
   "latex_user_defs": false,
   "report_style_numbering": false,
   "user_envs_cfg": false
  }
 },
 "nbformat": 4,
 "nbformat_minor": 2
}
