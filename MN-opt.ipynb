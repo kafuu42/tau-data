{
 "cells": [
  {
   "cell_type": "markdown",
   "metadata": {
    "slideshow": {
     "slide_type": "slide"
    }
   },
   "source": [
    "## <center><strong>Metode Numerik</strong><br />\n",
    "<img alt=\"\" src=\"images/MetNum.png\" style=\"height: 200px;\" /></center>\n",
    "\n",
    "# <center><font color=\"blue\">Optimasi Numerik</font></center>\n",
    "\n",
    "<h2 id=\"(C)-Taufik-Sutanto---2019\" style=\"text-align: center;\">(C) Taufik Sutanto - 2019</h2>\n",
    "<h2 id=\"tau-data-Indonesia-~-https://tau-data.id\" style=\"text-align: center;\">tau-data Indonesia ~ <a href=\"https://tau-data.id\" target=\"_blank\"><span style=\"color: #0009ff;\">https://tau-data.id</span></a></h2>"
   ]
  },
  {
   "cell_type": "markdown",
   "metadata": {},
   "source": [
    "# Notes and Disclaimer\n",
    "\n",
    "* This notebook is part of the free (open knowledge) eLearning course at: https://tau-data.id/courses/\n",
    "* Some images are taken from several resources, we respect those images ownerships and put a reference/citation from where it is originated. Nevertheless, sometimes we are having trouble to find the origin of the image(s). If you are the owner of the image and would like the image taken-out (or want the citation to be revised) from this open knowledge course resources please contact us here with the details: https://tau-data.id/contact/  \n",
    "* Unless stated otherwise, in general tau-data permit its resources to be copied and-or modified for non-commercial purposes. With condition proper acknowledgement/citation is given."
   ]
  },
  {
   "cell_type": "markdown",
   "metadata": {
    "slideshow": {
     "slide_type": "slide"
    }
   },
   "source": [
    "## Outline:\n",
    "\n",
    "*  Minimalisasi Fungsi\n",
    "* Rasio Emas\n",
    "* Metode Nelder mead\n",
    "* Minimalisasi dengan Turunan (gradient Descent)"
   ]
  },
  {
   "cell_type": "markdown",
   "metadata": {
    "slideshow": {
     "slide_type": "slide"
    }
   },
   "source": [
    "<h1 id=\"Pendahuluan-Aplikasi-Turunan\">Pendahuluan Aplikasi Turunan</h1>\n",
    "\n",
    "<ul>\n",
    "\t<li>Statistik (machine learning/data science): Regresi, Klasifikasi, Clustering</li>\n",
    "\t<li>mechanical engineering</li>\n",
    "\t<li>Oceanography, dll</li>\n",
    "</ul>\n",
    "\n",
    "<p><img alt=\"\" src=\"images/intro_optimasi_numerik.png\" style=\"width: 800px; height: 370px;\" /></p>\n"
   ]
  },
  {
   "cell_type": "code",
   "execution_count": null,
   "metadata": {
    "slideshow": {
     "slide_type": "slide"
    }
   },
   "outputs": [],
   "source": [
    "# importing modules\n",
    "import numpy as np\n",
    "from numpy import exp,arange\n",
    "from pylab import meshgrid,cm,imshow,contour,clabel,colorbar,axis,title,show\n",
    "from mpl_toolkits.mplot3d import Axes3D\n",
    "from matplotlib import cm\n",
    "from matplotlib.ticker import LinearLocator, FormatStrFormatter\n",
    "import matplotlib.pyplot as plt"
   ]
  },
  {
   "cell_type": "code",
   "execution_count": null,
   "metadata": {
    "slideshow": {
     "slide_type": "slide"
    }
   },
   "outputs": [],
   "source": [
    "# Fungsi untuk plot\n",
    "def contourFungsi(X,Y,Z, judul):\n",
    "    im = imshow(Z,cmap=cm.RdBu, extent=[-3.0,3.0,-3.0,3.0], origin='lower') # drawing the function    \n",
    "    cset = contour(X,Y,Z,arange(Z.min(),Z.max(),0.1),linewidths=2,cmap=cm.Set2)# adding the Contour lines with labels\n",
    "    clabel(cset,inline=True,fmt='%1.1f',fontsize=10)\n",
    "    colorbar(im) # adding the colobar on the right\n",
    "    title(judul); show()\n",
    "\n",
    "def plotFs3D(X, Y, Z):\n",
    "    fig = plt.figure()\n",
    "    ax = fig.gca(projection='3d')\n",
    "    surf = ax.plot_surface(X, Y, Z, rstride=1, cstride=1, cmap=cm.RdBu,linewidth=0, antialiased=False)\n",
    "    ax.zaxis.set_major_locator(LinearLocator(10))\n",
    "    ax.zaxis.set_major_formatter(FormatStrFormatter('%.02f'))\n",
    "    ax.set_xlabel('x-axis');ax.set_ylabel('y-axis');ax.set_zlabel('z-axis')\n",
    "    ax.view_init(elev=25, azim=-120)\n",
    "    fig.colorbar(surf, shrink=0.5, aspect=5);plt.show()"
   ]
  },
  {
   "cell_type": "code",
   "execution_count": null,
   "metadata": {
    "slideshow": {
     "slide_type": "slide"
    }
   },
   "outputs": [],
   "source": [
    "# Fungsi dan domain\n",
    "def z_func(x,y):\n",
    " return (1-(x**2+y**3))*exp(-(x**2+y**2)/2) \n",
    "x = y = arange(-3.0,3.0,0.1)\n",
    "X,Y = meshgrid(x, y) # grid of point\n",
    "Z = z_func(X, Y) # evaluation of the function on the grid"
   ]
  },
  {
   "cell_type": "code",
   "execution_count": null,
   "metadata": {
    "slideshow": {
     "slide_type": "slide"
    }
   },
   "outputs": [],
   "source": [
    "%matplotlib qt\n",
    "# interactive Plot\n",
    "plotFs3D(X, Y, Z) # Plot Fungsi"
   ]
  },
  {
   "cell_type": "code",
   "execution_count": null,
   "metadata": {
    "slideshow": {
     "slide_type": "slide"
    }
   },
   "outputs": [],
   "source": [
    "%matplotlib inline \n",
    "# Back to inline plot\n",
    "contourFungsi(X,Y,Z, 'Contour fungsinya') # Contour Fungsi (Biru Maximum, Merah Minimum)"
   ]
  },
  {
   "cell_type": "markdown",
   "metadata": {
    "slideshow": {
     "slide_type": "slide"
    }
   },
   "source": [
    "<h1 id=\"Meminimumkan-Fungsi\">Meminimumkan Fungsi</h1>\n",
    "\n",
    "<p><img alt=\"\" src=\"images/def_81_82.png\" style=\"width: 734px; height: 313px;\" /></p>\n"
   ]
  },
  {
   "cell_type": "markdown",
   "metadata": {
    "slideshow": {
     "slide_type": "slide"
    }
   },
   "source": [
    "<p><img alt=\"\" src=\"images/Teo_81_82.png\" style=\"width: 726px; height: 195px;\" /></p>\n"
   ]
  },
  {
   "cell_type": "markdown",
   "metadata": {
    "slideshow": {
     "slide_type": "slide"
    }
   },
   "source": [
    "<p><img alt=\"\" src=\"images/Teo_83_84.png\" style=\"width: 727px; height: 312px;\" /></p>\n"
   ]
  },
  {
   "cell_type": "markdown",
   "metadata": {
    "slideshow": {
     "slide_type": "slide"
    }
   },
   "source": [
    "<p><img alt=\"\" src=\"images/Eg_81.png\" style=\"width: 724px; height: 190px;\" /></p>\n"
   ]
  },
  {
   "cell_type": "code",
   "execution_count": null,
   "metadata": {
    "slideshow": {
     "slide_type": "slide"
    }
   },
   "outputs": [],
   "source": [
    "%matplotlib inline \n",
    "def f(x):\n",
    "    return 3*x**2-2*x+5 \n",
    "    #return x**3+x**2-x+1 \n",
    "\n",
    "#X = arange(-2.0,2.0,0.1)\n",
    "X = arange(0,1.0,0.1)\n",
    "Y = [f(x) for x in X]\n",
    "plt.plot(X, Y, label = \"Contoh 8.1\")\n",
    "plt.stem([-1, 1/3], [f(-1), f(1/3)], label = \"Local Extremum points\", linefmt='C2:', markerfmt = 'C2o')\n",
    "plt.legend(); plt.show()"
   ]
  },
  {
   "cell_type": "markdown",
   "metadata": {
    "slideshow": {
     "slide_type": "slide"
    }
   },
   "source": [
    "# Diskusi\n",
    "\n",
    "* Kita bisa mencari extremum points, tapi bagaimana kita tau jika titik itu extremum global/tidak?"
   ]
  },
  {
   "cell_type": "markdown",
   "metadata": {
    "slideshow": {
     "slide_type": "slide"
    }
   },
   "source": [
    "<h1 id=\"Golden-Ratio-(section)-Search\">Golden Ratio (section) Search</h1>\n",
    "\n",
    "<p><img alt=\"\" src=\"images/Gold_Sect_Search_.png\" style=\"width: 721px; height: 400px;\" /></p>\n"
   ]
  },
  {
   "cell_type": "markdown",
   "metadata": {},
   "source": [
    "# Ok ... tapi apanya yang golden?\n",
    "\n",
    "* <video controls src=\"images/Multiplicative example of the golden ratio.mp4\" />"
   ]
  },
  {
   "cell_type": "code",
   "execution_count": null,
   "metadata": {},
   "outputs": [],
   "source": [
    "(np.sqrt(5)+1)/2"
   ]
  },
  {
   "cell_type": "markdown",
   "metadata": {},
   "source": [
    "# Golden Ratio, Fibonacci, dan Ciptaan Ilahi\n",
    "\n",
    "* <video controls src=\"images/FiboGolden.mkv\" />"
   ]
  },
  {
   "cell_type": "markdown",
   "metadata": {
    "slideshow": {
     "slide_type": "slide"
    }
   },
   "source": [
    "<p><img alt=\"\" src=\"images/eg_Gold_Sect_Search_.png\" style=\"width: 716px; height: 400px;\" /></p>\n"
   ]
  },
  {
   "cell_type": "markdown",
   "metadata": {},
   "source": [
    "<p><img alt=\"\" src=\"images/Eg_82._A.png\" style=\"width: 718px; height: 574px;\" /></p>\n"
   ]
  },
  {
   "cell_type": "markdown",
   "metadata": {},
   "source": [
    "<h1 id=\"Algoritma-Golden-Search\">Algoritma Golden Search</h1>\n",
    "\n",
    "<p><img alt=\"\" src=\"images/Gold_Sect_Search_Alg.png\" style=\"width: 800px; height: 200px;\" /></p>\n"
   ]
  },
  {
   "cell_type": "code",
   "execution_count": null,
   "metadata": {},
   "outputs": [],
   "source": [
    "def f(x):\n",
    "    return 3*x**2+2*x+5\n",
    "    #return x+np.cos(x)\n",
    "X = arange(0.0,1.0,0.01)\n",
    "Y = [f(x) for x in X]\n",
    "plt.plot(X, Y, label = \"Contoh 8.2\")\n",
    "xPts = [0, 0.450, 0.618, 1]\n",
    "yPts = [f(x) for x in xPts]\n",
    "plt.stem(xPts, yPts, label = \"Interesting points\", linefmt='C2:', markerfmt = 'C2o')\n",
    "plt.legend(); plt.show()"
   ]
  },
  {
   "cell_type": "code",
   "execution_count": null,
   "metadata": {
    "slideshow": {
     "slide_type": "slide"
    }
   },
   "outputs": [],
   "source": [
    "# Simple version from Wikipedia\n",
    "def gss(a, b, tol=1e-6):\n",
    "    gr = (np.sqrt(5) + 1) / 2 # Gold Ratio\n",
    "    c = b - (b - a) / gr\n",
    "    d = a + (b - a) / gr \n",
    "    output = [(a,b,c,d)]\n",
    "    while abs(c - d) > tol:        \n",
    "        if f(c) < f(d):\n",
    "            b = d\n",
    "        else:\n",
    "            a = c\n",
    "        output.append((a,b,c,d))\n",
    "        c = b - (b - a) / gr\n",
    "        d = a + (b - a) / gr\n",
    "    return output"
   ]
  },
  {
   "cell_type": "code",
   "execution_count": null,
   "metadata": {},
   "outputs": [],
   "source": [
    "# Versi Mathews \n",
    "def GS(a,b,n): # n = jumlah iterasi    \n",
    "    r = (np.sqrt(5)-1)/2\n",
    "    c = a + (1-r)*(b-a)\n",
    "    d = a + r*(b-a)\n",
    "    output = [(a,b,c,d)]\n",
    "    for i in range(n): # or abs(c - d) > tol\n",
    "        if f(d)<f(c):\n",
    "            a=c\n",
    "        else:\n",
    "            b=d\n",
    "        c = a + (1-r)*(b-a)\n",
    "        d = a + r*(b-a)    \n",
    "        output.append((a,b,c,d))\n",
    "    return output"
   ]
  },
  {
   "cell_type": "code",
   "execution_count": null,
   "metadata": {},
   "outputs": [],
   "source": [
    "A, B = 0.0, 1.0\n",
    "output = gss(A,B) # versi wikipedia\n",
    "print('iter, \\ta,      \\tc,      \\td,      \\tb')\n",
    "for i,(a,b,c,d) in enumerate(output):\n",
    "    print(i, end = ', \\t')\n",
    "    print('{}, \\t{}, \\t{}, \\t{}'.format(a,c,d,b))"
   ]
  },
  {
   "cell_type": "code",
   "execution_count": null,
   "metadata": {},
   "outputs": [],
   "source": [
    "a = 0.0\n",
    "b = 0.23606797749978967\n",
    "f((a+b)/2)"
   ]
  },
  {
   "cell_type": "code",
   "execution_count": null,
   "metadata": {},
   "outputs": [],
   "source": [
    "output = GS(A,B,24) # versi Matthews\n",
    "print('iter, \\ta,      \\tc,      \\td,      \\tb')\n",
    "for i,(a,b,c,d) in enumerate(output):\n",
    "    print(i, end = ', \\t')\n",
    "    print('{}, \\t{}, \\t{}, \\t{}'.format(a,c,d,b))"
   ]
  },
  {
   "cell_type": "code",
   "execution_count": null,
   "metadata": {},
   "outputs": [],
   "source": [
    "Fc = [f((a+b)/2) for a,b,_,_ in output]\n",
    "plt.plot(np.linspace(a,b,len(Fc)), Fc, label = \"Plot f(c)\")\n",
    "plt.legend(); plt.show()\n",
    "Fc[-1]"
   ]
  },
  {
   "cell_type": "markdown",
   "metadata": {},
   "source": [
    "<h3 id=\"Tentukan-f(optimal)-dan-x-optimal-setelah-3-iterasi-(a+b)/2-yang-ke-3\">Tentukan f(optimal) dan x optimal setelah 3 iterasi (a+b)/2 yang ke-3</h3>\n",
    "\n",
    "## $$f(x) = 7x^2-x+3;\\quad [0,2]$$\n"
   ]
  },
  {
   "cell_type": "code",
   "execution_count": null,
   "metadata": {},
   "outputs": [],
   "source": [
    "def f(x):\n",
    "    return 7*x**2-x+3\n",
    "A, B = 0, 2\n",
    "output = GS(A,B,4)\n",
    "print('iter, \\ta,      \\tc,      \\td,      \\tb')\n",
    "for i,(a,b,c,d) in enumerate(output):\n",
    "    print(i, end = ', \\t')\n",
    "    print('{}, \\t{}, \\t{}, \\t{}'.format(a,c,d,b))\n",
    "0.763/2"
   ]
  },
  {
   "cell_type": "markdown",
   "metadata": {},
   "source": [
    "## Extreme Values of f(x,y) ~ Multivariate Function\n",
    "\n",
    "<p><img alt=\"\" src=\"images/def_83.png\" style=\"width: 553px; height: 252px;\" /></p>\n"
   ]
  },
  {
   "cell_type": "markdown",
   "metadata": {},
   "source": [
    "<p><img alt=\"\" src=\"images/Teo_85.png\" style=\"width: 552px; height: 239px;\" /></p>\n"
   ]
  },
  {
   "cell_type": "markdown",
   "metadata": {},
   "source": [
    "<h1 id=\"Metode-Nelder-Mead\">Metode Nelder-Mead</h1>\n",
    "\n",
    "1. Mulai dari sembarang segitiga $(x_k, y_k)$, k=1, 2, 3\n",
    "2. Hitung $z_k = f(x_k, y_k)$, k=1, 2, 3\n",
    "3. urutkan $z_k$ (dan urutkan ulang indeks *k*) sedemikian sehingga $z_i \\leq z_2 \\leq z_3$\n",
    "4. Namakan $B = z_1, G = z_2, W = z_3$\n",
    "5. Hitung (MidPoint of \"goodSide\") = *$M=\\frac{B+G}{2}$*\n",
    "6. Hitung titik : *$ R = 2M - W $*\n",
    "7. Hitung titik : *E = 2R-M* (alternatif R)\n",
    "8. Hitung $C_1 = \\frac{W+M}{2}$ dan $C_2 = \\frac{M+R}{2}$ (kandidat segitiga BGC)\n",
    "9. Secara terurut kandidat terbaik pengganti W adalah (E, R, C2, C1) \n",
    "10. Dengan syarat kandidat tersebut < W -- Lihat Gambar\n",
    "11. Iterasikan dengan BGW yang baru (setelah diurutkan lagi), hingga |B-G|<toleransi\n",
    "<p><img alt=\"\" src=\"images/Nelder-Mead_3angles_.png\"/></p>\n",
    "\n"
   ]
  },
  {
   "cell_type": "markdown",
   "metadata": {},
   "source": [
    "# Animasinya\n",
    "\n",
    "* <video controls src=\"images/NelderMeadAnimation.mp4\" />"
   ]
  },
  {
   "cell_type": "markdown",
   "metadata": {},
   "source": [
    "<p><img alt=\"\" src=\"images/Eg_84.png\" style=\"width: 438px; height: 358px;\" /></p>\n"
   ]
  },
  {
   "cell_type": "markdown",
   "metadata": {},
   "source": [
    "## Latihan ... = Contoh 8.4, tapi ...\n",
    "$f(x,y)=x^2-4x+y^2-y-xy$\n",
    "* v1=(0,1), v2=(0, 0), v3=(1,0)\n",
    "* Tentukan G yang ke-3"
   ]
  },
  {
   "cell_type": "code",
   "execution_count": null,
   "metadata": {},
   "outputs": [],
   "source": [
    "def F(v):\n",
    "    x, y = v[0], v[1]\n",
    "    return x**2-4*x+y**2-y-x*y\n",
    "v1, v2, v3 = (0,1), (0,0), (1,0)\n",
    "v1 = np.array(v1); v2 = np.array(v2); v3 = np.array(v3)\n",
    "print(F(v1), F(v2), F(v3))\n",
    "B, G, W = v3, v1, v2\n",
    "M = (B+G)/2\n",
    "R = 2*M-W\n",
    "E = 2*R-M\n",
    "print(F(E),F(B),F(G))\n",
    "B, G, W = E, B, v2\n",
    "M = (B+G)/2\n",
    "R = 2*M-W\n",
    "E = 2*R-M\n",
    "print(F(E),F(B),F(G))\n",
    "B"
   ]
  },
  {
   "cell_type": "code",
   "execution_count": null,
   "metadata": {},
   "outputs": [],
   "source": [
    "\"\"\"\n",
    "v1, v2, v3 = v1, E, v3\n",
    "print(F(v1), F(v2), F(v3))\n",
    "B, G, W = v2, v1, v3\n",
    "F(B)\n",
    "\"\"\""
   ]
  },
  {
   "cell_type": "markdown",
   "metadata": {},
   "source": [
    "# Minimization using Derivative\n",
    "\n",
    "* Konsepnya adalah Newton (Secant) pada permasalahan mencari akar f'(x) = 0\n",
    "* Bracketing di Mathhews (hal 410) ... HHhmmm... do you see why we're not discussing it further?\n",
    "* .\n",
    "* $\\min -2x^4 + 3x-7$  jika $X_0=1$ hitung $x_3^*$ menggunakan metode Newton."
   ]
  },
  {
   "cell_type": "code",
   "execution_count": null,
   "metadata": {},
   "outputs": [],
   "source": [
    "def F(x):\n",
    "    return -2*x**4 + 3*x - 7\n",
    "def g(x):\n",
    "    return -8*x**3 + 3\n",
    "def gg(x):\n",
    "    return -24*x**2\n",
    "# Newton (X3, xo=1)\n",
    "xo =1\n",
    "x1 = xo - g(xo)/gg(xo)\n",
    "x2 = x1 - g(x1)/gg(x1)\n",
    "x3 = x2 - g(x2)/gg(x2)\n",
    "x3"
   ]
  },
  {
   "cell_type": "markdown",
   "metadata": {},
   "source": [
    "<p><img alt=\"\" src=\"images/Gradient_Descent.png\" style=\"width: 436px; height: 249px;\" /></p>\n"
   ]
  },
  {
   "cell_type": "markdown",
   "metadata": {
    "slideshow": {
     "slide_type": "slide"
    }
   },
   "source": [
    "# End of Module\n",
    "<hr />\n"
   ]
  }
 ],
 "metadata": {
  "celltoolbar": "Slideshow",
  "kernelspec": {
   "display_name": "Python 3",
   "language": "python",
   "name": "python3"
  },
  "language_info": {
   "codemirror_mode": {
    "name": "ipython",
    "version": 3
   },
   "file_extension": ".py",
   "mimetype": "text/x-python",
   "name": "python",
   "nbconvert_exporter": "python",
   "pygments_lexer": "ipython3",
   "version": "3.6.8"
  }
 },
 "nbformat": 4,
 "nbformat_minor": 2
}
