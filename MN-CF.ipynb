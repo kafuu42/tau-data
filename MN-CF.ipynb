{
 "cells": [
  {
   "cell_type": "markdown",
   "metadata": {
    "slideshow": {
     "slide_type": "slide"
    }
   },
   "source": [
    "## <center><strong>Metode Numerik</strong><br />\n",
    "<img alt=\"\" src=\"images/MetNum.png\" style=\"height: 200px;\" /></center>\n",
    "\n",
    "# <center><font color=\"blue\">Curve Fitting</font></center>\n",
    "\n",
    "<h2 id=\"(C)-Taufik-Sutanto---2019\" style=\"text-align: center;\">(C) Taufik Sutanto - 2019</h2>\n",
    "<h2 id=\"tau-data-Indonesia-~-https://tau-data.id\" style=\"text-align: center;\">tau-data Indonesia ~ <a href=\"https://tau-data.id\" target=\"_blank\"><span style=\"color: #0009ff;\">https://tau-data.id</span></a></h2>"
   ]
  },
  {
   "cell_type": "markdown",
   "metadata": {},
   "source": [
    "# Notes and Disclaimer\n",
    "\n",
    "* This notebook is part of the free (open knowledge) eLearning course at: https://tau-data.id/courses/\n",
    "* Some images are taken from several resources, we respect those images ownerships and put a reference/citation from where it is originated. Nevertheless, sometimes we are having trouble to find the origin of the image(s). If you are the owner of the image and would like the image taken-out (or want the citation to be revised) from this open knowledge course resources please contact us here with the details: https://tau-data.id/contact/  \n",
    "* Unless stated otherwise, in general tau-data permit its resources to be copied and-or modified for non-commercial purposes. With condition proper acknowledgement/citation is given."
   ]
  },
  {
   "cell_type": "markdown",
   "metadata": {
    "slideshow": {
     "slide_type": "slide"
    }
   },
   "source": [
    "## Outline:\n",
    "\n",
    "* Pendahuluan\n",
    "* Linear Least Squares\n",
    "* Exercise 1\n",
    "* Power Fit\n",
    "* Exercise 2\n",
    "* Curve Fitting\n",
    "* Exercise 3"
   ]
  },
  {
   "cell_type": "markdown",
   "metadata": {
    "slideshow": {
     "slide_type": "slide"
    }
   },
   "source": [
    "<p><img alt=\"\" src=\"images/V_1_Solar_System.jpg\" style=\"width: 800px; height: 348px;\" /></p>\n",
    "\n",
    "<ul>\n",
    "\t<li>Johannes Keppler 1601 - Jarak Matahari ke Merkurius, Venus, Bumi, Mars</li>\n",
    "\t<li>Third law of Planetary Motions : <span class=\"MathJax_Preview\" style=\"color: inherit;\"><span class=\"MJXp-math\" id=\"MJXp-Span-1689\"><span class=\"MJXp-mi MJXp-italic\" id=\"MJXp-Span-1690\">T</span><span class=\"MJXp-mo\" id=\"MJXp-Span-1691\" style=\"margin-left: 0.333em; margin-right: 0.333em;\">=</span><span class=\"MJXp-mi MJXp-italic\" id=\"MJXp-Span-1692\">C</span><span class=\"MJXp-msubsup\" id=\"MJXp-Span-1693\"><span class=\"MJXp-mi MJXp-italic\" id=\"MJXp-Span-1694\" style=\"margin-right: 0.05em;\">X</span><span class=\"MJXp-mrow MJXp-script\" id=\"MJXp-Span-1695\" style=\"vertical-align: 0.5em;\"><span class=\"MJXp-mi MJXp-italic\" id=\"MJXp-Span-1696\">A</span></span></span></span></span><script type=\"math/tex\" id=\"MathJax-Element-99\">T = C X^{A}</script></li>\n",
    "\t<li>C = 0.1997, A = 3/2</li>\n",
    "</ul>\n"
   ]
  },
  {
   "cell_type": "markdown",
   "metadata": {
    "slideshow": {
     "slide_type": "slide"
    }
   },
   "source": [
    "## Garis *Least Squares*\n",
    "* $y = f(x) = Ax + b$ ==> Interpolasi (kita sudah bahas ini)\n",
    "* Namun eksperimen (permasalahan di dunia nyata/sains) hampir selalu mengandung kesalahan (error)\n",
    "* $y_k = f(x_k) + \\epsilon_k$ untuk $k \\in I$ (deviasi / Residual)\n",
    "* Kita sudah pernah menghitung deviasi pendekatan dan nilai sesungguhnya (error absolut dan relatif), namun bagaimana mengukur error di beberapa pengukuran?"
   ]
  },
  {
   "cell_type": "markdown",
   "metadata": {
    "slideshow": {
     "slide_type": "subslide"
    }
   },
   "source": [
    "<p><img alt=\"\" src=\"images/residual_norms.png\" style=\"width: 800px; height: 336px;\" /></p>\n",
    "\n",
    "<p>* Contoh?</p>\n"
   ]
  },
  {
   "cell_type": "markdown",
   "metadata": {
    "slideshow": {
     "slide_type": "subslide"
    }
   },
   "source": [
    "<p><img alt=\"\" src=\"images/V_2_Residual_Norms.png\" style=\"width: 800px; height: 223px;\" /></p>\n"
   ]
  },
  {
   "cell_type": "markdown",
   "metadata": {
    "slideshow": {
     "slide_type": "subslide"
    }
   },
   "source": [
    "<h2 id=\"Least-Squares-Line\">Least Squares Line</h2>\n",
    "\n",
    "<p><img alt=\"\" src=\"images/V_3_Plot_LSL.png\" style=\"width: 600px; height: 434px;\" /></p>\n",
    "\n",
    "<p><img alt=\"\" src=\"images/V_3_Plot_LSL_teo.png\" style=\"width: 800px ; height: 348px\" /></p>\n",
    "\n",
    "<ul>\n",
    "\t<li>Bukti?</li>\n",
    "\t<li>Contoh?</li>\n",
    "</ul>\n"
   ]
  },
  {
   "cell_type": "markdown",
   "metadata": {
    "slideshow": {
     "slide_type": "subslide"
    }
   },
   "source": [
    "<p><img alt=\"\" src=\"images/V_4_LSL_eg.png\" style=\"width: 800px; height: 309px;\" /></p>\n"
   ]
  },
  {
   "cell_type": "code",
   "execution_count": null,
   "metadata": {},
   "outputs": [],
   "source": [
    "import numpy as np, matplotlib as mpl, matplotlib.pyplot as plt\n",
    "from numpy import polyfit, poly1d"
   ]
  },
  {
   "cell_type": "code",
   "execution_count": null,
   "metadata": {},
   "outputs": [],
   "source": [
    "%matplotlib inline\n",
    "\n",
    "x = np.linspace(-5, 5, 100)\n",
    "y = 4 * x + 1.5\n",
    "\n",
    "noise_y = y + np.random.randn(y.shape[-1]) * 2.5\n",
    "\n",
    "p = plt.plot(x, noise_y, 'rx')\n",
    "p = plt.plot(x, y, 'b:')"
   ]
  },
  {
   "cell_type": "code",
   "execution_count": null,
   "metadata": {},
   "outputs": [],
   "source": [
    "coeff = polyfit(x, noise_y, 1)\n",
    "coeff"
   ]
  },
  {
   "cell_type": "code",
   "execution_count": null,
   "metadata": {},
   "outputs": [],
   "source": [
    "p = plt.plot(x, noise_y, 'rx')\n",
    "\n",
    "p = plt.plot(x, coeff[0] * x + coeff[1], 'k-')\n",
    "\n",
    "p = plt.plot(x, y, 'b--')"
   ]
  },
  {
   "cell_type": "code",
   "execution_count": null,
   "metadata": {},
   "outputs": [],
   "source": [
    "# Lebih sederhana\n",
    "f = poly1d(coeff)\n",
    "p = plt.plot(x, noise_y, 'rx')\n",
    "p = plt.plot(x, f(x))"
   ]
  },
  {
   "cell_type": "code",
   "execution_count": null,
   "metadata": {},
   "outputs": [],
   "source": [
    "print(f)"
   ]
  },
  {
   "cell_type": "markdown",
   "metadata": {
    "slideshow": {
     "slide_type": "subslide"
    }
   },
   "source": [
    "## <font color=\"blue\"> Latihan ==> Buku Lat 5.1 No 2.b ==> $E_1(f)$ </font>"
   ]
  },
  {
   "cell_type": "markdown",
   "metadata": {
    "slideshow": {
     "slide_type": "slide"
    }
   },
   "source": [
    "<h2 id=\"The-Power-Fit-$y-=-AX^M$\">The Power Fit <span class=\"MathJax_Preview\" style=\"color: inherit;\"><span class=\"MJXp-math\" id=\"MJXp-Span-1712\"><span class=\"MJXp-mi MJXp-italic\" id=\"MJXp-Span-1713\">y</span><span class=\"MJXp-mo\" id=\"MJXp-Span-1714\" style=\"margin-left: 0.333em; margin-right: 0.333em;\">=</span><span class=\"MJXp-mi MJXp-italic\" id=\"MJXp-Span-1715\">A</span><span class=\"MJXp-msubsup\" id=\"MJXp-Span-1716\"><span class=\"MJXp-mi MJXp-italic\" id=\"MJXp-Span-1717\" style=\"margin-right: 0.05em;\">X</span><span class=\"MJXp-mi MJXp-italic MJXp-script\" id=\"MJXp-Span-1718\" style=\"vertical-align: 0.5em;\">M</span></span></span></span><script type=\"math/tex\" id=\"MathJax-Element-103\">y = AX^M</script></h2>\n",
    "\n",
    "<ul>\n",
    "\t<li><img alt=\"\" src=\"images/V_4_Power_FIt_Theo.png\" style=\"width: 600px; height: 146px;\" /></li>\n",
    "\t<li>Bukti? Contoh?</li>\n",
    "</ul>\n"
   ]
  },
  {
   "cell_type": "markdown",
   "metadata": {
    "slideshow": {
     "slide_type": "subslide"
    }
   },
   "source": [
    "<p><img alt=\"\" src=\"images/V_4_Power_FIt_eg.png\" style=\"width: 800px; height: 452px;\" /></p>\n"
   ]
  },
  {
   "cell_type": "markdown",
   "metadata": {
    "slideshow": {
     "slide_type": "subslide"
    }
   },
   "source": [
    "## <font color=\"blue\"> Latihan ==> Buku Lat 5.1 No 4.C ==> Persamaannya </font>\n",
    "\n",
    "* ..."
   ]
  },
  {
   "cell_type": "markdown",
   "metadata": {
    "slideshow": {
     "slide_type": "slide"
    }
   },
   "source": [
    "## Curve Fitting - Data Linearization Method for $y = C e^{Ax}$"
   ]
  },
  {
   "cell_type": "markdown",
   "metadata": {
    "slideshow": {
     "slide_type": "subslide"
    }
   },
   "source": [
    "<p><img alt=\"\" src=\"images/V_4_Curve_Fit.png\" style=\"width: 600px; height: 230px;\" /></p>\n"
   ]
  },
  {
   "cell_type": "markdown",
   "metadata": {
    "slideshow": {
     "slide_type": "subslide"
    }
   },
   "source": [
    "<p><img alt=\"\" src=\"images/V_4_Curve_Fit_Linearization_Methods.png\" style=\"width: 600px; height: 412px;\" /></p>\n"
   ]
  },
  {
   "attachments": {},
   "cell_type": "markdown",
   "metadata": {},
   "source": [
    "<p><img alt=\"\" src=\"images/linearization_method_ex_1.png\" /></p>\n",
    "\n",
    "\n"
   ]
  },
  {
   "cell_type": "markdown",
   "metadata": {},
   "source": [
    "<p><img alt=\"\" src=\"images/linearization_method_ex_2.png\" /></p>"
   ]
  },
  {
   "cell_type": "markdown",
   "metadata": {
    "slideshow": {
     "slide_type": "subslide"
    }
   },
   "source": [
    "## NonLinear Curve Fitting\n",
    "<p><img alt=\"\" src=\"images/V_4_Curve_Fit_NonLinear.png\" style=\"width: 600px; height: 553px;\" /></p>"
   ]
  },
  {
   "cell_type": "markdown",
   "metadata": {},
   "source": [
    "\n",
    "<p><img alt=\"\" src=\"images/Non_Linear_Least_Square_Method.png\" /></p>"
   ]
  },
  {
   "cell_type": "code",
   "execution_count": null,
   "metadata": {},
   "outputs": [],
   "source": [
    "import numpy as np\n",
    "from scipy.optimize import minimize\n",
    "\n",
    "\n",
    "def f(x):\n",
    "    A, C = x[0], x[1] # agar mudah dimengerti\n",
    "    return (C-1.5)**2 + (C*np.exp(A) - 2.5)**2 + (C*np.exp(2*A) - 3.5)**2 + (C*np.exp(3*A) - 5.0)**2 + (C*np.exp(4*A) - 7.5)**2"
   ]
  },
  {
   "cell_type": "code",
   "execution_count": null,
   "metadata": {},
   "outputs": [],
   "source": [
    "x0 = [1,1]\n",
    "res = minimize(f, x0)"
   ]
  },
  {
   "cell_type": "code",
   "execution_count": null,
   "metadata": {},
   "outputs": [],
   "source": [
    "res.x"
   ]
  },
  {
   "cell_type": "markdown",
   "metadata": {
    "slideshow": {
     "slide_type": "subslide"
    }
   },
   "source": [
    "<h2 id=\"Polynomial-Fitting\">Polynomial Fitting</h2>\n",
    "\n",
    "<p><img alt=\"\" src=\"images/V_4_Curve_Fit_Polynomial.png\" style=\"width: 600px; height: 293px;\" /></p>\n"
   ]
  },
  {
   "cell_type": "markdown",
   "metadata": {},
   "source": [
    "<p><img alt=\"\" src=\"images/poly_fitting_1.png\" /></p>\n",
    "<p><img alt=\"\" src=\"images/poly_fitting_2.png\" /></p>"
   ]
  },
  {
   "cell_type": "markdown",
   "metadata": {
    "slideshow": {
     "slide_type": "subslide"
    }
   },
   "source": [
    "## Latihan ==> Buku Lat 5.2 No 8.a Halaman 283\n",
    "* ...\n",
    "\n",
    "\n",
    "* Coba juga No 3 secara mandiri"
   ]
  },
  {
   "cell_type": "markdown",
   "metadata": {
    "slideshow": {
     "slide_type": "slide"
    }
   },
   "source": [
    "<h3>End of Module</h3>\n",
    "<hr />\n",
    "<img alt=\"\" src=\"images/Exam_Meme.jpg\" />"
   ]
  }
 ],
 "metadata": {
  "celltoolbar": "Slideshow",
  "kernelspec": {
   "display_name": "Python 3",
   "language": "python",
   "name": "python3"
  },
  "language_info": {
   "codemirror_mode": {
    "name": "ipython",
    "version": 3
   },
   "file_extension": ".py",
   "mimetype": "text/x-python",
   "name": "python",
   "nbconvert_exporter": "python",
   "pygments_lexer": "ipython3",
   "version": "3.6.8"
  }
 },
 "nbformat": 4,
 "nbformat_minor": 2
}
