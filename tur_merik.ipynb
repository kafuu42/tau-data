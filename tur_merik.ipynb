{
 "cells": [
  {
   "cell_type": "markdown",
   "metadata": {
    "slideshow": {
     "slide_type": "slide"
    }
   },
   "source": [
    "## <center><strong>Metode Numerik</strong><br />\n",
    "<img alt=\"\" src=\"images/MetNum.png\" style=\"height: 200px;\" /></center>\n",
    "\n",
    "# <center><font color=\"blue\">Turunan Numerik</font></center>\n",
    "\n",
    "<h2 id=\"(C)-Taufik-Sutanto---2019\" style=\"text-align: center;\">(C) Taufik Sutanto - 2019</h2>\n",
    "<h2 id=\"tau-data-Indonesia-~-https://tau-data.id\" style=\"text-align: center;\">tau-data Indonesia ~ <a href=\"https://tau-data.id\" target=\"_blank\"><span style=\"color: #0009ff;\">https://tau-data.id</span></a></h2>"
   ]
  },
  {
   "cell_type": "markdown",
   "metadata": {},
   "source": [
    "# Notes and Disclaimer\n",
    "\n",
    "* This notebook is part of the free (open knowledge) eLearning course at: https://tau-data.id/courses/\n",
    "* Some images are taken from several resources, we respect those images ownerships and put a reference/citation from where it is originated. Nevertheless, sometimes we are having trouble to find the origin of the image(s). If you are the owner of the image and would like the image taken-out (or want the citation to be revised) from this open knowledge course resources please contact us here with the details: https://tau-data.id/contact/  \n",
    "* Unless stated otherwise, in general tau-data permit its resources to be copied and-or modified for non-commercial purposes. With condition proper acknowledgement/citation is given."
   ]
  },
  {
   "cell_type": "markdown",
   "metadata": {
    "slideshow": {
     "slide_type": "slide"
    }
   },
   "source": [
    "## Turunan Numerik:\n",
    "\n",
    "* Pendahuluan\n",
    "* Pendekatan Turunan Numerik \n",
    "* Analisis Error\n",
    "* Ekstrapolasi Richardson\n",
    "* Formula-formula turunan numerik"
   ]
  },
  {
   "cell_type": "markdown",
   "metadata": {},
   "source": [
    "## Sebelum dimulai\n",
    "* Yang akan dibahas di Bab ini hanya pendekatan dari turunan \"sebuah fungsi\" di suatu titik\n",
    "* Sistem \"Ordinary Differential Equations\" / Persamaan Differensial Biasa akan dibahas di Buku di Bab IX."
   ]
  },
  {
   "cell_type": "markdown",
   "metadata": {},
   "source": [
    "# Ketika Limit Fungsi Real di Kalkulus Ternyata Bukan Dari Dunia Nyata\n",
    "\n",
    "* Dari Kalkulus kita mendapatkan bahwa $$f'(x) = \\lim_{h\\rightarrow 0}\\frac{f(x+h)-f(x)}{h}$$\n",
    "* Secara logika kita memahami limit diatas sebagai \n",
    "  \"*ketika h semakin dekat dengan 0, maka nilai limit fungsinya semakin mendekati kemiringan garis singgung fungsi f di x*\"\n",
    "* Permasalahannya komputer tidak bisa menggunakan (menyimpan) bilangan real.\n",
    "* Apakah pengertian limit diatas berlaku juga di sistem Floating Point?"
   ]
  },
  {
   "cell_type": "markdown",
   "metadata": {},
   "source": [
    "* Misal $$f(x) = e^x$$\n",
    "* Maka $f'(1) = e = 2.718281828459045 ...$\n",
    "* Mari kita hitung $$\\frac{f(x+h)-f(x)}{h}$$ untuk $h=10^{-1},10^{-2},...,10^{-10},...$"
   ]
  },
  {
   "cell_type": "code",
   "execution_count": 7,
   "metadata": {},
   "outputs": [
    {
     "name": "stdout",
     "output_type": "stream",
     "text": [
      "h\t\t\tlimit\t\t\t    error_Absolut\n",
      "0.1 \t\t 1.1051709180756477 \t\t 1.1051709180756477\n"
     ]
    },
    {
     "data": {
      "text/plain": [
       "[0.10517091807564771]"
      ]
     },
     "execution_count": 7,
     "metadata": {},
     "output_type": "execute_result"
    }
   ],
   "source": [
    "# Contoh Hal 312\n",
    "import numpy as np\n",
    "\n",
    "def f(x):\n",
    "    return x*np.exp(x)\n",
    "\n",
    "X = 0 # f'(0)\n",
    "H = [10**-i for i in range(1,15)] # [0.1, 0.01, 0.001, 0.0001, 1e-05, 1e-06, 1e-07, 1e-08, 1e-09]\n",
    "H = [0.1]\n",
    "limit = [(f(X+h)-f(X))/h for h in H]\n",
    "E = [abs(f(X)-l) for l in limit]\n",
    "print ('h\\t\\t\\tlimit\\t\\t\\t    error_Absolut')\n",
    "for h, l, e in zip(H,limit, E):\n",
    "    print(h,'\\t\\t',l,'\\t\\t',e)\n",
    "    \n",
    "[abs(1-l) for l in limit]"
   ]
  },
  {
   "cell_type": "markdown",
   "metadata": {},
   "source": [
    "# Komputer \n",
    "* Pada contoh diatas kita melihat bahwa **h** mengecil belum tentu errornya juga mengecil\n",
    "* Kita bisa mengira-ngira **h terbaik** pada kasus diatas, tapi bagaimana dengan fungsi yang lain?"
   ]
  },
  {
   "cell_type": "markdown",
   "metadata": {},
   "source": [
    "<h2 id=\"Central-Difference\">Central Difference</h2>\n",
    "\n",
    "<p><img alt=\"\" src=\"images/theo_central_difference.png\" style=\"width: 800px; height: 424px;\" /></p>\n"
   ]
  },
  {
   "cell_type": "code",
   "execution_count": 2,
   "metadata": {},
   "outputs": [
    {
     "name": "stdout",
     "output_type": "stream",
     "text": [
      "h\t\t\tlimit\t\t\t    error_Absolut\n",
      "0.1 \t\t 2.7228145639474177 \t\t 0.00453273548837263\n",
      "0.01 \t\t 2.718327133382714 \t\t 4.530492366905392e-05\n",
      "0.001 \t\t 2.718282281505724 \t\t 4.53046678838831e-07\n",
      "0.0001 \t\t 2.718281832989611 \t\t 4.53056570037802e-09\n",
      "1e-05 \t\t 2.718281828517632 \t\t 5.858691309867936e-11\n",
      "1e-06 \t\t 2.718281828295588 \t\t 1.634572477371421e-10\n",
      "1e-07 \t\t 2.7182818285176324 \t\t 5.858735718788921e-11\n",
      "1e-08 \t\t 2.7182818218562943 \t\t 6.60275079056305e-09\n",
      "1e-09 \t\t 2.7182818218562943 \t\t 6.60275079056305e-09\n",
      "1e-10 \t\t 2.7182811557224795 \t\t 6.72736565565657e-07\n",
      "1e-11 \t\t 2.7182922579527258 \t\t 1.0429493680685908e-05\n",
      "1e-12 \t\t 2.7184920980971583 \t\t 0.00021026963811321409\n",
      "1e-13 \t\t 2.717825964282383 \t\t 0.00045586417666187984\n",
      "1e-14 \t\t 2.708944180085382 \t\t 0.009337648373663132\n"
     ]
    }
   ],
   "source": [
    "# Better?\n",
    "limit = [(f(X+h)-f(X-h))/(2*h) for h in H]\n",
    "E = [abs(f(X)-l) for l in limit]\n",
    "print ('h\\t\\t\\tlimit\\t\\t\\t    error_Absolut')\n",
    "for h, l, e in zip(H,limit, E):\n",
    "    print(h,'\\t\\t',l,'\\t\\t',e)"
   ]
  },
  {
   "cell_type": "markdown",
   "metadata": {},
   "source": [
    "<h2 id=\"Taking-the-central-Difference-Further\">Taking the central Difference Further</h2>\n",
    "\n",
    "<p><img alt=\"\" src=\"images/Theo_Central_Difference_2.png\" style=\"width: 800px; height: 378px;\" /></p>\n"
   ]
  },
  {
   "cell_type": "code",
   "execution_count": 2,
   "metadata": {},
   "outputs": [
    {
     "name": "stdout",
     "output_type": "stream",
     "text": [
      "h\t\t\tlimit\t\t\t    error_Absolut\n",
      "0.1 \t\t 0.0 \t\t 0.0\n"
     ]
    },
    {
     "data": {
      "text/plain": [
       "10.517091807564771"
      ]
     },
     "execution_count": 2,
     "metadata": {},
     "output_type": "execute_result"
    }
   ],
   "source": [
    "# Really?\n",
    "limit = [(-f(X+2*h)+8*f(X+h)-8*f(X-h)+f(X-2*h))/(12*h) for h in H]\n",
    "E = [abs(f(X)-l) for l in limit]\n",
    "print ('h\\t\\t\\tlimit\\t\\t\\t    error_Absolut')\n",
    "for h, l, e in zip(H,limit, E):\n",
    "    print(h,'\\t\\t',l,'\\t\\t',e)\n",
    "([abs(0-l) for l in limit][0])"
   ]
  },
  {
   "cell_type": "markdown",
   "metadata": {},
   "source": [
    "## Wow that's almost magical! It's time we understand where are these formulas came from.\n",
    "\n",
    "* Derive Taylor expansion $f(x) = P_4(x)+E_4(x)$ untuk f(x+h) dan f(x-h)\n",
    "* $f(x+h) - f(x-h) = 2f'(x)h + 2f^{(3)}(x)h^3/3! + 2f^{(5)}(c_1)h^5/5!$\n",
    "* Lakukan hal yang sama, tapi h = 2h, sehingga\n",
    "* $f(x+2h) - f(x-2h) = 4f'(x)h + 16f^{(3)}(x)h^3/3! + 64f^{(5)}(c_2)h^5/5!$\n",
    "* Persamaan kedua dikurangi 8 kali persamaan pertama menghasilkan formula diatas. \n",
    "* $-f(x+2h) + 8f(x+h) - 8f(x-h) + f(x-2h) = 12 f'(x)h + \\frac{(16f^{(5)}(c_1) - 64 f^{(5)}(c_2))h^5}{120}$\n",
    "* Jika dimisalkan \n",
    "* $16 f^{(5)}(c_1) - 64 f^{(5)}(c_2) = -48f^{(5)}(c)$ untuk suatu $c\\in [x-2h, x+2h]$, maka\n",
    "* $f'(x) = \\frac{-f(x+2h) + 8 f(x+h) -8 f(x-h) + f(x-2h)}{12h} + \\frac{f^{(5)}(c)h^4}{30}$\n",
    "* Hence our previous formula"
   ]
  },
  {
   "cell_type": "markdown",
   "metadata": {},
   "source": [
    "<h2 id=\"Analisis-Error,-Teori-dan-Realitas\">Analisis Error, Teori dan Realitas</h2>\n",
    "\n",
    "<ul>\n",
    "\t<li>Jika dibaca di buku, maka kita mendapatkan secara analitik batas error dari teorema 6.1 adalah:</li>\n",
    "\t<li><img alt=\"\" src=\"images/cor_6.1.b.png\" style=\"width: 400px; height: 142px;\" /></li>\n",
    "\t<li>dan untuk teorema 6.2 adalah:</li>\n",
    "\t<li><img alt=\"\" src=\"images/cor_6.2.b.png\" style=\"width: 400px ; height: 141px\" /></li>\n",
    "\t<li>But how useful are these corollary? Why? to what extend?</li>\n",
    "</ul>\n"
   ]
  },
  {
   "cell_type": "markdown",
   "metadata": {},
   "source": [
    "<h2 id=\"Richardson-Extrapolation\">Richardson Extrapolation</h2>\n",
    "\n",
    "<ul>\n",
    "\t<li>What Extrapolation? What do we mean by extrapolation in this contex?</li>\n",
    "\t<li><img alt=\"\" src=\"images/richard_extrapolation.png\" style=\"width: 600px; height: 256px;\" /></li>\n",
    "\t<li>How do we use it?</li>\n",
    "</ul>\n"
   ]
  },
  {
   "cell_type": "markdown",
   "metadata": {},
   "source": [
    "<p><img alt=\"\" src=\"images/richard_extrapolation_alg.png\" style=\"width: 624px; height: 172px;\" /></p>\n"
   ]
  },
  {
   "cell_type": "code",
   "execution_count": 4,
   "metadata": {},
   "outputs": [
    {
     "name": "stdout",
     "output_type": "stream",
     "text": [
      "7 8 9\n"
     ]
    }
   ],
   "source": [
    "# First you need to understand about List indexing in Python\n",
    "A = [3, 4, 5, 6, 9, 8, 7]\n",
    "print(A[-1], A[-2], A[-3])"
   ]
  },
  {
   "cell_type": "code",
   "execution_count": 8,
   "metadata": {},
   "outputs": [
    {
     "name": "stdout",
     "output_type": "stream",
     "text": [
      "k\t\t\tD\t\t\t    error_Absolut\n",
      "0 \t\t 1.0050041680558035 \t\t 0.005004168055803504\n",
      "1 \t\t 1.0000500004166681 \t\t 5.0000416668138925e-05\n",
      "2 \t\t 1.0000005000000418 \t\t 5.000000418142747e-07\n",
      "3 \t\t 1.0000000050000002 \t\t 5.00000019165725e-09\n",
      "4 \t\t 1.0000000000499998 \t\t 4.9999782092413625e-11\n",
      "5 \t\t 1.0000000000005 \t\t 5.000444502911705e-13\n",
      "6 \t\t 1.000000000000005 \t\t 5.10702591327572e-15\n",
      "7 \t\t 1.0 \t\t 0.0\n",
      "8 \t\t 1.0000000000000002 \t\t 2.220446049250313e-16\n",
      "9 \t\t 1.0 \t\t 0.0\n",
      "Final solution at k =  7\n"
     ]
    }
   ],
   "source": [
    "# Contoh aplikasi\n",
    "X = 0\n",
    "h = 0.1 # h terbaik di contoh terakhir\n",
    "D = []\n",
    "# Lihat formulanya, kita butuh minimal 3 D untuk memulai iterasinya.\n",
    "# Kita masih akan menggunakan f(x) yang sama dengan contoh sebelumnya\n",
    "\n",
    "def R(x,h,k):\n",
    "    return (f(x+10**-k*h) - f(x-10**-k*h))/(2*h*10**-k)\n",
    "\n",
    "print ('k\\t\\t\\tD\\t\\t\\t    error_Absolut')\n",
    "\n",
    "k = 0\n",
    "d = R(X,h,k) # k = 0\n",
    "D.append(d)\n",
    "print(k,'\\t\\t', d,'\\t\\t',abs(1-d))\n",
    "\n",
    "k = k+1\n",
    "d = R(X,h,k) # k = 1\n",
    "D.append(d)\n",
    "print(k,'\\t\\t', d,'\\t\\t',abs(1-d))\n",
    "\n",
    "k = k+1\n",
    "d = R(X,h,k) # k = 2\n",
    "D.append(d)\n",
    "print(k,'\\t\\t', d,'\\t\\t',abs(1-d))\n",
    "\n",
    "while abs(D[-1]-D[-2])<abs(D[-2]-D[-3]):\n",
    "    k = k+1\n",
    "    d = R(X,h,k)\n",
    "    D.append(d)\n",
    "    print(k,'\\t\\t', d,'\\t\\t',abs(1-d))\n",
    "    \n",
    "print('Final solution at k = ', k-2)"
   ]
  },
  {
   "cell_type": "markdown",
   "metadata": {},
   "source": [
    "<h2 id=\"Numerical-Differentiation-Formulas\">Numerical Differentiation Formulas</h2>\n",
    "\n",
    "<p><img alt=\"\" src=\"images/NDF_1.png\" style=\"width: 462px; height: 538px;\" /></p>\n"
   ]
  },
  {
   "cell_type": "markdown",
   "metadata": {},
   "source": [
    "<p><img alt=\"\" src=\"images/NDF_2.png\" style=\"width: 563px; height: 548px;\" /></p>\n"
   ]
  },
  {
   "cell_type": "markdown",
   "metadata": {
    "slideshow": {
     "slide_type": "slide"
    }
   },
   "source": [
    "# End of Module\n",
    "\n",
    "<hr />"
   ]
  }
 ],
 "metadata": {
  "celltoolbar": "Slideshow",
  "kernelspec": {
   "display_name": "Python 3",
   "language": "python",
   "name": "python3"
  },
  "language_info": {
   "codemirror_mode": {
    "name": "ipython",
    "version": 3
   },
   "file_extension": ".py",
   "mimetype": "text/x-python",
   "name": "python",
   "nbconvert_exporter": "python",
   "pygments_lexer": "ipython3",
   "version": "3.6.8"
  }
 },
 "nbformat": 4,
 "nbformat_minor": 2
}
