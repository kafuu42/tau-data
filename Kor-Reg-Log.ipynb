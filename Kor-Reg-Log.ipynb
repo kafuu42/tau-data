{
 "cells": [
  {
   "cell_type": "markdown",
   "metadata": {
    "slideshow": {
     "slide_type": "slide"
    }
   },
   "source": [
    "<center><img alt=\"\" src=\"images/Cover.jpg\"/></center> \n",
    "\n",
    "## <center><font color=\"blue\">Supervised Learning I: Korelasi, Regresi, dan Regresi Logistik</font></center>\n",
    "\n",
    "<h2 id=\"(C)-Taufik-Sutanto---2019\" style=\"text-align: center;\">(C) Taufik Sutanto - 2019</h2>\n",
    "<h2 id=\"tau-data-Indonesia-~-https://tau-data.id\" style=\"text-align: center;\">tau-data Indonesia ~ <a href=\"https://tau-data.id\" target=\"_blank\"><span style=\"color: #0009ff;\">https://tau-data.id</span></a></h2>"
   ]
  },
  {
   "cell_type": "markdown",
   "metadata": {},
   "source": [
    "# Notes and Disclaimer\n",
    "\n",
    "* This notebook is part of the free (open knowledge) eLearning course at: https://tau-data.id/courses/\n",
    "* Some images are taken from several resources, we respect those images ownerships and put a reference/citation from where it is originated. Nevertheless, sometimes we are having trouble to find the origin of the image(s). If you are the owner of the image and would like the image taken-out (or want the citation to be revised) from this open knowledge course resources please contact us here with the details: https://tau-data.id/contact/  \n",
    "* Unless stated otherwise, in general tau-data permit its resources to be copied and-or modified for non-commercial purposes. With condition proper acknowledgement/citation is given."
   ]
  },
  {
   "cell_type": "markdown",
   "metadata": {},
   "source": [
    "## Outline:\n",
    "\n",
    "* Pengantar ke Predictive Modelling\n",
    "* Korelasi\n",
    "* Regresi\n",
    "* Evaluasi dan Interpretasi Model Regresi\n",
    "* Regresi Logistik\n",
    "* Evaluasi dan Interpretasi Model Klasifikasi"
   ]
  },
  {
   "cell_type": "markdown",
   "metadata": {},
   "source": [
    "# Pendahuluan Model Regresi\n",
    "\n",
    "* Digunakan saat variabel tak bebas (**Dependent variable** - Y) bertipe **numerik** (float/real) dan variabel bebasnya bisa numerik dan-atau kategorik\n",
    "\n",
    "<p><img alt=\"\" src=\"images/Supervised_Methods.png\" /></p>\n"
   ]
  },
  {
   "cell_type": "markdown",
   "metadata": {},
   "source": [
    "<p><img alt=\"\" src=\"images/models_wrong_some_useful.png\" /></p>\n",
    "\n",
    "* Perfect/true-best model tidak ada, bahkan seringnya tidak diperlukan"
   ]
  },
  {
   "cell_type": "markdown",
   "metadata": {},
   "source": [
    "# Beberapa contoh aplikasi regresi\n",
    "\n",
    "1. **Predictive** Analytics: Memprediksi resiko, harga, penjualan, demand, dsb.\n",
    "\n",
    "2. Operation Efficiency: Optimasi proses bisnis dengan melihat **hubungan antar variabel** dan mengambil policy berdasarkan hubungan tersebut.\n",
    "\n",
    "3. Supporting Decisions: **Testing hypothesis**, misal terkait keuangan, operations dan customer purchases.\n",
    "\n",
    "4. New **Insights**: Regresi dapat membantu menganalisa hubungan antar variabel dan sekaligus mem-filternya.\n",
    "\n",
    "Sumber: https://www.newgenapps.com/blog/business-applications-uses-regression-analysis-advantages"
   ]
  },
  {
   "cell_type": "markdown",
   "metadata": {},
   "source": [
    "# Regresi dan Korelasi\n",
    "\n",
    "<p><img alt=\"\" src=\"images/correlation_2.png\" /></p>"
   ]
  },
  {
   "cell_type": "markdown",
   "metadata": {},
   "source": [
    "# Regresi dan Korelasi\n",
    "\n",
    "* Konsep dasar Persamaan/model Regressi adalah hubungan linear antara variabel bebas dan tak bebas.\n",
    "* Sehingga kita akan awali bahasannya dengan Korelasi\n",
    "\n",
    "<p><img alt=\"\" src=\"images/correlation.png\" /></p>\n"
   ]
  },
  {
   "cell_type": "markdown",
   "metadata": {},
   "source": [
    "# Koefisien Korelasi Pearson\n",
    "\n",
    "* Korelasi adalah suatu pengukuran untuk melihat **hubungan linier** antara dua variable numerik. Disimbolkan dengan **r**, untuk sampel, dan **$\\rho$** untuk populasi.\n",
    "\n",
    "* Langkah pertama dalam penentuan korelasi adalah dengan membuat **diagram pencar** (scatter plot) dari variabel terkait. Pada korelasi, kedua variable setara, dalam artian tidak ada yang menjadi variable bebas dan terikat. \n",
    "\n",
    "* Namun, untuk mempermudah pembahasan, pada diagram pencar, satu variable akan disimbolkan sebagai *x* (variable bebas) dan satu variable sebagai *y* (variable terikat/tak bebas). Jika titik – titik data terkonsentrasi di sekitar garis lurus, maka merupakan indikasi bahwa korelasi antara kedua variable tinggi. Makin terpencar data dari suatu garis lurus, menunjukkan makin rendah korelasi antara kedua variable tersebut."
   ]
  },
  {
   "cell_type": "markdown",
   "metadata": {},
   "source": [
    "# Nilai koefisien korelasi Pearson\n",
    "\n",
    "* Nilai dari koefisien korelasi Pearson adalah dari -1 hingga +1.\n",
    "\n",
    "<p><img alt=\"\" src=\"images/korelasi_pearson_01.png\" /></p>"
   ]
  },
  {
   "cell_type": "markdown",
   "metadata": {},
   "source": [
    "<p><img alt=\"\" src=\"images/linear-nonlinear-relationships.png\" style=\"width: 688px; height: 266px;\" /></p>"
   ]
  },
  {
   "cell_type": "markdown",
   "metadata": {},
   "source": [
    "# Hati-hati\n",
    "\n",
    "* Koefisien korelasi = 0 bukan berarti tidak ada hubungan antara kedua variable. Yang benar adalah: tidak ada hubungan LINIER, tapi bisa jadi ada hubungan dalam bentuk lain; misal: kuadratik, atau fungsi lain selain linier, seperti pada contoh di atas. "
   ]
  },
  {
   "cell_type": "markdown",
   "metadata": {},
   "source": [
    "# Memahami Korelasi dari perumusannya (Statistical Thinking)\n",
    "\n",
    "* Korelasi sebenarnya adalah Covariance dibagi dengan masing-masing standar deviasinya.\n",
    "* Apa maksud/maknanya?\n",
    "\n",
    "<p><img alt=\"\" src=\"images/korelasi_pearson_formulae.png\" /></p>"
   ]
  },
  {
   "cell_type": "markdown",
   "metadata": {},
   "source": [
    "# Contoh sederhana\n",
    "\n",
    "<p><img alt=\"\" src=\"img/data_korelasi_01.png\" /></p>"
   ]
  },
  {
   "cell_type": "code",
   "execution_count": null,
   "metadata": {},
   "outputs": [],
   "source": [
    "# Importing Some Python Modules\n",
    "import scipy, itertools, pandas as pd, matplotlib.pyplot as plt, seaborn as sns, numpy as np, time\n",
    "import warnings; warnings.simplefilter('ignore')\n",
    "from sklearn.metrics import confusion_matrix, classification_report\n",
    "from scipy import stats\n",
    "from sklearn import metrics\n",
    "from sklearn.preprocessing import StandardScaler, MinMaxScaler\n",
    "from sklearn.preprocessing import LabelEncoder\n",
    "from sklearn import preprocessing\n",
    "from sklearn.model_selection import train_test_split\n",
    "from sklearn.linear_model import LogisticRegression\n",
    "from sklearn.metrics import accuracy_score\n",
    "from sklearn.datasets import load_breast_cancer, load_iris\n",
    "from sklearn.metrics import precision_score, recall_score, f1_score\n",
    "from sklearn.model_selection import cross_val_score\n",
    "\n",
    "# un-command line below and run it \"Only If\" there is an error saying \"factorial not known\"\n",
    "#!pip install statsmodels==0.10.0rc2 --pre\n",
    "# Importing Modules\n",
    "import statsmodels.formula.api as smf\n",
    "from statsmodels.formula.api import ols\n",
    "import statsmodels.api as sm, scipy.stats as stats\n",
    "\n",
    "%matplotlib inline\n",
    "plt.style.use('bmh'); sns.set()"
   ]
  },
  {
   "cell_type": "code",
   "execution_count": null,
   "metadata": {},
   "outputs": [],
   "source": [
    "# ToyData Example\n",
    "x = np.array([40, 45, 53, 60, 65, 71]) # Usia\n",
    "y = np.array([126, 124, 135, 142, 139, 151]) # Tekanan Darah\n",
    "np.corrcoef(x, y)\n",
    "# Hasilnya adalah matriks korelasi"
   ]
  },
  {
   "cell_type": "code",
   "execution_count": null,
   "metadata": {},
   "outputs": [],
   "source": [
    "# Plot untuk melihat datanya\n",
    "plt.scatter(x, y)\n",
    "plt.show()"
   ]
  },
  {
   "cell_type": "code",
   "execution_count": null,
   "metadata": {},
   "outputs": [],
   "source": [
    "# cara lain dengan DataFrame\n",
    "df = pd.DataFrame({'usia':x, 'Tekanan_Darah':y})\n",
    "print(df.corr())\n",
    "sns.heatmap(df.corr(),cmap='viridis', vmax=1.0, vmin=-1.0, linewidths=0.1,annot=True, annot_kws={\"size\": 8}, square=True)\n",
    "p = sns.pairplot(df)"
   ]
  },
  {
   "cell_type": "markdown",
   "metadata": {},
   "source": [
    "# Interpretasi\n",
    "\n",
    "* Nilai ~0.95 menunjukkan bahwa ada korelasi linier positif yang kuat antara usia dan tekanan darah. Ada kecenderungan bahwa usia tinggi berkaitan dengan tekanan darah yang kebih tinggi dibandingkan usia rendah.\n",
    "* **WARNING**\n",
    "* **Korelasi tidak sama (meng-implikasikan) dengan sebab akibat**. Perhatikan interpretasi di atas. Tidak dinyatakan bahwa jika usia tinggi maka tekanan darah rendah, hanya suatu tren atau kecenderungan. Mungkin saja usia dengan bertambahnya usia maka tekanan darah meningkat, tapi mungkin juga tekanan darah tinggi bukan karena usia, tapi faktor lain yang tidak teramati pada data.\n",
    "\n",
    "* Contoh lain penelitian di Machine learning (kecantikan dan confidence/Panjang Jari dan IQ)"
   ]
  },
  {
   "cell_type": "markdown",
   "metadata": {},
   "source": [
    "# Batasan nilai $R^2$ seperti ini? ... Really? Why? Why not?\n",
    "\n",
    "<p><img alt=\"\" src=\"images/Corr_interpretation.png\" /></p>\n",
    "[image Source: https://spencermath.weebly.com/home/interpreting-the-correlation-coefficient]\n",
    "\n",
    "* Cases (social, medicine, etc)\n",
    "* Objective, prediction vs insights."
   ]
  },
  {
   "cell_type": "markdown",
   "metadata": {},
   "source": [
    "# Regresi Linier Sederhana\n",
    "\n",
    "\n",
    "<img alt=\"\" src=\"images/Reg_sederhana_01.png\"/>"
   ]
  },
  {
   "cell_type": "markdown",
   "metadata": {},
   "source": [
    "<p><img alt=\"\" src=\"images/reg_eq.png\" style=\"width: 599px; height: 249px;\" /></p>"
   ]
  },
  {
   "cell_type": "markdown",
   "metadata": {},
   "source": [
    "<p><img alt=\"\" src=\"images/reg_types.png\" /></p>\n",
    "\n",
    "[image source: https://www.slideshare.net/mahakvijay3/basics-of-regression-analysis]"
   ]
  },
  {
   "cell_type": "markdown",
   "metadata": {},
   "source": [
    "<p><img alt=\"\" src=\"images/Regression_FlowChart.jpg\" /></p>\n",
    "\n",
    "[image Source: https://scikit-learn.org/stable/tutorial/machine_learning_map/index.html]"
   ]
  },
  {
   "cell_type": "markdown",
   "metadata": {},
   "source": [
    "# Korelasi ke Regresi\n",
    "\n",
    "<p><img alt=\"\" src=\"images/korelasi_2_regresi.png\" /></p>"
   ]
  },
  {
   "cell_type": "markdown",
   "metadata": {},
   "source": [
    "# Diskusi\n",
    "\n",
    "* Mengapa Error diasumsikan berdistribusi normal?\n",
    "* Error VS Residual?\n",
    "* Di dunia nyata kita seringnya tidak mengetahui error. Loh kok? Maksudnya?\n",
    "* Apa beda regresi dan interpolasi di Metode Numerik?"
   ]
  },
  {
   "cell_type": "markdown",
   "metadata": {},
   "source": [
    "# Bahas sebentar pentingnya memahami \"Loss Function\"\n",
    "\n",
    "* Persamaan/Model Linier adalah dasar terpenting di Statistika, Data Science, Machine Learning, dan Deep Learning (*).\n",
    "* Banyak model di (*) sebenarnya adalah fungsi linier, bahkan di masalah klasifikasi.\n",
    "* Yang membedakan adalah \"pemodelan/optimasi masalah/Loss Functionnya\"\n",
    "\n",
    "-- Keterangan lebih lanjut ... "
   ]
  },
  {
   "cell_type": "markdown",
   "metadata": {},
   "source": [
    "# Heteroskedasticity\n",
    "\n",
    "<p><img alt=\"\" src=\"img/heterokedastisitas.png\" /></p>\n"
   ]
  },
  {
   "cell_type": "markdown",
   "metadata": {},
   "source": [
    "# Regresi memprediksi rata-rata $y_i$ untuk $x_i$, maksudnya?"
   ]
  },
  {
   "cell_type": "markdown",
   "metadata": {},
   "source": [
    "<h1 id=\"Asumsi-Klasik\">Asumsi Klasik</h1>\n",
    "\n",
    "* https://tau-data.id/asumsi-statistika-benci-butuh/\n",
    "<p><img alt=\"\" src=\"images/asumsi_reg.png\" style=\"width: 800px; height: 298px;\" /></p>"
   ]
  },
  {
   "cell_type": "markdown",
   "metadata": {},
   "source": [
    "<p><img alt=\"\" src=\"images/asumsi_reg_2.png\" /></p>\n"
   ]
  },
  {
   "cell_type": "markdown",
   "metadata": {},
   "source": [
    "# Some warnings in Regression\n",
    "\n",
    "<p><img alt=\"\" src=\"images/Warnings_on_Regresi.png\" /></p>"
   ]
  },
  {
   "cell_type": "markdown",
   "metadata": {},
   "source": [
    "# Multikolinearitas: Mengapa dan seberapa \"robust\"?\n",
    "\n",
    "## Kapan kita tidak perlu hawatir tentang hal ini?"
   ]
  },
  {
   "cell_type": "markdown",
   "metadata": {},
   "source": [
    "# Pembahasan tentang Scaling"
   ]
  },
  {
   "cell_type": "markdown",
   "metadata": {},
   "source": [
    "# Pembahasan tentang Interpolasi dan bukan Ekstrapolasi \n",
    "\n",
    "## Kalau mau ekstrapolasi bagaimana?"
   ]
  },
  {
   "cell_type": "markdown",
   "metadata": {},
   "source": [
    "# Bagaimana jika error tidak berdistribusi \"normal\"?"
   ]
  },
  {
   "cell_type": "markdown",
   "metadata": {},
   "source": [
    "# Evaluasi Error (Mean Squared Error)\n",
    "\n",
    "<p><img alt=\"\" src=\"images/mse_regresi.png\" /></p>\n",
    "\n",
    "* Hati-hati,... perhatikan rumusnya dengan baik .... ia tidak robust terhadap outlier\n",
    "* $\\hat{y} = \\beta_0 + \\beta_1 x_1 + ... + \\beta_n x_n$\n",
    "* MSE = total jarak/selisih antara prediksi dan nilai dari data (sesungguhnya)\n",
    "* RMSE = $\\sqrt{MSE}$   ... why? \n",
    "* Evaluasi penting ketika kita ingin melakukan prediksi"
   ]
  },
  {
   "cell_type": "markdown",
   "metadata": {},
   "source": [
    "# Evaluasi $R^2$: Model VS Tidak Pakai Model?\n",
    "\n",
    "<p><img alt=\"\" src=\"images/R_Square.png\" /></p>"
   ]
  },
  {
   "cell_type": "markdown",
   "metadata": {},
   "source": [
    "# Adjusted R-Squared? Why?\n",
    "\n",
    "<p><img alt=\"\" src=\"images/Adjusted_R_Squared.png\" /></p>"
   ]
  },
  {
   "cell_type": "markdown",
   "metadata": {},
   "source": [
    "# Pengaruh Variabel Tak Bebas ke Model\n",
    "\n",
    "\n",
    "<p><img alt=\"\" src=\"images/sig_var_di_Regresi.png\" /></p>\n",
    "\n",
    "* $SSR = SST - SSE = \\sum{(y_i-\\bar{y})^2} - \\sum{(y_i-\\hat{y_i})^2}$  "
   ]
  },
  {
   "cell_type": "markdown",
   "metadata": {},
   "source": [
    "# p-value (bergantung distribusi; contoh kasus distribusi normal)?\n",
    "\n",
    "<p><img alt=\"\" src=\"images/p-value.png\" /></p>\n",
    "\n",
    "* Probabilitas membuat kesalahan\n",
    "* Dari rumus di cell sebelumnya, ada \"masalah\" dengan formulasi p-value."
   ]
  },
  {
   "cell_type": "markdown",
   "metadata": {},
   "source": [
    "# Menangani Data Kategorik di Regresi\n",
    "\n",
    "1. Numeric Encoding\n",
    "2. Dummy variable encoding\n",
    "3. One-Hot Encoding"
   ]
  },
  {
   "cell_type": "code",
   "execution_count": null,
   "metadata": {},
   "outputs": [],
   "source": [
    "# Contoh Data\n",
    "\n",
    "dt = [['female', 'New York', 'low', 4], ['female', 'London', 'medium', 3], ['male', 'New Delhi', 'high', 2]]\n",
    "col = ['Gender', 'City', 'Temperature', 'Rating']"
   ]
  },
  {
   "cell_type": "code",
   "execution_count": null,
   "metadata": {},
   "outputs": [],
   "source": [
    "data = pd.DataFrame(dt,columns=col)\n",
    "print(data)"
   ]
  },
  {
   "cell_type": "markdown",
   "metadata": {},
   "source": [
    "# Numeric encoding\n",
    "\n",
    "* Lebih cocok untuk ordinal (terutama jika kategorinya cukup banyak)"
   ]
  },
  {
   "cell_type": "code",
   "execution_count": null,
   "metadata": {},
   "outputs": [],
   "source": [
    "data['City_encoded'] = LabelEncoder().fit_transform(data['City'])\n",
    "data.head()\n",
    "# Hati-hati tidak ada urutan encodingnya, cocok untuk variabel nominal"
   ]
  },
  {
   "cell_type": "markdown",
   "metadata": {},
   "source": [
    "# Customized Ordinal Numeric Encoding"
   ]
  },
  {
   "cell_type": "code",
   "execution_count": null,
   "metadata": {},
   "outputs": [],
   "source": [
    "mapping = {'low':0, 'medium':1, 'high':2}\n",
    "data['Temperature_encoded'] = data['Temperature'].map(mapping)\n",
    "data.head()"
   ]
  },
  {
   "cell_type": "markdown",
   "metadata": {},
   "source": [
    "# One-hot encoding\n",
    "\n",
    "* Preferable in Machine learning community\n",
    "* Variabel nominal"
   ]
  },
  {
   "cell_type": "code",
   "execution_count": null,
   "metadata": {},
   "outputs": [],
   "source": [
    "Oh = pd.get_dummies(data['City'], prefix='City')\n",
    "Oh\n",
    "# Perhatikan, sekarang setiap kategori di variabel kategorik menjadi sebuah variabel baru\n",
    "# tapi bagaimana memasukan hasil encoding ini kembali ke datanya?"
   ]
  },
  {
   "cell_type": "code",
   "execution_count": null,
   "metadata": {},
   "outputs": [],
   "source": [
    "dt = pd.concat([data, Oh], axis=1)\n",
    "dt.head()"
   ]
  },
  {
   "cell_type": "markdown",
   "metadata": {},
   "source": [
    "# Dummy Variable (Statisticians)\n",
    "\n",
    "* less parameter\n",
    "* konsepnya seperti \"binary system\"\n",
    "* Statistician tidak suka jika jumlah parameter berlebih\n",
    "* default encoding beberapa modul"
   ]
  },
  {
   "cell_type": "code",
   "execution_count": null,
   "metadata": {},
   "outputs": [],
   "source": [
    "dum = pd.get_dummies(data['City'], prefix='City', drop_first=True)\n",
    "dum.head()"
   ]
  },
  {
   "cell_type": "code",
   "execution_count": null,
   "metadata": {},
   "outputs": [],
   "source": [
    "pd.concat([data, dum], axis=1)"
   ]
  },
  {
   "cell_type": "markdown",
   "metadata": {},
   "source": [
    "# Regresi Non-Linier?\n",
    "\n",
    "## Why?\n",
    "## Kapan tidak disarankan menambah kompleksitas model?\n",
    "## Regression for insights VS regression for prediction.\n",
    "\n",
    "## Masih linear terhadap parameter\n",
    "\n",
    "<p><img alt=\"\" src=\"images/linearisasi_regresi.png\" /></p>\n",
    "[image source: https://sites.google.com/site/apphysics1online/appendices/2-data-analysis/graph-linearization ]"
   ]
  },
  {
   "cell_type": "markdown",
   "metadata": {},
   "source": [
    "# Pentingnya \"scaling\" di Regresi (atau clustering) untuk mencari insight dari data\n",
    "\n",
    "<p><img alt=\"\" src=\"images/scaling.png\" /></p>"
   ]
  },
  {
   "cell_type": "markdown",
   "metadata": {},
   "source": [
    "<p><img alt=\"\" src=\"images/standardize.png\" /></p>\n",
    "<p><img alt=\"\" src=\"images/minmax.png\" /></p>\n",
    "\n",
    "[image source: https://medium.com/greyatom/why-how-and-when-to-scale-your-features-4b30ab09db5e ]"
   ]
  },
  {
   "cell_type": "markdown",
   "metadata": {},
   "source": [
    "# Floating Point tidak sama dengan Bilangan Real\n",
    "\n",
    "## Komputer tidak bisa menyimpan dan mengolah bilangan real\n",
    "# Tidak Percaya?\n",
    "## Mari hitung deret berikut dengan komputer (Python)\n",
    "# $\\sum_{n=1}^{10^6}0.1$\n",
    "## Seharusnya hasilnya adalah?"
   ]
  },
  {
   "cell_type": "code",
   "execution_count": null,
   "metadata": {},
   "outputs": [],
   "source": [
    "# Here is the result according to Python\n",
    "dSum = 0 \n",
    "for i in range(10**6): # ini artinya for i dari 0 sampai (10^6)-1\n",
    "    dSum = dSum + 0.1 # or \"dSum += 0.1\"\n",
    "print(dSum)\n",
    "# is the result correct? Why?"
   ]
  },
  {
   "cell_type": "markdown",
   "metadata": {},
   "source": [
    "# Sistem Floating Point\n",
    "\n",
    "<p><img alt=\"\" src=\"images/6_float_3.png\" /></p>"
   ]
  },
  {
   "cell_type": "markdown",
   "metadata": {},
   "source": [
    "# Studi Kasus\n",
    "\n",
    "* Automotive MPG (miles-per-Galon) Data Set : https://archive.ics.uci.edu/ml/datasets/Auto+MPG\n",
    "* Paper awal: Quinlan,R. (1993). Combining Instance-Based and Model-Based Learning. In Proceedings on the Tenth International Conference of Machine Learning, 236-243, University of Massachusetts, Amherst. Morgan Kaufmann. \n",
    "\n",
    "Attribute Information:\n",
    "\n",
    "1. **mpg**: continuous ==> Dependent/target variable\n",
    "2. cylinders: multi-valued discrete \n",
    "3. displacement: continuous \n",
    "4. horsepower: continuous \n",
    "5. weight: continuous \n",
    "6. acceleration: continuous \n",
    "7. model year: multi-valued discrete \n",
    "8. origin: multi-valued discrete \n",
    "9. car name: string (unique for each instance)"
   ]
  },
  {
   "cell_type": "code",
   "execution_count": null,
   "metadata": {},
   "outputs": [],
   "source": [
    "# Contoh\n",
    "# Load DataFile CSV\n",
    "try:\n",
    "    df = pd.read_csv('data/iklan.csv') # run locally\n",
    "except:\n",
    "    !wget https://raw.githubusercontent.com/taufikedys/tau-data/master/data/auto.csv # \"Google Colab\"\n",
    "    df = pd.read_csv('iklan.csv') \n",
    "df.head()"
   ]
  },
  {
   "cell_type": "code",
   "execution_count": null,
   "metadata": {},
   "outputs": [],
   "source": [
    "p = sns.pairplot(df)"
   ]
  },
  {
   "cell_type": "code",
   "execution_count": null,
   "metadata": {},
   "outputs": [],
   "source": [
    "standardize = preprocessing.StandardScaler()\n",
    "minMax = preprocessing.MinMaxScaler()"
   ]
  },
  {
   "cell_type": "code",
   "execution_count": null,
   "metadata": {},
   "outputs": [],
   "source": [
    "st = standardize.fit_transform(df[['Iklan', 'Laba']]) # Harus numerik dan Tidak Boleh ada Null/missing values\n",
    "st # hasilnya Numpy Array"
   ]
  },
  {
   "cell_type": "code",
   "execution_count": null,
   "metadata": {},
   "outputs": [],
   "source": [
    "# Jika ingin dimasukkan lagi ke Dataframe awal\n",
    "st_df = pd.DataFrame(st, columns=['Iklan', 'Laba']) # Merubah Numpy Array menjadi DataFrame\n",
    "df2 = pd.concat([df, st_df], axis=1) # caranya sama dengan saat kita mendiskusikan encoding variabel kategorik\n",
    "df2.head()"
   ]
  },
  {
   "cell_type": "code",
   "execution_count": null,
   "metadata": {},
   "outputs": [],
   "source": [
    "# Similary untuk minMax\n",
    "mm = minMax.fit_transform(df[['Iklan', 'Laba']])\n",
    "mm_df = pd.DataFrame(mm, columns=['iklan_mm', 'laba_mm']) # Merubah Numpy Array menjadi DataFrame\n",
    "df3 = pd.concat([df, mm_df], axis=1) # caranya sama dengan saat kita mendiskusikan encoding variabel kategorik\n",
    "df3.head()"
   ]
  },
  {
   "cell_type": "markdown",
   "metadata": {},
   "source": [
    "# Contoh Regresi di Python (Data Pengeluaran Biaya Iklan)"
   ]
  },
  {
   "cell_type": "code",
   "execution_count": null,
   "metadata": {},
   "outputs": [],
   "source": [
    "# Load DataFile CSV\n",
    "try:\n",
    "    df = pd.read_csv('data/iklan.csv') # run locally\n",
    "except:\n",
    "    !wget https://raw.githubusercontent.com/taufikedys/tau-data/master/data/iklan.csv # \"Google Colab\"\n",
    "    df = pd.read_csv('iklan.csv') \n",
    "df.head()"
   ]
  },
  {
   "cell_type": "code",
   "execution_count": null,
   "metadata": {},
   "outputs": [],
   "source": [
    "p = sns.pairplot(df, hue=\"Tipe\")"
   ]
  },
  {
   "cell_type": "code",
   "execution_count": null,
   "metadata": {},
   "outputs": [],
   "source": [
    "df.drop(\"No\", axis=1, inplace=True)\n",
    "df.dtypes"
   ]
  },
  {
   "cell_type": "code",
   "execution_count": null,
   "metadata": {},
   "outputs": [],
   "source": [
    "df.info()"
   ]
  },
  {
   "cell_type": "code",
   "execution_count": null,
   "metadata": {},
   "outputs": [],
   "source": [
    "df.describe()"
   ]
  },
  {
   "cell_type": "code",
   "execution_count": null,
   "metadata": {},
   "outputs": [],
   "source": [
    "# Fitting model Regresi Sederhana\n",
    "lm = smf.ols(\"Laba ~ Iklan\", data=df[['Laba','Iklan']]).fit()\n",
    "lm.summary()"
   ]
  },
  {
   "cell_type": "code",
   "execution_count": null,
   "metadata": {},
   "outputs": [],
   "source": [
    "# Mean Squared Error\n",
    "lm.mse_total"
   ]
  },
  {
   "cell_type": "code",
   "execution_count": null,
   "metadata": {},
   "outputs": [],
   "source": [
    "# Perintah-perintah ini hanya untuk memplot hasilnya\n",
    "xmin, xmax = df.Iklan.min(), df.Iklan.max()\n",
    "X = np.linspace(xmin, xmax, 100)\n",
    "# params[0] is the intercept (beta0)\n",
    "# params[1] is the slope (beta1)\n",
    "Y = lm.params[0] + lm.params[1] * X\n",
    "# Perhatikan ada 2 perintah plot\n",
    "plt.plot(df.Iklan, df.Laba, \"o\")\n",
    "plt.plot(X, Y, color=\"darkgreen\")\n",
    "#Selanjutnya hanya perintah labelling\n",
    "plt.xlabel(\"Investasi Iklan\")\n",
    "plt.ylabel(\"Laba\")\n",
    "plt.show()"
   ]
  },
  {
   "cell_type": "code",
   "execution_count": null,
   "metadata": {},
   "outputs": [],
   "source": [
    "# Menggunakan Module \"SeaBorn\" jauh lebih mudah ketimbang MatplotLib\n",
    "p = sns.regplot(df.Iklan, df.Laba)"
   ]
  },
  {
   "cell_type": "code",
   "execution_count": null,
   "metadata": {},
   "outputs": [],
   "source": [
    "# Kita bisa prediksi dengan cara seperti ini:\n",
    "lm.predict({'Iklan': [21, 23, 25]})"
   ]
  },
  {
   "cell_type": "code",
   "execution_count": null,
   "metadata": {},
   "outputs": [],
   "source": [
    "# Kenormalan residuals\n",
    "res = lm.resid # residuals\n",
    "fig = sm.qqplot(res, stats.t, fit=True, line='45')\n",
    "plt.show()"
   ]
  },
  {
   "cell_type": "code",
   "execution_count": null,
   "metadata": {},
   "outputs": [],
   "source": [
    "# Regresi Berganda dengan menambahkan variabel kategorik \"Tipe\"\n",
    "res = ols(formula='Laba ~ Iklan + C(Tipe)', data=df).fit()\n",
    "res.summary()\n",
    "# Perhatikan bentuk modelnya, terutama pada data kategorik"
   ]
  },
  {
   "cell_type": "code",
   "execution_count": null,
   "metadata": {},
   "outputs": [],
   "source": [
    "# Regresi Berganda non-linear (mencoba transformasi logaritmik)\n",
    "res = ols(formula='Laba ~ np.log(Iklan) + C(Tipe)', data=df).fit()\n",
    "res.summary()"
   ]
  },
  {
   "cell_type": "markdown",
   "metadata": {},
   "source": [
    "# Train-Test untuk menghindari Overfit\n",
    "\n",
    "* Konsepnya generalisasi/\"inferensi\" Sample ==> Populasi, logical thinkingnya di aplikasi dunia nyata kita tidak memiliki nilai \"y\" (variabel target) yang sesungguhnya.\n",
    "* Catatan: pemisahan train-test menjaga proporsi kategori pada masalah klasifikasi (tidak murni random atau split)\n",
    "\n",
    "<p><img alt=\"\" src=\"img/train_test.png\" /></p>"
   ]
  },
  {
   "cell_type": "code",
   "execution_count": null,
   "metadata": {},
   "outputs": [],
   "source": [
    "X_train, X_test, y_train, y_test = train_test_split(df[['Iklan', 'Tipe']], df['Laba'], test_size=0.4)"
   ]
  },
  {
   "cell_type": "code",
   "execution_count": null,
   "metadata": {},
   "outputs": [],
   "source": [
    "X_train.head()"
   ]
  },
  {
   "cell_type": "markdown",
   "metadata": {},
   "source": [
    "# Belum Dibahas:\n",
    "\n",
    "* Model Regresi lain: Regression-tree, Support Vector Regression, Neural Network for Regression, dll.\n",
    "* Regresi untuk data khusus, misal Ridge Regression jika jumlah variabel banyak\n",
    "* General Linear Model dengan interaksi yang lebih umum/kompleks, dsb"
   ]
  },
  {
   "cell_type": "markdown",
   "metadata": {},
   "source": [
    "# Selingan\n",
    "\n",
    "* Pada penelitian sebaiknya menggunakan data public (open source) atau data private (misal data dari Rumah Sakit/Kampus)?"
   ]
  },
  {
   "cell_type": "markdown",
   "metadata": {},
   "source": [
    "# Pendahuluan Klasifikasi \n",
    "\n",
    "<p><img alt=\"\" src=\"images/masalah_klasifikasi.png\" /></p>\n",
    "\n",
    "* Misal diberikan permasalahan terdapat dua buah kategori orange dan ungu seperti di gambar.\n",
    "* Setiap titik di ganmbar adalah entitas dari data yang terdiri dari beberapa variabel.\n",
    "* Jika diberikan titik baru (warna putih), maka masalah klasifikkasi adalah kemudian menggolongkan data baru ini ke kategori titik Orange atau Ungu.\n"
   ]
  },
  {
   "cell_type": "markdown",
   "metadata": {},
   "source": [
    "# Klasifikasi dengan Model Regresi Logistik\n",
    "\n",
    "<p><img alt=\"\" src=\"images/klas_regLogistik.png\" /></p>\n",
    "\n",
    "* Mencari garis lurus yang sedemikian sehingga kesalahan prediksinya sekecil mungkin (lihat gambar)"
   ]
  },
  {
   "cell_type": "markdown",
   "metadata": {},
   "source": [
    "# Regresi Logistik\n",
    "\n",
    "* Awalnya regresi logistik adalah metode klasifikasi binary: membedakan antara 2 kelas atau kategori.\n",
    "* Masalah klasifikasi binary contohnya memprediksi seseorang terkena \"kanker\" atau \"tidak kanker\", kanker jinak/ganas, fraud atau bukan fraud (pada transaksi keuangan), negatif/positif dalam sentimen analisis, dsb.\n",
    "* Regresi logistik adalah pengembangan dari model regresi liniear, namun di konversi ke masalah klasifikasi."
   ]
  },
  {
   "cell_type": "markdown",
   "metadata": {},
   "source": [
    "## Regresi Logistik\n",
    "\n",
    "<img alt=\"\" src=\"images/reg_to_log.png\" />\n",
    "\n",
    "* http://www.saedsayad.com/logistic_regression.htm\n",
    "* Makna fungsi logarithm?\n",
    "* Konsekuensi dari rumus $\\beta$ diatas?\n",
    "* Asumsi?"
   ]
  },
  {
   "cell_type": "markdown",
   "metadata": {},
   "source": [
    "# Kaitan Regresi Logistik dan Neural Network/Deep Learning\n",
    "\n",
    "<img alt=\"\" src=\"images/logReg_NN_DL.png\" />"
   ]
  },
  {
   "cell_type": "markdown",
   "metadata": {},
   "source": [
    "<img alt=\"\" src=\"images/Fungsi_Sigmoid.png\" />"
   ]
  },
  {
   "cell_type": "markdown",
   "metadata": {},
   "source": [
    "## Logistic Linear Regression\n",
    "\n",
    "<p><img alt=\"\" src=\"images/LogReg_When2use.png\" /></p>\n"
   ]
  },
  {
   "cell_type": "markdown",
   "metadata": {},
   "source": [
    "# Over Fitting?\n",
    "\n",
    "\n",
    "<p><img alt=\"\" src=\"images/under-over_Fitting.jpg\" /></p>"
   ]
  },
  {
   "cell_type": "markdown",
   "metadata": {},
   "source": [
    "<p><img alt=\"\" src=\"images/sweet_spot.png\" /></p>"
   ]
  },
  {
   "cell_type": "markdown",
   "metadata": {},
   "source": [
    "<h2 id=\"Regularization\">Regularization</h2>\n",
    "\n",
    "* Misal $\\beta$ ==> $w$\n",
    "* Di perumusan regresi logistik awal, ada kemungkinan beta akan selalu positif dan besar (walau mungkin variabelnya kurang/tidak signifikan menerangkan variabel target ~ y).\n",
    "* Untuk mencegah hal ini (~over fitting), model supervised learning (klasifikasi) menggunakan teknik regulerisasi.\n",
    "* Konsep Regularisasi tidak hanya digunakan dalam regresi logistik, namun juga model lain seperti SVM, JST, Deep Learning, dll.\n",
    "* Memahami konsep ini akan sangat bermanfaat di Data Science.\n",
    "* Misal E(w) adalah fungsi error/loss function yang sudah kita sebelumnya dan $t_n$ adalah nilai sesungguhnya, maka regulerisasi dilakukan dengan mengoptimalkan fungsi berikut ini:\n",
    "\n",
    "<p><img alt=\"\" src=\"images/L2_regularization_LogReg.png\" /></p>"
   ]
  },
  {
   "cell_type": "markdown",
   "metadata": {},
   "source": [
    "# Diskusi\n",
    "\n",
    "* Regresi Logistik tidak dapat mengolah data yang mengandung \"missing values\"/null, mengapa?\n",
    "* Jika kita merubah persamaannya (misal dengan mencoba berbagai transformasi variabel) sedemikian sehingga didapatkan model yang sedikit lebih baik (akurasinya) dibandingkan model yang lebih sederhana, apakah kita akan menggunakan model tersebut? Mengapa?\n",
    "* Seperti regresi linear, apakah kita perlu standarisasi/scaling data?"
   ]
  },
  {
   "cell_type": "markdown",
   "metadata": {},
   "source": [
    "# Contoh Aplikasi\n",
    "\n",
    "* Data klasifikasi bunga Iris sebagai studi kasus sederhana\n",
    "* Link data: https://archive.ics.uci.edu/ml/datasets/iris\n",
    "* Paper sumber data: Fisher,R.A. \"The use of multiple measurements in taxonomic problems\" Annual Eugenics, 7, Part II, 179-188 (1936); also in \"Contributions to Mathematical Statistics\" (John Wiley, NY, 1950). \n",
    "* Masalah klasifikasinya adalah mengklasifikasikan jenis Bunga Iris berdasarkan bentuk (e.g. panjang dan lebar) bunga."
   ]
  },
  {
   "cell_type": "code",
   "execution_count": null,
   "metadata": {},
   "outputs": [],
   "source": [
    "try:\n",
    "    df = pd.read_excel('data/iris.xls', sheet_name='Sheet1')# Load \"sheet_1\" di Excell\n",
    "except:\n",
    "    !wget https://github.com/taufikedys/tau-data/blob/master/data/iris.xls # \"Google Colab\"\n",
    "    df = pd.read_excel('iris.xls', sheet_name='Sheet1')\n",
    "\n",
    "df.info()"
   ]
  },
  {
   "cell_type": "code",
   "execution_count": null,
   "metadata": {},
   "outputs": [],
   "source": [
    "df.head()"
   ]
  },
  {
   "cell_type": "code",
   "execution_count": null,
   "metadata": {},
   "outputs": [],
   "source": [
    "df.describe()"
   ]
  },
  {
   "cell_type": "code",
   "execution_count": null,
   "metadata": {},
   "outputs": [],
   "source": [
    "# Data ini bukan murni Binary Classification\n",
    "# Kita akan ambil sebagiannya untuk menjadikannya masalah binary classification\n",
    "print(set(df['SPECIES'].values))\n",
    "# Bentuk data binary dari sini menggunakan teknik di Modul 03: EDA\n",
    "# Disimpan dalam variabel baru \"df_bin\"\n",
    "df_bin = df[df[\"SPECIES\"].isin([1,2]) ]\n",
    "set(df_bin['SPECIES'].values)"
   ]
  },
  {
   "cell_type": "code",
   "execution_count": null,
   "metadata": {},
   "outputs": [],
   "source": [
    "df_bin.sample(7)"
   ]
  },
  {
   "cell_type": "markdown",
   "metadata": {},
   "source": [
    "# Pisahkan menjadi training dan Test Data seperti sebelumnya"
   ]
  },
  {
   "cell_type": "code",
   "execution_count": null,
   "metadata": {},
   "outputs": [],
   "source": [
    "X_train, X_test, y_train, y_test = train_test_split(df_bin[['SEPALLEN', 'SEPALWID','PETALLEN','PETALWID']], df_bin['SPECIES'], test_size=0.5, random_state=99)\n",
    "print(X_train.shape, X_test.shape)"
   ]
  },
  {
   "cell_type": "markdown",
   "metadata": {},
   "source": [
    "# Pemodelan Regresi Logistik menggunakan Python (module SciKit-Learn)"
   ]
  },
  {
   "cell_type": "code",
   "execution_count": null,
   "metadata": {},
   "outputs": [],
   "source": [
    "clf = LogisticRegression().fit(X_train, y_train)"
   ]
  },
  {
   "cell_type": "markdown",
   "metadata": {},
   "source": [
    "# Prediksi ke data Test"
   ]
  },
  {
   "cell_type": "code",
   "execution_count": null,
   "metadata": {},
   "outputs": [],
   "source": [
    "y_reglog = clf.predict(X_test)\n",
    "y_reglog"
   ]
  },
  {
   "cell_type": "markdown",
   "metadata": {},
   "source": [
    "# Seberapa \"baik\" prediksi ini? = Akurasi/Evaluasi Model"
   ]
  },
  {
   "cell_type": "code",
   "execution_count": null,
   "metadata": {},
   "outputs": [],
   "source": [
    "accuracy_score(y_test, y_reglog)"
   ]
  },
  {
   "cell_type": "markdown",
   "metadata": {},
   "source": [
    "# contoh data lain: Data Klasifikasi Kanker\n",
    "\n",
    "* Dapat diunduh dari link ini: https://goo.gl/U2Uwz2\n",
    "* Link scikit utk datanya: https://scikit-learn.org/stable/modules/generated/sklearn.datasets.load_breast_cancer.html#sklearn.datasets.load_breast_cancer"
   ]
  },
  {
   "cell_type": "code",
   "execution_count": null,
   "metadata": {},
   "outputs": [],
   "source": [
    "data = load_breast_cancer()\n",
    "print(type(data))\n",
    "X = data.data\n",
    "print(type(X), X.shape)\n",
    "X[:3]"
   ]
  },
  {
   "cell_type": "code",
   "execution_count": null,
   "metadata": {},
   "outputs": [],
   "source": [
    "Y = data.target\n",
    "print(type(Y), Y.shape)\n",
    "print(data.target_names)\n",
    "Y[-10:]"
   ]
  },
  {
   "cell_type": "code",
   "execution_count": null,
   "metadata": {},
   "outputs": [],
   "source": [
    "X_train, X_test, y_train, y_test = train_test_split(X, Y, test_size=0.5, random_state=99)\n",
    "print(X_train.shape, X_test.shape)"
   ]
  },
  {
   "cell_type": "code",
   "execution_count": null,
   "metadata": {},
   "outputs": [],
   "source": [
    "clf = LogisticRegression().fit(X_train, y_train)\n",
    "y_reglog = clf.predict(X_test)\n",
    "accuracy_score(y_test, y_reglog)\n",
    "# Masih \"mudah\", namun lebih baik dari sebelumnya"
   ]
  },
  {
   "cell_type": "code",
   "execution_count": null,
   "metadata": {},
   "outputs": [],
   "source": [
    "# Persamaannya? (ada 30 variabel)\n",
    "clf.coef_"
   ]
  },
  {
   "cell_type": "markdown",
   "metadata": {},
   "source": [
    "# Metric Evaluasi yang lain\n",
    "\n",
    "<p><img alt=\"\" src=\"images/6_Evaluasi_ML.JPG\" /></p>\n",
    "\n",
    "## http://scikit-learn.org/stable/modules/model_evaluation.html"
   ]
  },
  {
   "cell_type": "markdown",
   "metadata": {},
   "source": [
    "<h2 id=\"Confusion-Matrix\">Confusion Matrix</h2>\n",
    "\n",
    "<p><img alt=\"\" src=\"images/confusion_matrix.png\" /></p>\n",
    "\n",
    "<ul>\n",
    "\t<li>sensitivity, recall, hit rate, or true positive rate (TPR)</li>\n",
    "\t<li>precision or positive predictive value (PPV)</li>\n",
    "</ul>\n",
    "\n",
    "[image source: https://en.wikipedia.org/wiki/Confusion_matrix ]"
   ]
  },
  {
   "cell_type": "markdown",
   "metadata": {},
   "source": [
    "<p><img alt=\"\" src=\"images/FP-FN_Meme.jpg\" /></p>\n",
    "\n",
    "[image source: https://communitymedicine4asses.com/2014/04/01/fooled-type-i-error-and-type-ii-error/ ]"
   ]
  },
  {
   "cell_type": "markdown",
   "metadata": {},
   "source": [
    "<p><img alt=\"\" src=\"images/ex-F1-Score.png\" /></p>\n",
    "* Yang mana kategori yang \"positif\"?"
   ]
  },
  {
   "cell_type": "markdown",
   "metadata": {},
   "source": [
    "<p><img alt=\"\" src=\"images/F-beta-Score.png\" /></p>\n",
    "\n",
    "* $0\\leq F\\leq 1$, 1 optimal value\n",
    "* $0\\leq\\beta< \\inf$\n",
    "* beta < 1 lends more weight to precision, \n",
    "* beta > 1 favors recall \n",
    "* beta -> 0 considers only precision \n",
    "* beta -> inf only recall"
   ]
  },
  {
   "cell_type": "markdown",
   "metadata": {},
   "source": [
    "# Aplikasi di Python untuk metrics diatas:"
   ]
  },
  {
   "cell_type": "code",
   "execution_count": null,
   "metadata": {},
   "outputs": [],
   "source": [
    "print('presisi = ', precision_score(y_test, y_reglog))\n",
    "print('Recall = ', recall_score(y_test, y_reglog))\n",
    "print('f1_score = ', f1_score(y_test, y_reglog))"
   ]
  },
  {
   "cell_type": "markdown",
   "metadata": {},
   "source": [
    "# Atau"
   ]
  },
  {
   "cell_type": "code",
   "execution_count": null,
   "metadata": {},
   "outputs": [],
   "source": [
    "print(confusion_matrix(y_test, y_reglog))\n",
    "print(classification_report(y_test, y_reglog))"
   ]
  },
  {
   "cell_type": "markdown",
   "metadata": {},
   "source": [
    "# AUC (Area Under The Curve) ROC (Receiver Operating Characteristics)\n",
    "\n",
    "<img alt=\"\" src=\"images/roc_curves.svg\" />\n",
    "\n",
    "[image Source : https://frnsys.com/ai_notes/machine_learning/model_selection.html ]\n",
    "\n",
    "Read More:\n",
    "* https://towardsdatascience.com/understanding-auc-roc-curve-68b2303cc9c5\n",
    "* https://machinelearningmastery.com/roc-curves-and-precision-recall-curves-for-classification-in-python/"
   ]
  },
  {
   "cell_type": "code",
   "execution_count": null,
   "metadata": {},
   "outputs": [],
   "source": [
    "y_pred_proba = clf.predict_proba(X_test)[::,1]\n",
    "fpr, tpr, _ = metrics.roc_curve(y_test,  y_pred_proba)\n",
    "auc = metrics.roc_auc_score(y_test, y_pred_proba)\n",
    "plt.plot(fpr,tpr,label=\"data 1, auc=\"+str(auc))\n",
    "plt.legend(loc=4)\n",
    "plt.show()"
   ]
  },
  {
   "cell_type": "markdown",
   "metadata": {},
   "source": [
    "# Evaluasi yang kita lakukan belum cukup valid/objektif ... Mengapa?"
   ]
  },
  {
   "cell_type": "markdown",
   "metadata": {},
   "source": [
    "<h1>Cross Validation</h1>\n",
    "\n",
    "<img alt=\"\" src=\"images/6_Cross_validation.png\" />"
   ]
  },
  {
   "cell_type": "code",
   "execution_count": null,
   "metadata": {},
   "outputs": [],
   "source": [
    "# Cross validation\n",
    "# Perhatikan variabelnya, kita sekarang menggunakan seluruh data\n",
    "# http://scikit-learn.org/stable/modules/generated/sklearn.model_selection.cross_val_score.html\n",
    "mulai = time.time()\n",
    "scores_regLog = cross_val_score(clf, X, Y, cv=10) # perhatikan sekarang kita menggunakan seluruh data\n",
    "waktu = time.time() - mulai\n",
    "# Interval Akurasi 95 CI \n",
    "print(\"Accuracy Regresi Logistik: %0.2f (+/- %0.2f), Waktu = %0.3f detik\" % (scores_regLog.mean(), scores_regLog.std() * 2, waktu))"
   ]
  },
  {
   "cell_type": "code",
   "execution_count": null,
   "metadata": {},
   "outputs": [],
   "source": [
    "df = pd.DataFrame({'Regresi Logistik':scores_regLog})\n",
    "sns.boxplot(data=df)\n",
    "plt.show()"
   ]
  },
  {
   "cell_type": "markdown",
   "metadata": {},
   "source": [
    "# Regresi Logistik untuk Multiclass Classification?\n",
    "\n",
    "## Salah satu caranya: One Versus All (OVA) Approach\n",
    "\n",
    "<p><img alt=\"\" src=\"images/ova.png\" /></p>\n",
    "\n",
    "## Aplikasi di Python?"
   ]
  },
  {
   "cell_type": "code",
   "execution_count": null,
   "metadata": {},
   "outputs": [],
   "source": [
    "X, y = load_iris(return_X_y=True)\n",
    "set(y) # 3 Kategori"
   ]
  },
  {
   "cell_type": "code",
   "execution_count": null,
   "metadata": {},
   "outputs": [],
   "source": [
    "X.shape # 4 variabel, 150 baris"
   ]
  },
  {
   "cell_type": "code",
   "execution_count": null,
   "metadata": {},
   "outputs": [],
   "source": [
    "clf = LogisticRegression(multi_class='ovr').fit(X, y)\n",
    "clf.coef_\n",
    "# Perhatikan ada 3 persamaan"
   ]
  },
  {
   "cell_type": "markdown",
   "metadata": {},
   "source": [
    "# <center><font color=\"blue\"> End of Module Korelasi-Regresi-Logistik\n",
    "\n",
    "<hr />\n",
    "<img alt=\"\" src=\"images/meme_04_regression.png\"/>"
   ]
  }
 ],
 "metadata": {
  "celltoolbar": "Slideshow",
  "kernelspec": {
   "display_name": "Python 3",
   "language": "python",
   "name": "python3"
  },
  "language_info": {
   "codemirror_mode": {
    "name": "ipython",
    "version": 3
   },
   "file_extension": ".py",
   "mimetype": "text/x-python",
   "name": "python",
   "nbconvert_exporter": "python",
   "pygments_lexer": "ipython3",
   "version": "3.6.8"
  }
 },
 "nbformat": 4,
 "nbformat_minor": 2
}
