{
 "cells": [
  {
   "cell_type": "markdown",
   "metadata": {
    "slideshow": {
     "slide_type": "slide"
    }
   },
   "source": [
    "<h2 id=\"Metode-NumerikPendahuluan-Analisis-Error-\" style=\"text-align: center;\"><strong>Metode Numerik</strong><br /><strong><span style=\"color: blue;\">Pendahuluan Analisis Error </span></strong><br /><img style=\"height: 200px;\" src=\"images/MetNum.png\" alt=\"\" /></h2>\n",
    "<h2 id=\"(C)-Taufik-Sutanto---2019\" style=\"text-align: center;\">(C) Taufik Sutanto - 2019</h2>\n",
    "<h2 id=\"tau-data-Indonesia-~-https://tau-data.id\" style=\"text-align: center;\">tau-data Indonesia ~ <a href=\"https://tau-data.id\" target=\"_blank\"><span style=\"color: #0009ff;\">https://tau-data.id</span></a></h2>"
   ]
  },
  {
   "cell_type": "markdown",
   "metadata": {
    "slideshow": {
     "slide_type": "slide"
    }
   },
   "source": [
    "<p><strong><big>III. Analisa Error:</big></strong></p>\n",
    "\n",
    "<ol>\n",
    "\t<li>Bilangan Binari</li>\n",
    "\t<li>Floating Point</li>\n",
    "\t<li>Error Absolut VS&nbsp;Relatif</li>\n",
    "\t<li>Significant digits</li>\n",
    "\t<li>Truncation VS Round Error</li>\n",
    "\t<li>Cancellation</li>\n",
    "\t<li>Order of Approximation &amp; Convergence</li>\n",
    "\t<li>Propagation Error</li>\n",
    "</ol>\n"
   ]
  },
  {
   "cell_type": "code",
   "execution_count": 1,
   "metadata": {},
   "outputs": [
    {
     "data": {
      "text/plain": [
       "float"
      ]
     },
     "execution_count": 1,
     "metadata": {},
     "output_type": "execute_result"
    }
   ],
   "source": [
    "x = 0.1\n",
    "type(x)"
   ]
  },
  {
   "cell_type": "markdown",
   "metadata": {},
   "source": [
    "<p><img alt=\"\" src=\"images/Binary2Decimal.png\" style=\"width: 587px; height: 281px;\" /></p>\n"
   ]
  },
  {
   "cell_type": "markdown",
   "metadata": {},
   "source": [
    "<p><img alt=\"\" src=\"images/Decimal2Binary.jpg\" style=\"width: 500px; height: 375px;\" /></p>\n"
   ]
  },
  {
   "cell_type": "markdown",
   "metadata": {},
   "source": [
    "<p><img alt=\"\" src=\"images/Fraction2Binary.jpg\" style=\"width: 500px; height: 375px;\" /></p>\n"
   ]
  },
  {
   "cell_type": "markdown",
   "metadata": {},
   "source": [
    "<h1 id=\"Practice\"><u>Practice</u></h1>\n",
    "\n",
    "<h2 id=\"Convert-$(5.1)_{10}$-to-binary\">Convert <span class=\"MathJax_Preview\" style=\"color: inherit;\"><span class=\"MJXp-math\" id=\"MJXp-Span-64\"><span class=\"MJXp-mo\" id=\"MJXp-Span-65\" style=\"margin-left: 0em; margin-right: 0em;\">(</span><span class=\"MJXp-mn\" id=\"MJXp-Span-66\">5.1</span><span class=\"MJXp-msubsup\" id=\"MJXp-Span-67\"><span class=\"MJXp-mo\" id=\"MJXp-Span-68\" style=\"margin-left: 0em; margin-right: 0.05em;\">)</span><span class=\"MJXp-mrow MJXp-script\" id=\"MJXp-Span-69\" style=\"vertical-align: -0.4em;\"><span class=\"MJXp-mn\" id=\"MJXp-Span-70\">10</span></span></span></span></span><script type=\"math/tex\" id=\"MathJax-Element-13\">(5.1)_{10}</script> to binary</h2>\n"
   ]
  },
  {
   "cell_type": "markdown",
   "metadata": {},
   "source": [
    "# Why learning the base of numbers important in Numerical methods?\n",
    "## Let's calculate this:using computer (Python)\n",
    "# $\\sum_{n=1}^{10^6}0.1$\n",
    "## What is the expected result?"
   ]
  },
  {
   "cell_type": "code",
   "execution_count": 2,
   "metadata": {
    "ExecuteTime": {
     "end_time": "2019-09-26T07:10:38.841863Z",
     "start_time": "2019-09-26T07:10:38.823878Z"
    }
   },
   "outputs": [],
   "source": [
    "from tqdm import tqdm_notebook as tqdm"
   ]
  },
  {
   "cell_type": "code",
   "execution_count": 3,
   "metadata": {
    "ExecuteTime": {
     "end_time": "2019-09-26T07:10:41.250422Z",
     "start_time": "2019-09-26T07:10:40.818133Z"
    }
   },
   "outputs": [
    {
     "data": {
      "application/vnd.jupyter.widget-view+json": {
       "model_id": "7cea2eecb89b4229a77734f868393fc3",
       "version_major": 2,
       "version_minor": 0
      },
      "text/plain": [
       "HBox(children=(IntProgress(value=0, max=1000000), HTML(value='')))"
      ]
     },
     "metadata": {},
     "output_type": "display_data"
    },
    {
     "name": "stdout",
     "output_type": "stream",
     "text": [
      "\n",
      "100000.00000133288\n"
     ]
    }
   ],
   "source": [
    "# Here is the result according to Python\n",
    "dSum = 0 \n",
    "for i in tqdm(range(10**6)): # ini artinya for i dari 0 sampai (10^6)-1\n",
    "    dSum = dSum + 0.1 # or \"dSum += 0.1\"\n",
    "print(dSum)\n",
    "# is the result correct? Why?"
   ]
  },
  {
   "cell_type": "markdown",
   "metadata": {},
   "source": [
    "<h1>Computer can&#39;t store Real Numbers!, it store &quot;floating point&quot; number</h1>\n",
    "<img alt=\"\" src=\"images/floating_points.png\" style=\"width: 517px; height: 189px;\" />"
   ]
  },
  {
   "cell_type": "markdown",
   "metadata": {},
   "source": [
    "<h1 id=\"Bilangan-floating-point-tidak-tersebar-merata-di-garis-bilangan\">Bilangan floating point tidak tersebar merata di garis bilangan</h1>\n",
    "\n",
    "<p><img alt=\"\" src=\"images/Sebaran_floating_points.png\" style=\"width: 500px; height: 329px;\" /></p>"
   ]
  },
  {
   "cell_type": "code",
   "execution_count": 4,
   "metadata": {},
   "outputs": [
    {
     "data": {
      "text/plain": [
       "sys.float_info(max=1.7976931348623157e+308, max_exp=1024, max_10_exp=308, min=2.2250738585072014e-308, min_exp=-1021, min_10_exp=-307, dig=15, mant_dig=53, epsilon=2.220446049250313e-16, radix=2, rounds=1)"
      ]
     },
     "execution_count": 4,
     "metadata": {},
     "output_type": "execute_result"
    }
   ],
   "source": [
    "# System floating point di Python\n",
    "import sys\n",
    "sys.float_info"
   ]
  },
  {
   "cell_type": "markdown",
   "metadata": {},
   "source": [
    "<p><img alt=\"\" src=\"images/Float_Info.PNG\" style=\"width: 550px; height: 406px;\" /></p>\n"
   ]
  },
  {
   "cell_type": "code",
   "execution_count": 5,
   "metadata": {},
   "outputs": [
    {
     "name": "stdout",
     "output_type": "stream",
     "text": [
      "inf\n",
      "1.0\n"
     ]
    }
   ],
   "source": [
    "# Testing it out\n",
    "x = 1.7976931348623157e+308\n",
    "print(x*2) # OverFlow\n",
    "e = 2.120446049250313e-17 # underflow < e < Epsilon\n",
    "print(1+e)"
   ]
  },
  {
   "cell_type": "markdown",
   "metadata": {},
   "source": [
    "<h1>Perhatikan:</h1>\n",
    "\n",
    "<h1>Karena ini deret harmonik ($\\sum_{i=1}^\\inf 1/i$) di komputer konvergen dan penjumlahan tidak bersifat asosiatif. Why????....</h1>\n"
   ]
  },
  {
   "cell_type": "markdown",
   "metadata": {},
   "source": [
    "<h1 id=\"Tapi-jika-pakai-modul-&quot;Numpy&quot;\">Tapi jika pakai modul &quot;Numpy&quot;</h1>\n",
    "\n",
    "<p><a href=\"https://docs.scipy.org/doc/numpy/user/basics.types.html\" target=\"_blank\">https://docs.scipy.org/doc/numpy/user/basics.types.html</a></p>\n",
    "\n",
    "<p><img alt=\"\" src=\"images/Numpy_Types.png\" style=\"width: 500px; height: 363px;\" /></p>\n"
   ]
  },
  {
   "cell_type": "markdown",
   "metadata": {},
   "source": [
    "<p><img alt=\"\" src=\"images/Scientific_Notations.png\" style=\"width: 284px; height: 205px;\" /></p>\n"
   ]
  },
  {
   "cell_type": "code",
   "execution_count": 8,
   "metadata": {},
   "outputs": [
    {
     "data": {
      "text/plain": [
       "3.141592653589793"
      ]
     },
     "execution_count": 8,
     "metadata": {},
     "output_type": "execute_result"
    }
   ],
   "source": [
    "import math\n",
    "math.pi"
   ]
  },
  {
   "cell_type": "markdown",
   "metadata": {},
   "source": [
    "<p><img alt=\"\" src=\"images/Abs_Rel_Errors.png\" style=\"width: 550px; height: 367px;\" /></p>\n"
   ]
  },
  {
   "cell_type": "markdown",
   "metadata": {},
   "source": [
    "<h1 id=\"Diskusi\">Diskusi</h1>\n",
    "\n",
    "<ol>\n",
    "\t<li>Apa perbedaan error absolut dan relatif?</li>\n",
    "\t<li>Bilamana error yang satu lebih cocok digunakan dibandingkan error yang lain?<br />\n",
    "\tMisal error absolut better than relatif atau sebaliknya.</li>\n",
    "\t<li>Bolehkah menghitung error dengan cara lain?&nbsp;</li>\n",
    "</ol>\n"
   ]
  },
  {
   "cell_type": "markdown",
   "metadata": {},
   "source": [
    "<h1 id=\"Latihan\"><u>Latihan</u></h1>\n",
    "\n",
    "<h2>Jika sin(3) dihitung dengan menggunakan deret McLaurin (5 suku), tentukan error absolute dan relatifnya. &quot;<strong>Asumsikan</strong>&quot; nilai sinus dari kalkulator atau program sebagai nilai sejatinya.&nbsp;</h2>\n",
    "\n",
    "<p><img alt=\"\" src=\"images/McLaurin_Series.jpg\" style=\"width: 400px; height: 117px;\" /></p>\n"
   ]
  },
  {
   "cell_type": "code",
   "execution_count": 6,
   "metadata": {},
   "outputs": [
    {
     "name": "stdout",
     "output_type": "stream",
     "text": [
      "Nilai eksak =  0.1411200080598672  *Assumed\n",
      "Nilai pendekatan =  0.09107142857142847\n",
      "Error Absolut =  0.050048579488438744\n",
      "Error Relatif =  0.3546526121739355\n"
     ]
    }
   ],
   "source": [
    "# Dengan Python\n",
    "import math\n",
    "x = 3\n",
    "Y_real = math.sin(x)\n",
    "Y_cap = x - (x**3/math.factorial(3)) + (x**5/math.factorial(5))-(x**7/math.factorial(7))\n",
    "print('Nilai eksak = ',Y_real,' *Assumed')\n",
    "print('Nilai pendekatan = ',Y_cap)\n",
    "print('Error Absolut = ', abs(Y_real-Y_cap))\n",
    "print('Error Relatif = ', abs(Y_real-Y_cap)/abs(Y_real))\n",
    "# Be critical ... apa kekurangan dari menghitunng fungsi sinus dengan deret ini?"
   ]
  },
  {
   "cell_type": "markdown",
   "metadata": {},
   "source": [
    "<h1 id=\"Calculating-Significant-Digits\">Calculating Significant Digits</h1>\n",
    "\n",
    "<p>Given a relative error&nbsp;<i>E</i><sub>rel</sub>, find the largest integer&nbsp;<i>n</i>&nbsp;such that&nbsp;<i>E</i><sub>rel</sub>&nbsp;&lt; 0.5 10<sup>-n</sup></p>\n",
    "\n",
    "<ol>\n",
    "\t<li> \n",
    "\tWhat is the number of significant digits of the approximation 3.14 to the value &pi;?\n",
    "\t<p><i>E</i><sub>rel</sub>&nbsp;= |3.14 - &pi;|/|&pi;| &asymp; 0.00051 &le; 0.005 = 0.5 &sdot; 10<sup>-2</sup>, and therefore it is correct to two significant digits.</p>\n",
    "\t</li>\n",
    "\t<li>\n",
    "\t<p>What is the number of significant digits of the label 240 &Omega; when the correct value is 243.32753 &Omega;?</p>\n",
    "\t</li>\n",
    "    <li>\n",
    "\t<p>E<sub>rel</sub>&nbsp;= |240 - 243.32753|/|243.32753| &asymp; 0.014 &le; 0.05 = 0.5 &sdot; 10<sup>-1</sup>, and therefore it is correct to one significant digit.</p>\n",
    "\t</li>\n",
    "\t<li>\n",
    "\t<p>To how many significant digits is the approximation 1.998532 when the actual value is 2.001959?</p>\n",
    "        \n",
    "        \n",
    " <p>E<sub>rel</sub>&nbsp;= |1.998532 - 2.001959|/|2.001959| &asymp; 0.0017 &le; 0.005 = 0.5 &sdot; 10<sup>-2</sup>&nbsp;and therefore it is correct to two digits.</p>"
   ]
  },
  {
   "cell_type": "markdown",
   "metadata": {},
   "source": [
    "<h1>Latihan:</h1>\n",
    "\n",
    "<ol>\n",
    "\t<li>To how many significant digits does 22/7 approximate &pi;?</li>\n",
    "\t<li>To how many significant digits does 355/113 approximate pi &pi;?</li>\n",
    "</ol>\n"
   ]
  },
  {
   "cell_type": "code",
   "execution_count": 10,
   "metadata": {},
   "outputs": [
    {
     "data": {
      "text/plain": [
       "1.698273575348122e-07"
      ]
     },
     "execution_count": 10,
     "metadata": {},
     "output_type": "execute_result"
    }
   ],
   "source": [
    "pi = math.pi\n",
    "rel_error = abs(355/113 - pi)/pi\n",
    "rel_error*2"
   ]
  },
  {
   "cell_type": "code",
   "execution_count": 11,
   "metadata": {},
   "outputs": [
    {
     "name": "stdout",
     "output_type": "stream",
     "text": [
      "6\n"
     ]
    }
   ],
   "source": [
    "# Menentukan Significant Digits Menggunakan Python\n",
    "relatif_error = rel_error #0.0036\n",
    "significant_digits = int( -math.log10( relatif_error / 0.5 ) )\n",
    "print(significant_digits)"
   ]
  },
  {
   "cell_type": "markdown",
   "metadata": {},
   "source": [
    "<p><img alt=\"\" src=\"images/truncation_error.png\" style=\"width: 530px; height: 341px;\" /></p>\n"
   ]
  },
  {
   "cell_type": "markdown",
   "metadata": {},
   "source": [
    "<p><img alt=\"\" src=\"images/Truncation_error_example.PNG\" style=\"width: 550px; height: 187px;\" /></p>\n"
   ]
  },
  {
   "cell_type": "markdown",
   "metadata": {},
   "source": [
    "<h1 id=\"Rounding-error-memiliki-error-≤5\">Rounding error memiliki error <span class=\"MathJax_Preview\" style=\"color: inherit\"><span class=\"MJXp-math\" id=\"MJXp-Span-207\"><span class=\"MJXp-mo\" id=\"MJXp-Span-208\" style=\"margin-left: 0.333em ; margin-right: 0.333em\">&le;</span><span class=\"MJXp-mn\" id=\"MJXp-Span-209\">5</span></span></span></h1>\n",
    "\n",
    "<p>Misal: <span class=\"MathJax_Preview\" style=\"color: inherit;\"><span class=\"MJXp-math\" id=\"MJXp-Span-235\"><span class=\"MJXp-mi MJXp-italic\" id=\"MJXp-Span-236\">x</span><span class=\"MJXp-mo\" id=\"MJXp-Span-237\" style=\"margin-left: 0.333em; margin-right: 0.333em;\">=</span><span class=\"MJXp-mn\" id=\"MJXp-Span-238\">77.561</span></span></span><script type=\"math/tex\" id=\"MathJax-Element-44\">x = 77.561</script> maka <span class=\"MathJax_Preview\" style=\"color: inherit;\"><span class=\"MJXp-math\" id=\"MJXp-Span-239\"><span class=\"MJXp-mrow\" id=\"MJXp-Span-240\"><span class=\"MJXp-munderover\" id=\"MJXp-Span-241\"><span><span class=\"MJXp-over\"><span style=\"margin-bottom: -1.17em;\"><span class=\"MJXp-mo\" id=\"MJXp-Span-243\" style=\"margin-left: 0px; margin-right: 0px;\">ˉ</span></span><span><span class=\"MJXp-mi MJXp-italic\" id=\"MJXp-Span-242\">x</span></span></span></span></span></span><span class=\"MJXp-mo\" id=\"MJXp-Span-244\" style=\"margin-left: 0.333em; margin-right: 0.333em;\">=</span><span class=\"MJXp-mn\" id=\"MJXp-Span-245\">77.6</span></span></span><script type=\"math/tex\" id=\"MathJax-Element-45\">\\bar x=77.6</script></p>\n",
    "\n",
    "\n",
    "<p>Tapi bagaimana dengan 0.5? (misal 77.5)</p>\n"
   ]
  },
  {
   "cell_type": "markdown",
   "metadata": {},
   "source": [
    "<p><img alt=\"\" src=\"images/Rounding_half.PNG\" style=\"width: 550px; height: 425px;\" /></p>\n"
   ]
  },
  {
   "cell_type": "markdown",
   "metadata": {},
   "source": [
    "<h1 id=\"Cancellation-Error\">Cancellation Error</h1>\n",
    "\n",
    "<p>(1+eps)-(1-eps)= 1-1=0</p>\n",
    "\n",
    "<p>Padahal seharusnya hasil 2*eps masih bisa dihandel mesin, namun hasil ini hilang.</p>\n",
    "\n",
    "<p>Contoh nyata, pada deret $e^x=1+x+x2/2!+x3/3!+ ... $</p>\n",
    "\n",
    "<p>Untuk x&lt;0</p>\n",
    "\n",
    "<p>Contoh lain yang terkenal adalah solusi &quot;kecap&quot; penyelesaian polinomial (jika $b^2$ ~ 4ac)</p>\n"
   ]
  },
  {
   "cell_type": "markdown",
   "metadata": {},
   "source": [
    "<p><img alt=\"\" src=\"images/other_example_Cancellation_Error.png\" style=\"width: 550px; height: 376px;\" />Contoh Lain</p>\n"
   ]
  },
  {
   "cell_type": "markdown",
   "metadata": {},
   "source": [
    "<h1>Order of Approximation (Big-Oh):</h1>\n",
    "\n",
    "<p><img alt=\"\" src=\"images/big-oh.png\" style=\"width: 752px; height: 96px;\" /></p>\n",
    "Contoh $f(h) = 2h^3 + 77$ adalah $O(h^3)$ atau $O(h^5)$, tapi bukan $O(h^2)$\n",
    "Why?"
   ]
  },
  {
   "cell_type": "markdown",
   "metadata": {},
   "source": [
    "<h1 id=\"Contoh-Aplikasi\">Contoh Aplikasi</h1>\n",
    "\n",
    "<p><img alt=\"\" src=\"images/Deret_Taylor.png\" style=\"width: 400px; height: 232px;\" /></p>\n"
   ]
  },
  {
   "cell_type": "markdown",
   "metadata": {},
   "source": [
    "<h1 id=\"Perhatikan-:\">Perhatikan :</h1>\n",
    "\n",
    "<p>Order of convergence maupun Deret Taylor tidak memberikan nilai eksak errornya. Hanya perkiraan &quot;order&quot;/besaran error akibat penggunaan m jumlah suku dari deretnya. Dengan kata lain nilai c cuma dipastikan ada pada suatu interval, tapi tidak tau nilai pastinya.</p>\n",
    "\n",
    "<p>&nbsp;</p>\n",
    "\n",
    "<p>Lihat contoh lain di buku atau sumber lain di internet.</p>\n"
   ]
  },
  {
   "cell_type": "markdown",
   "metadata": {},
   "source": [
    "## Order of Convergence\n",
    "<p><img alt=\"\" src=\"images/Order_of_Convergence.PNG\" style=\"width: 600px; height: 290px;\" /></p>\n"
   ]
  },
  {
   "cell_type": "markdown",
   "metadata": {},
   "source": [
    "# Contoh Lain?"
   ]
  },
  {
   "cell_type": "markdown",
   "metadata": {},
   "source": [
    "Video Source: https://www.youtube.com/watch?v=8IfiTOhvnPM\n",
    "\n",
    "<video controls src=\"images/001 Errors and error propagation - YouTube.MP4\" />"
   ]
  },
  {
   "cell_type": "markdown",
   "metadata": {},
   "source": [
    "<h1>End of Week III</h1>\n",
    "\n",
    "<hr />\n",
    "<p>&nbsp;</p>\n"
   ]
  },
  {
   "cell_type": "code",
   "execution_count": 12,
   "metadata": {},
   "outputs": [
    {
     "data": {
      "text/plain": [
       "Counter({(1, 2): 2, (3, 2): 3, (4, 9): 1})"
      ]
     },
     "execution_count": 12,
     "metadata": {},
     "output_type": "execute_result"
    }
   ],
   "source": [
    "from collections import Counter as count\n",
    "\n",
    "A = [(1,2), (1,2), (3,2), (3,2), (3,2), (4,9)]\n",
    "count(A)"
   ]
  }
 ],
 "metadata": {
  "celltoolbar": "Slideshow",
  "kernelspec": {
   "display_name": "Python 3",
   "language": "python",
   "name": "python3"
  },
  "language_info": {
   "codemirror_mode": {
    "name": "ipython",
    "version": 3
   },
   "file_extension": ".py",
   "mimetype": "text/x-python",
   "name": "python",
   "nbconvert_exporter": "python",
   "pygments_lexer": "ipython3",
   "version": "3.6.8"
  },
  "latex_envs": {
   "LaTeX_envs_menu_present": true,
   "autoclose": false,
   "autocomplete": true,
   "bibliofile": "biblio.bib",
   "cite_by": "apalike",
   "current_citInitial": 1,
   "eqLabelWithNumbers": true,
   "eqNumInitial": 1,
   "hotkeys": {
    "equation": "Ctrl-E",
    "itemize": "Ctrl-I"
   },
   "labels_anchors": false,
   "latex_user_defs": false,
   "report_style_numbering": false,
   "user_envs_cfg": false
  }
 },
 "nbformat": 4,
 "nbformat_minor": 2
}
